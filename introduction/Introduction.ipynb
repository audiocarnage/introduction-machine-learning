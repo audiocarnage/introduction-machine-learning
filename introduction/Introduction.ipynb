{
 "cells": [
  {
   "cell_type": "markdown",
   "metadata": {
    "heading_collapsed": true
   },
   "source": [
    "# Vorbereitungen"
   ]
  },
  {
   "cell_type": "markdown",
   "metadata": {
    "heading_collapsed": true,
    "hidden": true
   },
   "source": [
    "## Nützliche Jupyter Erweiterung\n",
    "https://towardsdatascience.com/jupyter-notebook-extensions-517fa69d2231"
   ]
  },
  {
   "cell_type": "markdown",
   "metadata": {
    "hidden": true
   },
   "source": [
    " - python -m pip install --trusted-host pypi.org --trusted-host files.pythonhosted.org jupyter_contrib_nbextensions\n",
    " - pip install jupyter_contrib_nbextensions && jupyter contrib nbextension install\n",
    " \n",
    " Table of Contents (2) aktivieren"
   ]
  },
  {
   "cell_type": "markdown",
   "metadata": {
    "heading_collapsed": true,
    "hidden": true
   },
   "source": [
    "## Benötigte Packages\n",
    "\n",
    " - python -m pip install --trusted-host pypi.org --trusted-host files.pythonhosted.org graphviz\n",
    " - python -m pip install --trusted-host pypi.org --trusted-host files.pythonhosted.org catboost"
   ]
  },
  {
   "cell_type": "markdown",
   "metadata": {
    "heading_collapsed": true,
    "hidden": true
   },
   "source": [
    "## Imports"
   ]
  },
  {
   "cell_type": "code",
   "execution_count": 174,
   "metadata": {
    "hidden": true,
    "hide_input": false
   },
   "outputs": [],
   "source": [
    "%matplotlib inline\n",
    "import matplotlib.pyplot as plt\n",
    "import numpy as np\n",
    "import pandas as pd\n",
    "\n",
    "#Tree zeichnen\n",
    "from sklearn.tree import export_graphviz\n",
    "import graphviz\n",
    "\n",
    "#Daten\n",
    "from sklearn.datasets import load_breast_cancer\n",
    "\n",
    "#Modelle\n",
    "from sklearn.tree import DecisionTreeClassifier\n",
    "from sklearn.ensemble import RandomForestClassifier\n",
    "from sklearn.ensemble import GradientBoostingClassifier\n",
    "from sklearn.svm import SVC\n",
    "\n",
    "#Modellbewertung\n",
    "from sklearn.metrics import classification_report\n",
    "from sklearn.metrics import confusion_matrix\n",
    "from sklearn.model_selection import cross_val_score\n",
    "\n",
    "\n",
    "#Trainings- und Testdaten trennen\n",
    "from sklearn.model_selection import train_test_split\n",
    "\n",
    "#Bilder\n",
    "from IPython.display import Image\n",
    "\n",
    "# Data preprocessing\n",
    "from sklearn.preprocessing import LabelEncoder, OneHotEncoder\n",
    "\n",
    "# Misc\n",
    "import os\n",
    "\n",
    "\n",
    "os.environ[\"PATH\"] += os.pathsep + 'C:/Program Files (x86)/Graphviz2.38/bin/'"
   ]
  },
  {
   "cell_type": "markdown",
   "metadata": {
    "heading_collapsed": true,
    "hidden": true
   },
   "source": [
    "## Hilfsfunktionen"
   ]
  },
  {
   "cell_type": "code",
   "execution_count": 3,
   "metadata": {
    "hidden": true
   },
   "outputs": [],
   "source": [
    "def analyze_decision_tree(tree_model):\n",
    "    export_graphviz(tree_model, out_file=\"tree.dot\", class_names=[\"malignant\", \"benign\"],\n",
    "                feature_names=cancer.feature_names, impurity=False, filled=True)\n",
    "    with open(\"tree.dot\") as f:\n",
    "        dot_graph = f.read()\n",
    "        display(graphviz.Source(dot_graph))"
   ]
  },
  {
   "cell_type": "markdown",
   "metadata": {
    "heading_collapsed": true
   },
   "source": [
    "# scikit learn Bibliothek"
   ]
  },
  {
   "cell_type": "markdown",
   "metadata": {
    "hidden": true
   },
   "source": [
    "https://scikit-learn.org/stable/"
   ]
  },
  {
   "cell_type": "markdown",
   "metadata": {
    "hidden": true
   },
   "source": [
    "Prinzipieller Aufbau der API\n",
    "\n",
    " -  Model() / Modell erstellen\n",
    " -  fit(X_train, y_train) / Modell trainieren\n",
    " -  predict(X_test) / Modell für Schätzung nutzen\n",
    " -  score(X_test, y_test) / Modell evaluieren\n",
    " \n",
    " "
   ]
  },
  {
   "cell_type": "markdown",
   "metadata": {
    "heading_collapsed": true
   },
   "source": [
    "# Supervised Learning"
   ]
  },
  {
   "cell_type": "markdown",
   "metadata": {
    "heading_collapsed": true,
    "hidden": true
   },
   "source": [
    "## Classification"
   ]
  },
  {
   "cell_type": "markdown",
   "metadata": {
    "heading_collapsed": true,
    "hidden": true
   },
   "source": [
    "### Entscheidungsbaum (DecisionTreeClassifier)"
   ]
  },
  {
   "cell_type": "markdown",
   "metadata": {
    "hidden": true
   },
   "source": [
    "#### Einführungsbeispiel"
   ]
  },
  {
   "cell_type": "markdown",
   "metadata": {
    "hidden": true
   },
   "source": [
    "![Tree](images/tree.png)"
   ]
  },
  {
   "cell_type": "markdown",
   "metadata": {
    "heading_collapsed": true,
    "hidden": true
   },
   "source": [
    "## Beispieldatensatz: breast cancer \n",
    "\n",
    "https://www.shanelynn.ie/using-pandas-dataframe-creating-editing-viewing-data-in-python/"
   ]
  },
  {
   "cell_type": "markdown",
   "metadata": {
    "heading_collapsed": true,
    "hidden": true
   },
   "source": [
    "### Datensatz laden"
   ]
  },
  {
   "cell_type": "code",
   "execution_count": 4,
   "metadata": {
    "hidden": true
   },
   "outputs": [],
   "source": [
    "cancer = load_breast_cancer()"
   ]
  },
  {
   "cell_type": "code",
   "execution_count": 5,
   "metadata": {
    "hidden": true
   },
   "outputs": [
    {
     "name": "stdout",
     "output_type": "stream",
     "text": [
      ".. _breast_cancer_dataset:\n",
      "\n",
      "Breast cancer wisconsin (diagnostic) dataset\n",
      "--------------------------------------------\n",
      "\n",
      "**Data Set Characteristics:**\n",
      "\n",
      "    :Number of Instances: 569\n",
      "\n",
      "    :Number of Attributes: 30 numeric, predictive attributes and the class\n",
      "\n",
      "    :Attribute Information:\n",
      "        - radius (mean of distances from center to points on the perimeter)\n",
      "        - texture (standard deviation of gray-scale values)\n",
      "        - perimeter\n",
      "        - area\n",
      "        - smoothness (local variation in radius lengths)\n",
      "        - compactness (perimeter^2 / area - 1.0)\n",
      "        - concavity (severity of concave portions of the contour)\n",
      "        - concave points (number of concave portions of the contour)\n",
      "        - symmetry \n",
      "        - fractal dimension (\"coastline approximation\" - 1)\n",
      "\n",
      "        The mean, standard error, and \"worst\" or largest (mean of the three\n",
      "        largest values) of these features were computed for each image,\n",
      "        resulting in 30 features.  For instance, field 3 is Mean Radius, field\n",
      "        13 is Radius SE, field 23 is Worst Radius.\n",
      "\n",
      "        - class:\n",
      "                - WDBC-Malignant\n",
      "                - WDBC-Benign\n",
      "\n",
      "    :Summary Statistics:\n",
      "\n",
      "    ===================================== ====== ======\n",
      "                                           Min    Max\n",
      "    ===================================== ====== ======\n",
      "    radius (mean):                        6.981  28.11\n",
      "    texture (mean):                       9.71   39.28\n",
      "    perimeter (mean):                     43.79  188.5\n",
      "    area (mean):                          143.5  2501.0\n",
      "    smoothness (mean):                    0.053  0.163\n",
      "    compactness (mean):                   0.019  0.345\n",
      "    concavity (mean):                     0.0    0.427\n",
      "    concave points (mean):                0.0    0.201\n",
      "    symmetry (mean):                      0.106  0.304\n",
      "    fractal dimension (mean):             0.05   0.097\n",
      "    radius (standard error):              0.112  2.873\n",
      "    texture (standard error):             0.36   4.885\n",
      "    perimeter (standard error):           0.757  21.98\n",
      "    area (standard error):                6.802  542.2\n",
      "    smoothness (standard error):          0.002  0.031\n",
      "    compactness (standard error):         0.002  0.135\n",
      "    concavity (standard error):           0.0    0.396\n",
      "    concave points (standard error):      0.0    0.053\n",
      "    symmetry (standard error):            0.008  0.079\n",
      "    fractal dimension (standard error):   0.001  0.03\n",
      "    radius (worst):                       7.93   36.04\n",
      "    texture (worst):                      12.02  49.54\n",
      "    perimeter (worst):                    50.41  251.2\n",
      "    area (worst):                         185.2  4254.0\n",
      "    smoothness (worst):                   0.071  0.223\n",
      "    compactness (worst):                  0.027  1.058\n",
      "    concavity (worst):                    0.0    1.252\n",
      "    concave points (worst):               0.0    0.291\n",
      "    symmetry (worst):                     0.156  0.664\n",
      "    fractal dimension (worst):            0.055  0.208\n",
      "    ===================================== ====== ======\n",
      "\n",
      "    :Missing Attribute Values: None\n",
      "\n",
      "    :Class Distribution: 212 - Malignant, 357 - Benign\n",
      "\n",
      "    :Creator:  Dr. William H. Wolberg, W. Nick Street, Olvi L. Mangasarian\n",
      "\n",
      "    :Donor: Nick Street\n",
      "\n",
      "    :Date: November, 1995\n",
      "\n",
      "This is a copy of UCI ML Breast Cancer Wisconsin (Diagnostic) datasets.\n",
      "https://goo.gl/U2Uwz2\n",
      "\n",
      "Features are computed from a digitized image of a fine needle\n",
      "aspirate (FNA) of a breast mass.  They describe\n",
      "characteristics of the cell nuclei present in the image.\n",
      "\n",
      "Separating plane described above was obtained using\n",
      "Multisurface Method-Tree (MSM-T) [K. P. Bennett, \"Decision Tree\n",
      "Construction Via Linear Programming.\" Proceedings of the 4th\n",
      "Midwest Artificial Intelligence and Cognitive Science Society,\n",
      "pp. 97-101, 1992], a classification method which uses linear\n",
      "programming to construct a decision tree.  Relevant features\n",
      "were selected using an exhaustive search in the space of 1-4\n",
      "features and 1-3 separating planes.\n",
      "\n",
      "The actual linear program used to obtain the separating plane\n",
      "in the 3-dimensional space is that described in:\n",
      "[K. P. Bennett and O. L. Mangasarian: \"Robust Linear\n",
      "Programming Discrimination of Two Linearly Inseparable Sets\",\n",
      "Optimization Methods and Software 1, 1992, 23-34].\n",
      "\n",
      "This database is also available through the UW CS ftp server:\n",
      "\n",
      "ftp ftp.cs.wisc.edu\n",
      "cd math-prog/cpo-dataset/machine-learn/WDBC/\n",
      "\n",
      ".. topic:: References\n",
      "\n",
      "   - W.N. Street, W.H. Wolberg and O.L. Mangasarian. Nuclear feature extraction \n",
      "     for breast tumor diagnosis. IS&T/SPIE 1993 International Symposium on \n",
      "     Electronic Imaging: Science and Technology, volume 1905, pages 861-870,\n",
      "     San Jose, CA, 1993.\n",
      "   - O.L. Mangasarian, W.N. Street and W.H. Wolberg. Breast cancer diagnosis and \n",
      "     prognosis via linear programming. Operations Research, 43(4), pages 570-577, \n",
      "     July-August 1995.\n",
      "   - W.H. Wolberg, W.N. Street, and O.L. Mangasarian. Machine learning techniques\n",
      "     to diagnose breast cancer from fine-needle aspirates. Cancer Letters 77 (1994) \n",
      "     163-171.\n"
     ]
    }
   ],
   "source": [
    "print(cancer.DESCR)"
   ]
  },
  {
   "cell_type": "markdown",
   "metadata": {
    "hidden": true
   },
   "source": [
    "Wie ist der Datensatz aufgebaut?"
   ]
  },
  {
   "cell_type": "code",
   "execution_count": 6,
   "metadata": {
    "hidden": true
   },
   "outputs": [
    {
     "name": "stdout",
     "output_type": "stream",
     "text": [
      "<class 'sklearn.utils.Bunch'>\n"
     ]
    }
   ],
   "source": [
    "print(type(cancer))"
   ]
  },
  {
   "cell_type": "code",
   "execution_count": 7,
   "metadata": {
    "hidden": true
   },
   "outputs": [
    {
     "name": "stdout",
     "output_type": "stream",
     "text": [
      "cancer.keys():\n",
      " dict_keys(['data', 'target', 'target_names', 'DESCR', 'feature_names', 'filename'])\n"
     ]
    }
   ],
   "source": [
    "print(\"cancer.keys():\\n\", cancer.keys())"
   ]
  },
  {
   "cell_type": "code",
   "execution_count": 8,
   "metadata": {
    "hidden": true
   },
   "outputs": [
    {
     "name": "stdout",
     "output_type": "stream",
     "text": [
      ".. _breast_cancer_dataset:\n",
      "\n",
      "Breast cancer wisconsin (diagnostic) dataset\n",
      "--------------------------------------------\n",
      "\n",
      "**Data Set Characteristics:**\n",
      "\n",
      "    :Number of Instances: 569\n",
      "\n",
      "    :Number of Attributes: 30 numeric, predictive attributes and the class\n",
      "\n",
      "    :Attribute Information:\n",
      "        - radius (mean of distances from center to points on the perimeter)\n",
      "        - texture (standard deviation of gray-scale values)\n",
      "        - perimeter\n",
      "        - area\n",
      "        - smoothness (local variation in radius lengths)\n",
      "        - compactness (perimeter^2 / area - 1.0)\n",
      "        - concavity (severity of concave portions of the contour)\n",
      "        - concave points (number of concave portions of the contour)\n",
      "        - symmetry \n",
      "        - fractal dimension (\"coastline approximation\" - 1)\n",
      "\n",
      "        The mean, standard error, and \"worst\" or largest (mean of the three\n",
      "        largest values) of these features were computed for each image,\n",
      "        resulting in 30 features.  For instance, field 3 is Mean Radius, field\n",
      "        13 is Radius SE, field 23 is Worst Radius.\n",
      "\n",
      "        - class:\n",
      "                - WDBC-Malignant\n",
      "                - WDBC-Benign\n",
      "\n",
      "    :Summary Statistics:\n",
      "\n",
      "    ===================================== ====== ======\n",
      "                                           Min    Max\n",
      "    ===================================== ====== ======\n",
      "    radius (mean):                        6.981  28.11\n",
      "    texture (mean):                       9.71   39.28\n",
      "    perimeter (mean):                     43.79  188.5\n",
      "    area (mean):                          143.5  2501.0\n",
      "    smoothness (mean):                    0.053  0.163\n",
      "    compactness (mean):                   0.019  0.345\n",
      "    concavity (mean):                     0.0    0.427\n",
      "    concave points (mean):                0.0    0.201\n",
      "    symmetry (mean):                      0.106  0.304\n",
      "    fractal dimension (mean):             0.05   0.097\n",
      "    radius (standard error):              0.112  2.873\n",
      "    texture (standard error):             0.36   4.885\n",
      "    perimeter (standard error):           0.757  21.98\n",
      "    area (standard error):                6.802  542.2\n",
      "    smoothness (standard error):          0.002  0.031\n",
      "    compactness (standard error):         0.002  0.135\n",
      "    concavity (standard error):           0.0    0.396\n",
      "    concave points (standard error):      0.0    0.053\n",
      "    symmetry (standard error):            0.008  0.079\n",
      "    fractal dimension (standard error):   0.001  0.03\n",
      "    radius (worst):                       7.93   36.04\n",
      "    texture (worst):                      12.02  49.54\n",
      "    perimeter (worst):                    50.41  251.2\n",
      "    area (worst):                         185.2  4254.0\n",
      "    smoothness (worst):                   0.071  0.223\n",
      "    compactness (worst):                  0.027  1.058\n",
      "    concavity (worst):                    0.0    1.252\n",
      "    concave points (worst):               0.0    0.291\n",
      "    symmetry (worst):                     0.156  0.664\n",
      "    fractal dimension (worst):            0.055  0.208\n",
      "    ===================================== ====== ======\n",
      "\n",
      "    :Missing Attribute Values: None\n",
      "\n",
      "    :Class Distribution: 212 - Malignant, 357 - Benign\n",
      "\n",
      "    :Creator:  Dr. William H. Wolberg, W. Nick Street, Olvi L. Mangasarian\n",
      "\n",
      "    :Donor: Nick Street\n",
      "\n",
      "    :Date: November, 1995\n",
      "\n",
      "This is a copy of UCI ML Breast Cancer Wisconsin (Diagnostic) datasets.\n",
      "https://goo.gl/U2Uwz2\n",
      "\n",
      "Features are computed from a digitized image of a fine needle\n",
      "aspirate (FNA) of a breast mass.  They describe\n",
      "characteristics of the cell nuclei present in the image.\n",
      "\n",
      "Separating plane described above was obtained using\n",
      "Multisurface Method-Tree (MSM-T) [K. P. Bennett, \"Decision Tree\n",
      "Construction Via Linear Programming.\" Proceedings of the 4th\n",
      "Midwest Artificial Intelligence and Cognitive Science Society,\n",
      "pp. 97-101, 1992], a classification method which uses linear\n",
      "programming to construct a decision tree.  Relevant features\n",
      "were selected using an exhaustive search in the space of 1-4\n",
      "features and 1-3 separating planes.\n",
      "\n",
      "The actual linear program used to obtain the separating plane\n",
      "in the 3-dimensional space is that described in:\n",
      "[K. P. Bennett and O. L. Mangasarian: \"Robust Linear\n",
      "Programming Discrimination of Two Linearly Inseparable Sets\",\n",
      "Optimization Methods and Software 1, 1992, 23-34].\n",
      "\n",
      "This database is also available through the UW CS ftp server:\n",
      "\n",
      "ftp ftp.cs.wisc.edu\n",
      "cd math-prog/cpo-dataset/machine-learn/WDBC/\n",
      "\n",
      ".. topic:: References\n",
      "\n",
      "   - W.N. Street, W.H. Wolberg and O.L. Mangasarian. Nuclear feature extraction \n",
      "     for breast tumor diagnosis. IS&T/SPIE 1993 International Symposium on \n",
      "     Electronic Imaging: Science and Technology, volume 1905, pages 861-870,\n",
      "     San Jose, CA, 1993.\n",
      "   - O.L. Mangasarian, W.N. Street and W.H. Wolberg. Breast cancer diagnosis and \n",
      "     prognosis via linear programming. Operations Research, 43(4), pages 570-577, \n",
      "     July-August 1995.\n",
      "   - W.H. Wolberg, W.N. Street, and O.L. Mangasarian. Machine learning techniques\n",
      "     to diagnose breast cancer from fine-needle aspirates. Cancer Letters 77 (1994) \n",
      "     163-171.\n"
     ]
    }
   ],
   "source": [
    "print(cancer.DESCR)"
   ]
  },
  {
   "cell_type": "markdown",
   "metadata": {
    "hidden": true
   },
   "source": [
    "Welche Dimensionen hat der Datensatz?"
   ]
  },
  {
   "cell_type": "code",
   "execution_count": 9,
   "metadata": {
    "hidden": true
   },
   "outputs": [
    {
     "name": "stdout",
     "output_type": "stream",
     "text": [
      "Shape of cancer data: (569, 30)\n"
     ]
    }
   ],
   "source": [
    "print(\"Shape of cancer data:\", cancer.data.shape)"
   ]
  },
  {
   "cell_type": "code",
   "execution_count": 10,
   "metadata": {
    "hidden": true
   },
   "outputs": [
    {
     "data": {
      "text/plain": [
       "array(['malignant', 'benign'], dtype='<U9')"
      ]
     },
     "execution_count": 10,
     "metadata": {},
     "output_type": "execute_result"
    }
   ],
   "source": [
    "cancer.target_names"
   ]
  },
  {
   "cell_type": "markdown",
   "metadata": {
    "heading_collapsed": true,
    "hidden": true
   },
   "source": [
    "### Datensatz analyisieren"
   ]
  },
  {
   "cell_type": "code",
   "execution_count": 11,
   "metadata": {
    "hidden": true
   },
   "outputs": [],
   "source": [
    "df_cancer = pd.DataFrame(data=cancer.data,columns=cancer.feature_names)\n",
    "df_cancer['target'] = cancer.target"
   ]
  },
  {
   "cell_type": "code",
   "execution_count": 12,
   "metadata": {
    "hidden": true
   },
   "outputs": [
    {
     "data": {
      "text/html": [
       "<div>\n",
       "<style scoped>\n",
       "    .dataframe tbody tr th:only-of-type {\n",
       "        vertical-align: middle;\n",
       "    }\n",
       "\n",
       "    .dataframe tbody tr th {\n",
       "        vertical-align: top;\n",
       "    }\n",
       "\n",
       "    .dataframe thead th {\n",
       "        text-align: right;\n",
       "    }\n",
       "</style>\n",
       "<table border=\"1\" class=\"dataframe\">\n",
       "  <thead>\n",
       "    <tr style=\"text-align: right;\">\n",
       "      <th></th>\n",
       "      <th>mean radius</th>\n",
       "      <th>mean texture</th>\n",
       "      <th>mean perimeter</th>\n",
       "      <th>mean area</th>\n",
       "      <th>mean smoothness</th>\n",
       "      <th>mean compactness</th>\n",
       "      <th>mean concavity</th>\n",
       "      <th>mean concave points</th>\n",
       "      <th>mean symmetry</th>\n",
       "      <th>mean fractal dimension</th>\n",
       "      <th>...</th>\n",
       "      <th>worst texture</th>\n",
       "      <th>worst perimeter</th>\n",
       "      <th>worst area</th>\n",
       "      <th>worst smoothness</th>\n",
       "      <th>worst compactness</th>\n",
       "      <th>worst concavity</th>\n",
       "      <th>worst concave points</th>\n",
       "      <th>worst symmetry</th>\n",
       "      <th>worst fractal dimension</th>\n",
       "      <th>target</th>\n",
       "    </tr>\n",
       "  </thead>\n",
       "  <tbody>\n",
       "    <tr>\n",
       "      <th>0</th>\n",
       "      <td>17.99</td>\n",
       "      <td>10.38</td>\n",
       "      <td>122.80</td>\n",
       "      <td>1001.0</td>\n",
       "      <td>0.11840</td>\n",
       "      <td>0.27760</td>\n",
       "      <td>0.3001</td>\n",
       "      <td>0.14710</td>\n",
       "      <td>0.2419</td>\n",
       "      <td>0.07871</td>\n",
       "      <td>...</td>\n",
       "      <td>17.33</td>\n",
       "      <td>184.60</td>\n",
       "      <td>2019.0</td>\n",
       "      <td>0.1622</td>\n",
       "      <td>0.6656</td>\n",
       "      <td>0.7119</td>\n",
       "      <td>0.2654</td>\n",
       "      <td>0.4601</td>\n",
       "      <td>0.11890</td>\n",
       "      <td>0</td>\n",
       "    </tr>\n",
       "    <tr>\n",
       "      <th>1</th>\n",
       "      <td>20.57</td>\n",
       "      <td>17.77</td>\n",
       "      <td>132.90</td>\n",
       "      <td>1326.0</td>\n",
       "      <td>0.08474</td>\n",
       "      <td>0.07864</td>\n",
       "      <td>0.0869</td>\n",
       "      <td>0.07017</td>\n",
       "      <td>0.1812</td>\n",
       "      <td>0.05667</td>\n",
       "      <td>...</td>\n",
       "      <td>23.41</td>\n",
       "      <td>158.80</td>\n",
       "      <td>1956.0</td>\n",
       "      <td>0.1238</td>\n",
       "      <td>0.1866</td>\n",
       "      <td>0.2416</td>\n",
       "      <td>0.1860</td>\n",
       "      <td>0.2750</td>\n",
       "      <td>0.08902</td>\n",
       "      <td>0</td>\n",
       "    </tr>\n",
       "    <tr>\n",
       "      <th>2</th>\n",
       "      <td>19.69</td>\n",
       "      <td>21.25</td>\n",
       "      <td>130.00</td>\n",
       "      <td>1203.0</td>\n",
       "      <td>0.10960</td>\n",
       "      <td>0.15990</td>\n",
       "      <td>0.1974</td>\n",
       "      <td>0.12790</td>\n",
       "      <td>0.2069</td>\n",
       "      <td>0.05999</td>\n",
       "      <td>...</td>\n",
       "      <td>25.53</td>\n",
       "      <td>152.50</td>\n",
       "      <td>1709.0</td>\n",
       "      <td>0.1444</td>\n",
       "      <td>0.4245</td>\n",
       "      <td>0.4504</td>\n",
       "      <td>0.2430</td>\n",
       "      <td>0.3613</td>\n",
       "      <td>0.08758</td>\n",
       "      <td>0</td>\n",
       "    </tr>\n",
       "    <tr>\n",
       "      <th>3</th>\n",
       "      <td>11.42</td>\n",
       "      <td>20.38</td>\n",
       "      <td>77.58</td>\n",
       "      <td>386.1</td>\n",
       "      <td>0.14250</td>\n",
       "      <td>0.28390</td>\n",
       "      <td>0.2414</td>\n",
       "      <td>0.10520</td>\n",
       "      <td>0.2597</td>\n",
       "      <td>0.09744</td>\n",
       "      <td>...</td>\n",
       "      <td>26.50</td>\n",
       "      <td>98.87</td>\n",
       "      <td>567.7</td>\n",
       "      <td>0.2098</td>\n",
       "      <td>0.8663</td>\n",
       "      <td>0.6869</td>\n",
       "      <td>0.2575</td>\n",
       "      <td>0.6638</td>\n",
       "      <td>0.17300</td>\n",
       "      <td>0</td>\n",
       "    </tr>\n",
       "    <tr>\n",
       "      <th>4</th>\n",
       "      <td>20.29</td>\n",
       "      <td>14.34</td>\n",
       "      <td>135.10</td>\n",
       "      <td>1297.0</td>\n",
       "      <td>0.10030</td>\n",
       "      <td>0.13280</td>\n",
       "      <td>0.1980</td>\n",
       "      <td>0.10430</td>\n",
       "      <td>0.1809</td>\n",
       "      <td>0.05883</td>\n",
       "      <td>...</td>\n",
       "      <td>16.67</td>\n",
       "      <td>152.20</td>\n",
       "      <td>1575.0</td>\n",
       "      <td>0.1374</td>\n",
       "      <td>0.2050</td>\n",
       "      <td>0.4000</td>\n",
       "      <td>0.1625</td>\n",
       "      <td>0.2364</td>\n",
       "      <td>0.07678</td>\n",
       "      <td>0</td>\n",
       "    </tr>\n",
       "  </tbody>\n",
       "</table>\n",
       "<p>5 rows × 31 columns</p>\n",
       "</div>"
      ],
      "text/plain": [
       "   mean radius  mean texture  mean perimeter  mean area  mean smoothness  \\\n",
       "0        17.99         10.38          122.80     1001.0          0.11840   \n",
       "1        20.57         17.77          132.90     1326.0          0.08474   \n",
       "2        19.69         21.25          130.00     1203.0          0.10960   \n",
       "3        11.42         20.38           77.58      386.1          0.14250   \n",
       "4        20.29         14.34          135.10     1297.0          0.10030   \n",
       "\n",
       "   mean compactness  mean concavity  mean concave points  mean symmetry  \\\n",
       "0           0.27760          0.3001              0.14710         0.2419   \n",
       "1           0.07864          0.0869              0.07017         0.1812   \n",
       "2           0.15990          0.1974              0.12790         0.2069   \n",
       "3           0.28390          0.2414              0.10520         0.2597   \n",
       "4           0.13280          0.1980              0.10430         0.1809   \n",
       "\n",
       "   mean fractal dimension   ...    worst texture  worst perimeter  worst area  \\\n",
       "0                 0.07871   ...            17.33           184.60      2019.0   \n",
       "1                 0.05667   ...            23.41           158.80      1956.0   \n",
       "2                 0.05999   ...            25.53           152.50      1709.0   \n",
       "3                 0.09744   ...            26.50            98.87       567.7   \n",
       "4                 0.05883   ...            16.67           152.20      1575.0   \n",
       "\n",
       "   worst smoothness  worst compactness  worst concavity  worst concave points  \\\n",
       "0            0.1622             0.6656           0.7119                0.2654   \n",
       "1            0.1238             0.1866           0.2416                0.1860   \n",
       "2            0.1444             0.4245           0.4504                0.2430   \n",
       "3            0.2098             0.8663           0.6869                0.2575   \n",
       "4            0.1374             0.2050           0.4000                0.1625   \n",
       "\n",
       "   worst symmetry  worst fractal dimension  target  \n",
       "0          0.4601                  0.11890       0  \n",
       "1          0.2750                  0.08902       0  \n",
       "2          0.3613                  0.08758       0  \n",
       "3          0.6638                  0.17300       0  \n",
       "4          0.2364                  0.07678       0  \n",
       "\n",
       "[5 rows x 31 columns]"
      ]
     },
     "execution_count": 12,
     "metadata": {},
     "output_type": "execute_result"
    }
   ],
   "source": [
    "df_cancer.head()"
   ]
  },
  {
   "cell_type": "code",
   "execution_count": 13,
   "metadata": {
    "hidden": true
   },
   "outputs": [
    {
     "data": {
      "text/html": [
       "<div>\n",
       "<style scoped>\n",
       "    .dataframe tbody tr th:only-of-type {\n",
       "        vertical-align: middle;\n",
       "    }\n",
       "\n",
       "    .dataframe tbody tr th {\n",
       "        vertical-align: top;\n",
       "    }\n",
       "\n",
       "    .dataframe thead th {\n",
       "        text-align: right;\n",
       "    }\n",
       "</style>\n",
       "<table border=\"1\" class=\"dataframe\">\n",
       "  <thead>\n",
       "    <tr style=\"text-align: right;\">\n",
       "      <th></th>\n",
       "      <th>mean radius</th>\n",
       "      <th>mean texture</th>\n",
       "      <th>mean perimeter</th>\n",
       "      <th>mean area</th>\n",
       "      <th>mean smoothness</th>\n",
       "      <th>mean compactness</th>\n",
       "      <th>mean concavity</th>\n",
       "      <th>mean concave points</th>\n",
       "      <th>mean symmetry</th>\n",
       "      <th>mean fractal dimension</th>\n",
       "      <th>...</th>\n",
       "      <th>worst radius</th>\n",
       "      <th>worst texture</th>\n",
       "      <th>worst perimeter</th>\n",
       "      <th>worst area</th>\n",
       "      <th>worst smoothness</th>\n",
       "      <th>worst compactness</th>\n",
       "      <th>worst concavity</th>\n",
       "      <th>worst concave points</th>\n",
       "      <th>worst symmetry</th>\n",
       "      <th>worst fractal dimension</th>\n",
       "    </tr>\n",
       "  </thead>\n",
       "  <tbody>\n",
       "    <tr>\n",
       "      <th>count</th>\n",
       "      <td>569.000000</td>\n",
       "      <td>569.000000</td>\n",
       "      <td>569.000000</td>\n",
       "      <td>569.000000</td>\n",
       "      <td>569.000000</td>\n",
       "      <td>569.000000</td>\n",
       "      <td>569.000000</td>\n",
       "      <td>569.000000</td>\n",
       "      <td>569.000000</td>\n",
       "      <td>569.000000</td>\n",
       "      <td>...</td>\n",
       "      <td>569.000000</td>\n",
       "      <td>569.000000</td>\n",
       "      <td>569.000000</td>\n",
       "      <td>569.000000</td>\n",
       "      <td>569.000000</td>\n",
       "      <td>569.000000</td>\n",
       "      <td>569.000000</td>\n",
       "      <td>569.000000</td>\n",
       "      <td>569.000000</td>\n",
       "      <td>569.000000</td>\n",
       "    </tr>\n",
       "    <tr>\n",
       "      <th>mean</th>\n",
       "      <td>14.127292</td>\n",
       "      <td>19.289649</td>\n",
       "      <td>91.969033</td>\n",
       "      <td>654.889104</td>\n",
       "      <td>0.096360</td>\n",
       "      <td>0.104341</td>\n",
       "      <td>0.088799</td>\n",
       "      <td>0.048919</td>\n",
       "      <td>0.181162</td>\n",
       "      <td>0.062798</td>\n",
       "      <td>...</td>\n",
       "      <td>16.269190</td>\n",
       "      <td>25.677223</td>\n",
       "      <td>107.261213</td>\n",
       "      <td>880.583128</td>\n",
       "      <td>0.132369</td>\n",
       "      <td>0.254265</td>\n",
       "      <td>0.272188</td>\n",
       "      <td>0.114606</td>\n",
       "      <td>0.290076</td>\n",
       "      <td>0.083946</td>\n",
       "    </tr>\n",
       "    <tr>\n",
       "      <th>std</th>\n",
       "      <td>3.524049</td>\n",
       "      <td>4.301036</td>\n",
       "      <td>24.298981</td>\n",
       "      <td>351.914129</td>\n",
       "      <td>0.014064</td>\n",
       "      <td>0.052813</td>\n",
       "      <td>0.079720</td>\n",
       "      <td>0.038803</td>\n",
       "      <td>0.027414</td>\n",
       "      <td>0.007060</td>\n",
       "      <td>...</td>\n",
       "      <td>4.833242</td>\n",
       "      <td>6.146258</td>\n",
       "      <td>33.602542</td>\n",
       "      <td>569.356993</td>\n",
       "      <td>0.022832</td>\n",
       "      <td>0.157336</td>\n",
       "      <td>0.208624</td>\n",
       "      <td>0.065732</td>\n",
       "      <td>0.061867</td>\n",
       "      <td>0.018061</td>\n",
       "    </tr>\n",
       "    <tr>\n",
       "      <th>min</th>\n",
       "      <td>6.981000</td>\n",
       "      <td>9.710000</td>\n",
       "      <td>43.790000</td>\n",
       "      <td>143.500000</td>\n",
       "      <td>0.052630</td>\n",
       "      <td>0.019380</td>\n",
       "      <td>0.000000</td>\n",
       "      <td>0.000000</td>\n",
       "      <td>0.106000</td>\n",
       "      <td>0.049960</td>\n",
       "      <td>...</td>\n",
       "      <td>7.930000</td>\n",
       "      <td>12.020000</td>\n",
       "      <td>50.410000</td>\n",
       "      <td>185.200000</td>\n",
       "      <td>0.071170</td>\n",
       "      <td>0.027290</td>\n",
       "      <td>0.000000</td>\n",
       "      <td>0.000000</td>\n",
       "      <td>0.156500</td>\n",
       "      <td>0.055040</td>\n",
       "    </tr>\n",
       "    <tr>\n",
       "      <th>25%</th>\n",
       "      <td>11.700000</td>\n",
       "      <td>16.170000</td>\n",
       "      <td>75.170000</td>\n",
       "      <td>420.300000</td>\n",
       "      <td>0.086370</td>\n",
       "      <td>0.064920</td>\n",
       "      <td>0.029560</td>\n",
       "      <td>0.020310</td>\n",
       "      <td>0.161900</td>\n",
       "      <td>0.057700</td>\n",
       "      <td>...</td>\n",
       "      <td>13.010000</td>\n",
       "      <td>21.080000</td>\n",
       "      <td>84.110000</td>\n",
       "      <td>515.300000</td>\n",
       "      <td>0.116600</td>\n",
       "      <td>0.147200</td>\n",
       "      <td>0.114500</td>\n",
       "      <td>0.064930</td>\n",
       "      <td>0.250400</td>\n",
       "      <td>0.071460</td>\n",
       "    </tr>\n",
       "    <tr>\n",
       "      <th>50%</th>\n",
       "      <td>13.370000</td>\n",
       "      <td>18.840000</td>\n",
       "      <td>86.240000</td>\n",
       "      <td>551.100000</td>\n",
       "      <td>0.095870</td>\n",
       "      <td>0.092630</td>\n",
       "      <td>0.061540</td>\n",
       "      <td>0.033500</td>\n",
       "      <td>0.179200</td>\n",
       "      <td>0.061540</td>\n",
       "      <td>...</td>\n",
       "      <td>14.970000</td>\n",
       "      <td>25.410000</td>\n",
       "      <td>97.660000</td>\n",
       "      <td>686.500000</td>\n",
       "      <td>0.131300</td>\n",
       "      <td>0.211900</td>\n",
       "      <td>0.226700</td>\n",
       "      <td>0.099930</td>\n",
       "      <td>0.282200</td>\n",
       "      <td>0.080040</td>\n",
       "    </tr>\n",
       "    <tr>\n",
       "      <th>75%</th>\n",
       "      <td>15.780000</td>\n",
       "      <td>21.800000</td>\n",
       "      <td>104.100000</td>\n",
       "      <td>782.700000</td>\n",
       "      <td>0.105300</td>\n",
       "      <td>0.130400</td>\n",
       "      <td>0.130700</td>\n",
       "      <td>0.074000</td>\n",
       "      <td>0.195700</td>\n",
       "      <td>0.066120</td>\n",
       "      <td>...</td>\n",
       "      <td>18.790000</td>\n",
       "      <td>29.720000</td>\n",
       "      <td>125.400000</td>\n",
       "      <td>1084.000000</td>\n",
       "      <td>0.146000</td>\n",
       "      <td>0.339100</td>\n",
       "      <td>0.382900</td>\n",
       "      <td>0.161400</td>\n",
       "      <td>0.317900</td>\n",
       "      <td>0.092080</td>\n",
       "    </tr>\n",
       "    <tr>\n",
       "      <th>max</th>\n",
       "      <td>28.110000</td>\n",
       "      <td>39.280000</td>\n",
       "      <td>188.500000</td>\n",
       "      <td>2501.000000</td>\n",
       "      <td>0.163400</td>\n",
       "      <td>0.345400</td>\n",
       "      <td>0.426800</td>\n",
       "      <td>0.201200</td>\n",
       "      <td>0.304000</td>\n",
       "      <td>0.097440</td>\n",
       "      <td>...</td>\n",
       "      <td>36.040000</td>\n",
       "      <td>49.540000</td>\n",
       "      <td>251.200000</td>\n",
       "      <td>4254.000000</td>\n",
       "      <td>0.222600</td>\n",
       "      <td>1.058000</td>\n",
       "      <td>1.252000</td>\n",
       "      <td>0.291000</td>\n",
       "      <td>0.663800</td>\n",
       "      <td>0.207500</td>\n",
       "    </tr>\n",
       "  </tbody>\n",
       "</table>\n",
       "<p>8 rows × 30 columns</p>\n",
       "</div>"
      ],
      "text/plain": [
       "       mean radius  mean texture  mean perimeter    mean area  \\\n",
       "count   569.000000    569.000000      569.000000   569.000000   \n",
       "mean     14.127292     19.289649       91.969033   654.889104   \n",
       "std       3.524049      4.301036       24.298981   351.914129   \n",
       "min       6.981000      9.710000       43.790000   143.500000   \n",
       "25%      11.700000     16.170000       75.170000   420.300000   \n",
       "50%      13.370000     18.840000       86.240000   551.100000   \n",
       "75%      15.780000     21.800000      104.100000   782.700000   \n",
       "max      28.110000     39.280000      188.500000  2501.000000   \n",
       "\n",
       "       mean smoothness  mean compactness  mean concavity  mean concave points  \\\n",
       "count       569.000000        569.000000      569.000000           569.000000   \n",
       "mean          0.096360          0.104341        0.088799             0.048919   \n",
       "std           0.014064          0.052813        0.079720             0.038803   \n",
       "min           0.052630          0.019380        0.000000             0.000000   \n",
       "25%           0.086370          0.064920        0.029560             0.020310   \n",
       "50%           0.095870          0.092630        0.061540             0.033500   \n",
       "75%           0.105300          0.130400        0.130700             0.074000   \n",
       "max           0.163400          0.345400        0.426800             0.201200   \n",
       "\n",
       "       mean symmetry  mean fractal dimension           ...             \\\n",
       "count     569.000000              569.000000           ...              \n",
       "mean        0.181162                0.062798           ...              \n",
       "std         0.027414                0.007060           ...              \n",
       "min         0.106000                0.049960           ...              \n",
       "25%         0.161900                0.057700           ...              \n",
       "50%         0.179200                0.061540           ...              \n",
       "75%         0.195700                0.066120           ...              \n",
       "max         0.304000                0.097440           ...              \n",
       "\n",
       "       worst radius  worst texture  worst perimeter   worst area  \\\n",
       "count    569.000000     569.000000       569.000000   569.000000   \n",
       "mean      16.269190      25.677223       107.261213   880.583128   \n",
       "std        4.833242       6.146258        33.602542   569.356993   \n",
       "min        7.930000      12.020000        50.410000   185.200000   \n",
       "25%       13.010000      21.080000        84.110000   515.300000   \n",
       "50%       14.970000      25.410000        97.660000   686.500000   \n",
       "75%       18.790000      29.720000       125.400000  1084.000000   \n",
       "max       36.040000      49.540000       251.200000  4254.000000   \n",
       "\n",
       "       worst smoothness  worst compactness  worst concavity  \\\n",
       "count        569.000000         569.000000       569.000000   \n",
       "mean           0.132369           0.254265         0.272188   \n",
       "std            0.022832           0.157336         0.208624   \n",
       "min            0.071170           0.027290         0.000000   \n",
       "25%            0.116600           0.147200         0.114500   \n",
       "50%            0.131300           0.211900         0.226700   \n",
       "75%            0.146000           0.339100         0.382900   \n",
       "max            0.222600           1.058000         1.252000   \n",
       "\n",
       "       worst concave points  worst symmetry  worst fractal dimension  \n",
       "count            569.000000      569.000000               569.000000  \n",
       "mean               0.114606        0.290076                 0.083946  \n",
       "std                0.065732        0.061867                 0.018061  \n",
       "min                0.000000        0.156500                 0.055040  \n",
       "25%                0.064930        0.250400                 0.071460  \n",
       "50%                0.099930        0.282200                 0.080040  \n",
       "75%                0.161400        0.317900                 0.092080  \n",
       "max                0.291000        0.663800                 0.207500  \n",
       "\n",
       "[8 rows x 30 columns]"
      ]
     },
     "execution_count": 13,
     "metadata": {},
     "output_type": "execute_result"
    }
   ],
   "source": [
    "df_cancer.iloc[:,0:30].describe()"
   ]
  },
  {
   "cell_type": "markdown",
   "metadata": {
    "hidden": true
   },
   "source": [
    "Wie sind benign und malignant im Datensatz vertreten?"
   ]
  },
  {
   "cell_type": "code",
   "execution_count": 14,
   "metadata": {
    "hidden": true
   },
   "outputs": [
    {
     "name": "stdout",
     "output_type": "stream",
     "text": [
      "62.7% benign, 37.3% malignant\n"
     ]
    }
   ],
   "source": [
    "print('{:.1f}% benign, {:.1f}% malignant'.format(df_cancer.target.value_counts()[1]/df_cancer.target.size*100,df_cancer.target.value_counts()[0]/df_cancer.target.size*100))"
   ]
  },
  {
   "cell_type": "code",
   "execution_count": 31,
   "metadata": {
    "hidden": true
   },
   "outputs": [
    {
     "data": {
      "text/plain": [
       "<matplotlib.axes._subplots.AxesSubplot at 0x35ee14e0>"
      ]
     },
     "execution_count": 31,
     "metadata": {},
     "output_type": "execute_result"
    },
    {
     "data": {
      "image/png": "[encoded data removed]",
      "text/plain": [
       "<Figure size 432x288 with 1 Axes>"
      ]
     },
     "metadata": {
      "needs_background": "light"
     },
     "output_type": "display_data"
    }
   ],
   "source": [
    "df_cancer['mean radius'].plot(kind='hist',bins=50,title='mean radius Historgramm')"
   ]
  },
  {
   "cell_type": "code",
   "execution_count": 32,
   "metadata": {
    "hidden": true
   },
   "outputs": [
    {
     "name": "stdout",
     "output_type": "stream",
     "text": [
      "Help on FramePlotMethods in module pandas.plotting._core object:\n",
      "\n",
      "class FramePlotMethods(BasePlotMethods)\n",
      " |  DataFrame plotting accessor and method\n",
      " |  \n",
      " |  Examples\n",
      " |  --------\n",
      " |  >>> df.plot.line()\n",
      " |  >>> df.plot.scatter('x', 'y')\n",
      " |  >>> df.plot.hexbin()\n",
      " |  \n",
      " |  These plotting methods can also be accessed by calling the accessor as a\n",
      " |  method with the ``kind`` argument:\n",
      " |  ``df.plot(kind='line')`` is equivalent to ``df.plot.line()``\n",
      " |  \n",
      " |  Method resolution order:\n",
      " |      FramePlotMethods\n",
      " |      BasePlotMethods\n",
      " |      pandas.core.base.PandasObject\n",
      " |      pandas.core.base.StringMixin\n",
      " |      pandas.core.accessor.DirNamesMixin\n",
      " |      builtins.object\n",
      " |  \n",
      " |  Methods defined here:\n",
      " |  \n",
      " |  __call__(self, x=None, y=None, kind='line', ax=None, subplots=False, sharex=None, sharey=False, layout=None, figsize=None, use_index=True, title=None, grid=None, legend=True, style=None, logx=False, logy=False, loglog=False, xticks=None, yticks=None, xlim=None, ylim=None, rot=None, fontsize=None, colormap=None, table=False, yerr=None, xerr=None, secondary_y=False, sort_columns=False, **kwds)\n",
      " |      Make plots of DataFrame using matplotlib / pylab.\n",
      " |      \n",
      " |      *New in version 0.17.0:* Each plot kind has a corresponding method on the\n",
      " |      ``DataFrame.plot`` accessor:\n",
      " |      ``df.plot(kind='line')`` is equivalent to\n",
      " |      ``df.plot.line()``.\n",
      " |      \n",
      " |      Parameters\n",
      " |      ----------\n",
      " |      data : DataFrame\n",
      " |      x : label or position, default None\n",
      " |      y : label, position or list of label, positions, default None\n",
      " |          Allows plotting of one column versus another\n",
      " |      kind : str\n",
      " |          - 'line' : line plot (default)\n",
      " |          - 'bar' : vertical bar plot\n",
      " |          - 'barh' : horizontal bar plot\n",
      " |          - 'hist' : histogram\n",
      " |          - 'box' : boxplot\n",
      " |          - 'kde' : Kernel Density Estimation plot\n",
      " |          - 'density' : same as 'kde'\n",
      " |          - 'area' : area plot\n",
      " |          - 'pie' : pie plot\n",
      " |          - 'scatter' : scatter plot\n",
      " |          - 'hexbin' : hexbin plot\n",
      " |      ax : matplotlib axes object, default None\n",
      " |      subplots : boolean, default False\n",
      " |          Make separate subplots for each column\n",
      " |      sharex : boolean, default True if ax is None else False\n",
      " |          In case subplots=True, share x axis and set some x axis labels to\n",
      " |          invisible; defaults to True if ax is None otherwise False if an ax\n",
      " |          is passed in; Be aware, that passing in both an ax and sharex=True\n",
      " |          will alter all x axis labels for all axis in a figure!\n",
      " |      sharey : boolean, default False\n",
      " |          In case subplots=True, share y axis and set some y axis labels to\n",
      " |          invisible\n",
      " |      layout : tuple (optional)\n",
      " |          (rows, columns) for the layout of subplots\n",
      " |      figsize : a tuple (width, height) in inches\n",
      " |      use_index : boolean, default True\n",
      " |          Use index as ticks for x axis\n",
      " |      title : string or list\n",
      " |          Title to use for the plot. If a string is passed, print the string at\n",
      " |          the top of the figure. If a list is passed and `subplots` is True,\n",
      " |          print each item in the list above the corresponding subplot.\n",
      " |      grid : boolean, default None (matlab style default)\n",
      " |          Axis grid lines\n",
      " |      legend : False/True/'reverse'\n",
      " |          Place legend on axis subplots\n",
      " |      style : list or dict\n",
      " |          matplotlib line style per column\n",
      " |      logx : boolean, default False\n",
      " |          Use log scaling on x axis\n",
      " |      logy : boolean, default False\n",
      " |          Use log scaling on y axis\n",
      " |      loglog : boolean, default False\n",
      " |          Use log scaling on both x and y axes\n",
      " |      xticks : sequence\n",
      " |          Values to use for the xticks\n",
      " |      yticks : sequence\n",
      " |          Values to use for the yticks\n",
      " |      xlim : 2-tuple/list\n",
      " |      ylim : 2-tuple/list\n",
      " |      rot : int, default None\n",
      " |          Rotation for ticks (xticks for vertical, yticks for horizontal plots)\n",
      " |      fontsize : int, default None\n",
      " |          Font size for xticks and yticks\n",
      " |      colormap : str or matplotlib colormap object, default None\n",
      " |          Colormap to select colors from. If string, load colormap with that name\n",
      " |          from matplotlib.\n",
      " |      colorbar : boolean, optional\n",
      " |          If True, plot colorbar (only relevant for 'scatter' and 'hexbin' plots)\n",
      " |      position : float\n",
      " |          Specify relative alignments for bar plot layout.\n",
      " |          From 0 (left/bottom-end) to 1 (right/top-end). Default is 0.5 (center)\n",
      " |      table : boolean, Series or DataFrame, default False\n",
      " |          If True, draw a table using the data in the DataFrame and the data will\n",
      " |          be transposed to meet matplotlib's default layout.\n",
      " |          If a Series or DataFrame is passed, use passed data to draw a table.\n",
      " |      yerr : DataFrame, Series, array-like, dict and str\n",
      " |          See :ref:`Plotting with Error Bars <visualization.errorbars>` for\n",
      " |          detail.\n",
      " |      xerr : same types as yerr.\n",
      " |      stacked : boolean, default False in line and\n",
      " |          bar plots, and True in area plot. If True, create stacked plot.\n",
      " |      sort_columns : boolean, default False\n",
      " |          Sort column names to determine plot ordering\n",
      " |      secondary_y : boolean or sequence, default False\n",
      " |          Whether to plot on the secondary y-axis\n",
      " |          If a list/tuple, which columns to plot on secondary y-axis\n",
      " |      mark_right : boolean, default True\n",
      " |          When using a secondary_y axis, automatically mark the column\n",
      " |          labels with \"(right)\" in the legend\n",
      " |      `**kwds` : keywords\n",
      " |          Options to pass to matplotlib plotting method\n",
      " |      \n",
      " |      Returns\n",
      " |      -------\n",
      " |      axes : :class:`matplotlib.axes.Axes` or numpy.ndarray of them\n",
      " |      \n",
      " |      Notes\n",
      " |      -----\n",
      " |      \n",
      " |      - See matplotlib documentation online for more on this subject\n",
      " |      - If `kind` = 'bar' or 'barh', you can specify relative alignments\n",
      " |        for bar plot layout by `position` keyword.\n",
      " |        From 0 (left/bottom-end) to 1 (right/top-end). Default is 0.5 (center)\n",
      " |      - If `kind` = 'scatter' and the argument `c` is the name of a dataframe\n",
      " |        column, the values of that column are used to color each point.\n",
      " |      - If `kind` = 'hexbin', you can control the size of the bins with the\n",
      " |        `gridsize` argument. By default, a histogram of the counts around each\n",
      " |        `(x, y)` point is computed. You can specify alternative aggregations\n",
      " |        by passing values to the `C` and `reduce_C_function` arguments.\n",
      " |        `C` specifies the value at each `(x, y)` point and `reduce_C_function`\n",
      " |        is a function of one argument that reduces all the values in a bin to\n",
      " |        a single number (e.g. `mean`, `max`, `sum`, `std`).\n",
      " |  \n",
      " |  area(self, x=None, y=None, **kwds)\n",
      " |      Area plot\n",
      " |      \n",
      " |      Parameters\n",
      " |      ----------\n",
      " |      x, y : label or position, optional\n",
      " |          Coordinates for each point.\n",
      " |      `**kwds` : optional\n",
      " |          Additional keyword arguments are documented in\n",
      " |          :meth:`pandas.DataFrame.plot`.\n",
      " |      \n",
      " |      Returns\n",
      " |      -------\n",
      " |      axes : :class:`matplotlib.axes.Axes` or numpy.ndarray of them\n",
      " |  \n",
      " |  bar(self, x=None, y=None, **kwds)\n",
      " |      Vertical bar plot.\n",
      " |      \n",
      " |      A bar plot is a plot that presents categorical data with\n",
      " |      rectangular bars with lengths proportional to the values that they\n",
      " |      represent. A bar plot shows comparisons among discrete categories. One\n",
      " |      axis of the plot shows the specific categories being compared, and the\n",
      " |      other axis represents a measured value.\n",
      " |      \n",
      " |      Parameters\n",
      " |      ----------\n",
      " |      x : label or position, optional\n",
      " |          Allows plotting of one column versus another. If not specified,\n",
      " |          the index of the DataFrame is used.\n",
      " |      y : label or position, optional\n",
      " |          Allows plotting of one column versus another. If not specified,\n",
      " |          all numerical columns are used.\n",
      " |      **kwds\n",
      " |          Additional keyword arguments are documented in\n",
      " |          :meth:`pandas.DataFrame.plot`.\n",
      " |      \n",
      " |      Returns\n",
      " |      -------\n",
      " |      axes : matplotlib.axes.Axes or np.ndarray of them\n",
      " |          An ndarray is returned with one :class:`matplotlib.axes.Axes`\n",
      " |          per column when ``subplots=True``.\n",
      " |      \n",
      " |      See Also\n",
      " |      --------\n",
      " |      pandas.DataFrame.plot.barh : Horizontal bar plot.\n",
      " |      pandas.DataFrame.plot : Make plots of a DataFrame.\n",
      " |      matplotlib.pyplot.bar : Make a bar plot with matplotlib.\n",
      " |      \n",
      " |      Examples\n",
      " |      --------\n",
      " |      Basic plot.\n",
      " |      \n",
      " |      .. plot::\n",
      " |          :context: close-figs\n",
      " |      \n",
      " |          >>> df = pd.DataFrame({'lab':['A', 'B', 'C'], 'val':[10, 30, 20]})\n",
      " |          >>> ax = df.plot.bar(x='lab', y='val', rot=0)\n",
      " |      \n",
      " |      Plot a whole dataframe to a bar plot. Each column is assigned a\n",
      " |      distinct color, and each row is nested in a group along the\n",
      " |      horizontal axis.\n",
      " |      \n",
      " |      .. plot::\n",
      " |          :context: close-figs\n",
      " |      \n",
      " |          >>> speed = [0.1, 17.5, 40, 48, 52, 69, 88]\n",
      " |          >>> lifespan = [2, 8, 70, 1.5, 25, 12, 28]\n",
      " |          >>> index = ['snail', 'pig', 'elephant',\n",
      " |          ...          'rabbit', 'giraffe', 'coyote', 'horse']\n",
      " |          >>> df = pd.DataFrame({'speed': speed,\n",
      " |          ...                    'lifespan': lifespan}, index=index)\n",
      " |          >>> ax = df.plot.bar(rot=0)\n",
      " |      \n",
      " |      Instead of nesting, the figure can be split by column with\n",
      " |      ``subplots=True``. In this case, a :class:`numpy.ndarray` of\n",
      " |      :class:`matplotlib.axes.Axes` are returned.\n",
      " |      \n",
      " |      .. plot::\n",
      " |          :context: close-figs\n",
      " |      \n",
      " |          >>> axes = df.plot.bar(rot=0, subplots=True)\n",
      " |          >>> axes[1].legend(loc=2)  # doctest: +SKIP\n",
      " |      \n",
      " |      Plot a single column.\n",
      " |      \n",
      " |      .. plot::\n",
      " |          :context: close-figs\n",
      " |      \n",
      " |          >>> ax = df.plot.bar(y='speed', rot=0)\n",
      " |      \n",
      " |      Plot only selected categories for the DataFrame.\n",
      " |      \n",
      " |      .. plot::\n",
      " |          :context: close-figs\n",
      " |      \n",
      " |          >>> ax = df.plot.bar(x='lifespan', rot=0)\n",
      " |  \n",
      " |  barh(self, x=None, y=None, **kwds)\n",
      " |      Make a horizontal bar plot.\n",
      " |      \n",
      " |      A horizontal bar plot is a plot that presents quantitative data with\n",
      " |      rectangular bars with lengths proportional to the values that they\n",
      " |      represent. A bar plot shows comparisons among discrete categories. One\n",
      " |      axis of the plot shows the specific categories being compared, and the\n",
      " |      other axis represents a measured value.\n",
      " |      \n",
      " |      Parameters\n",
      " |      ----------\n",
      " |      x : label or position, default DataFrame.index\n",
      " |          Column to be used for categories.\n",
      " |      y : label or position, default All numeric columns in dataframe\n",
      " |          Columns to be plotted from the DataFrame.\n",
      " |      **kwds\n",
      " |          Keyword arguments to pass on to :meth:`pandas.DataFrame.plot`.\n",
      " |      \n",
      " |      Returns\n",
      " |      -------\n",
      " |      axes : :class:`matplotlib.axes.Axes` or numpy.ndarray of them.\n",
      " |      \n",
      " |      See Also\n",
      " |      --------\n",
      " |      pandas.DataFrame.plot.bar: Vertical bar plot.\n",
      " |      pandas.DataFrame.plot : Make plots of DataFrame using matplotlib.\n",
      " |      matplotlib.axes.Axes.bar : Plot a vertical bar plot using matplotlib.\n",
      " |      \n",
      " |      Examples\n",
      " |      --------\n",
      " |      Basic example\n",
      " |      \n",
      " |      .. plot::\n",
      " |          :context: close-figs\n",
      " |      \n",
      " |          >>> df = pd.DataFrame({'lab':['A', 'B', 'C'], 'val':[10, 30, 20]})\n",
      " |          >>> ax = df.plot.barh(x='lab', y='val')\n",
      " |      \n",
      " |      Plot a whole DataFrame to a horizontal bar plot\n",
      " |      \n",
      " |      .. plot::\n",
      " |          :context: close-figs\n",
      " |      \n",
      " |          >>> speed = [0.1, 17.5, 40, 48, 52, 69, 88]\n",
      " |          >>> lifespan = [2, 8, 70, 1.5, 25, 12, 28]\n",
      " |          >>> index = ['snail', 'pig', 'elephant',\n",
      " |          ...          'rabbit', 'giraffe', 'coyote', 'horse']\n",
      " |          >>> df = pd.DataFrame({'speed': speed,\n",
      " |          ...                    'lifespan': lifespan}, index=index)\n",
      " |          >>> ax = df.plot.barh()\n",
      " |      \n",
      " |      Plot a column of the DataFrame to a horizontal bar plot\n",
      " |      \n",
      " |      .. plot::\n",
      " |          :context: close-figs\n",
      " |      \n",
      " |          >>> speed = [0.1, 17.5, 40, 48, 52, 69, 88]\n",
      " |          >>> lifespan = [2, 8, 70, 1.5, 25, 12, 28]\n",
      " |          >>> index = ['snail', 'pig', 'elephant',\n",
      " |          ...          'rabbit', 'giraffe', 'coyote', 'horse']\n",
      " |          >>> df = pd.DataFrame({'speed': speed,\n",
      " |          ...                    'lifespan': lifespan}, index=index)\n",
      " |          >>> ax = df.plot.barh(y='speed')\n",
      " |      \n",
      " |      Plot DataFrame versus the desired column\n",
      " |      \n",
      " |      .. plot::\n",
      " |          :context: close-figs\n",
      " |      \n",
      " |          >>> speed = [0.1, 17.5, 40, 48, 52, 69, 88]\n",
      " |          >>> lifespan = [2, 8, 70, 1.5, 25, 12, 28]\n",
      " |          >>> index = ['snail', 'pig', 'elephant',\n",
      " |          ...          'rabbit', 'giraffe', 'coyote', 'horse']\n",
      " |          >>> df = pd.DataFrame({'speed': speed,\n",
      " |          ...                    'lifespan': lifespan}, index=index)\n",
      " |          >>> ax = df.plot.barh(x='lifespan')\n",
      " |  \n",
      " |  box(self, by=None, **kwds)\n",
      " |      Make a box plot of the DataFrame columns.\n",
      " |      \n",
      " |      A box plot is a method for graphically depicting groups of numerical\n",
      " |      data through their quartiles.\n",
      " |      The box extends from the Q1 to Q3 quartile values of the data,\n",
      " |      with a line at the median (Q2). The whiskers extend from the edges\n",
      " |      of box to show the range of the data. The position of the whiskers\n",
      " |      is set by default to 1.5*IQR (IQR = Q3 - Q1) from the edges of the\n",
      " |      box. Outlier points are those past the end of the whiskers.\n",
      " |      \n",
      " |      For further details see Wikipedia's\n",
      " |      entry for `boxplot <https://en.wikipedia.org/wiki/Box_plot>`__.\n",
      " |      \n",
      " |      A consideration when using this chart is that the box and the whiskers\n",
      " |      can overlap, which is very common when plotting small sets of data.\n",
      " |      \n",
      " |      Parameters\n",
      " |      ----------\n",
      " |      by : string or sequence\n",
      " |          Column in the DataFrame to group by.\n",
      " |      **kwds : optional\n",
      " |          Additional keywords are documented in\n",
      " |          :meth:`pandas.DataFrame.plot`.\n",
      " |      \n",
      " |      Returns\n",
      " |      -------\n",
      " |      axes : :class:`matplotlib.axes.Axes` or numpy.ndarray of them\n",
      " |      \n",
      " |      See Also\n",
      " |      --------\n",
      " |      pandas.DataFrame.boxplot: Another method to draw a box plot.\n",
      " |      pandas.Series.plot.box: Draw a box plot from a Series object.\n",
      " |      matplotlib.pyplot.boxplot: Draw a box plot in matplotlib.\n",
      " |      \n",
      " |      Examples\n",
      " |      --------\n",
      " |      Draw a box plot from a DataFrame with four columns of randomly\n",
      " |      generated data.\n",
      " |      \n",
      " |      .. plot::\n",
      " |          :context: close-figs\n",
      " |      \n",
      " |          >>> data = np.random.randn(25, 4)\n",
      " |          >>> df = pd.DataFrame(data, columns=list('ABCD'))\n",
      " |          >>> ax = df.plot.box()\n",
      " |  \n",
      " |  density = kde(self, bw_method=None, ind=None, **kwds)\n",
      " |  \n",
      " |  hexbin(self, x, y, C=None, reduce_C_function=None, gridsize=None, **kwds)\n",
      " |      Generate a hexagonal binning plot.\n",
      " |      \n",
      " |      Generate a hexagonal binning plot of `x` versus `y`. If `C` is `None`\n",
      " |      (the default), this is a histogram of the number of occurrences\n",
      " |      of the observations at ``(x[i], y[i])``.\n",
      " |      \n",
      " |      If `C` is specified, specifies values at given coordinates\n",
      " |      ``(x[i], y[i])``. These values are accumulated for each hexagonal\n",
      " |      bin and then reduced according to `reduce_C_function`,\n",
      " |      having as default the NumPy's mean function (:meth:`numpy.mean`).\n",
      " |      (If `C` is specified, it must also be a 1-D sequence\n",
      " |      of the same length as `x` and `y`, or a column label.)\n",
      " |      \n",
      " |      Parameters\n",
      " |      ----------\n",
      " |      x : int or str\n",
      " |          The column label or position for x points.\n",
      " |      y : int or str\n",
      " |          The column label or position for y points.\n",
      " |      C : int or str, optional\n",
      " |          The column label or position for the value of `(x, y)` point.\n",
      " |      reduce_C_function : callable, default `np.mean`\n",
      " |          Function of one argument that reduces all the values in a bin to\n",
      " |          a single number (e.g. `np.mean`, `np.max`, `np.sum`, `np.std`).\n",
      " |      gridsize : int or tuple of (int, int), default 100\n",
      " |          The number of hexagons in the x-direction.\n",
      " |          The corresponding number of hexagons in the y-direction is\n",
      " |          chosen in a way that the hexagons are approximately regular.\n",
      " |          Alternatively, gridsize can be a tuple with two elements\n",
      " |          specifying the number of hexagons in the x-direction and the\n",
      " |          y-direction.\n",
      " |      **kwds\n",
      " |          Additional keyword arguments are documented in\n",
      " |          :meth:`pandas.DataFrame.plot`.\n",
      " |      \n",
      " |      Returns\n",
      " |      -------\n",
      " |      matplotlib.AxesSubplot\n",
      " |          The matplotlib ``Axes`` on which the hexbin is plotted.\n",
      " |      \n",
      " |      See Also\n",
      " |      --------\n",
      " |      DataFrame.plot : Make plots of a DataFrame.\n",
      " |      matplotlib.pyplot.hexbin : hexagonal binning plot using matplotlib,\n",
      " |          the matplotlib function that is used under the hood.\n",
      " |      \n",
      " |      Examples\n",
      " |      --------\n",
      " |      The following examples are generated with random data from\n",
      " |      a normal distribution.\n",
      " |      \n",
      " |      .. plot::\n",
      " |          :context: close-figs\n",
      " |      \n",
      " |          >>> n = 10000\n",
      " |          >>> df = pd.DataFrame({'x': np.random.randn(n),\n",
      " |          ...                    'y': np.random.randn(n)})\n",
      " |          >>> ax = df.plot.hexbin(x='x', y='y', gridsize=20)\n",
      " |      \n",
      " |      The next example uses `C` and `np.sum` as `reduce_C_function`.\n",
      " |      Note that `'observations'` values ranges from 1 to 5 but the result\n",
      " |      plot shows values up to more than 25. This is because of the\n",
      " |      `reduce_C_function`.\n",
      " |      \n",
      " |      .. plot::\n",
      " |          :context: close-figs\n",
      " |      \n",
      " |          >>> n = 500\n",
      " |          >>> df = pd.DataFrame({\n",
      " |          ...     'coord_x': np.random.uniform(-3, 3, size=n),\n",
      " |          ...     'coord_y': np.random.uniform(30, 50, size=n),\n",
      " |          ...     'observations': np.random.randint(1,5, size=n)\n",
      " |          ...     })\n",
      " |          >>> ax = df.plot.hexbin(x='coord_x',\n",
      " |          ...                     y='coord_y',\n",
      " |          ...                     C='observations',\n",
      " |          ...                     reduce_C_function=np.sum,\n",
      " |          ...                     gridsize=10,\n",
      " |          ...                     cmap=\"viridis\")\n",
      " |  \n",
      " |  hist(self, by=None, bins=10, **kwds)\n",
      " |      Draw one histogram of the DataFrame's columns.\n",
      " |      \n",
      " |      A histogram is a representation of the distribution of data.\n",
      " |      This function groups the values of all given Series in the DataFrame\n",
      " |      into bins and draws all bins in one :class:`matplotlib.axes.Axes`.\n",
      " |      This is useful when the DataFrame's Series are in a similar scale.\n",
      " |      \n",
      " |      Parameters\n",
      " |      ----------\n",
      " |      by : str or sequence, optional\n",
      " |          Column in the DataFrame to group by.\n",
      " |      bins : int, default 10\n",
      " |          Number of histogram bins to be used.\n",
      " |      **kwds\n",
      " |          Additional keyword arguments are documented in\n",
      " |          :meth:`pandas.DataFrame.plot`.\n",
      " |      \n",
      " |      Returns\n",
      " |      -------\n",
      " |      axes : matplotlib.AxesSubplot histogram.\n",
      " |      \n",
      " |      See Also\n",
      " |      --------\n",
      " |      DataFrame.hist : Draw histograms per DataFrame's Series.\n",
      " |      Series.hist : Draw a histogram with Series' data.\n",
      " |      \n",
      " |      Examples\n",
      " |      --------\n",
      " |      When we draw a dice 6000 times, we expect to get each value around 1000\n",
      " |      times. But when we draw two dices and sum the result, the distribution\n",
      " |      is going to be quite different. A histogram illustrates those\n",
      " |      distributions.\n",
      " |      \n",
      " |      .. plot::\n",
      " |          :context: close-figs\n",
      " |      \n",
      " |          >>> df = pd.DataFrame(\n",
      " |          ...     np.random.randint(1, 7, 6000),\n",
      " |          ...     columns = ['one'])\n",
      " |          >>> df['two'] = df['one'] + np.random.randint(1, 7, 6000)\n",
      " |          >>> ax = df.plot.hist(bins=12, alpha=0.5)\n",
      " |  \n",
      " |  kde(self, bw_method=None, ind=None, **kwds)\n",
      " |      Generate Kernel Density Estimate plot using Gaussian kernels.\n",
      " |      \n",
      " |      In statistics, `kernel density estimation`_ (KDE) is a non-parametric\n",
      " |      way to estimate the probability density function (PDF) of a random\n",
      " |      variable. This function uses Gaussian kernels and includes automatic\n",
      " |      bandwith determination.\n",
      " |      \n",
      " |      .. _kernel density estimation:\n",
      " |          https://en.wikipedia.org/wiki/Kernel_density_estimation\n",
      " |      \n",
      " |      Parameters\n",
      " |      ----------\n",
      " |      bw_method : str, scalar or callable, optional\n",
      " |          The method used to calculate the estimator bandwidth. This can be\n",
      " |          'scott', 'silverman', a scalar constant or a callable.\n",
      " |          If None (default), 'scott' is used.\n",
      " |          See :class:`scipy.stats.gaussian_kde` for more information.\n",
      " |      ind : NumPy array or integer, optional\n",
      " |          Evaluation points for the estimated PDF. If None (default),\n",
      " |          1000 equally spaced points are used. If `ind` is a NumPy array, the\n",
      " |          KDE is evaluated at the points passed. If `ind` is an integer,\n",
      " |          `ind` number of equally spaced points are used.\n",
      " |      **kwds : optional\n",
      " |          Additional keyword arguments are documented in\n",
      " |          :meth:`pandas.DataFrame.plot`.\n",
      " |      \n",
      " |      Returns\n",
      " |      -------\n",
      " |      axes : matplotlib.axes.Axes or numpy.ndarray of them\n",
      " |      \n",
      " |      See Also\n",
      " |      --------\n",
      " |      scipy.stats.gaussian_kde : Representation of a kernel-density\n",
      " |          estimate using Gaussian kernels. This is the function used\n",
      " |          internally to estimate the PDF.\n",
      " |      Series.plot.kde : Generate a KDE plot for a\n",
      " |          Series.\n",
      " |      \n",
      " |      Examples\n",
      " |      --------\n",
      " |      Given several Series of points randomly sampled from unknown\n",
      " |      distributions, estimate their PDFs using KDE with automatic\n",
      " |      bandwidth determination and plot the results, evaluating them at\n",
      " |      1000 equally spaced points (default):\n",
      " |      \n",
      " |      .. plot::\n",
      " |          :context: close-figs\n",
      " |      \n",
      " |          >>> df = pd.DataFrame({\n",
      " |          ...     'x': [1, 2, 2.5, 3, 3.5, 4, 5],\n",
      " |          ...     'y': [4, 4, 4.5, 5, 5.5, 6, 6],\n",
      " |          ... })\n",
      " |          >>> ax = df.plot.kde()\n",
      " |      \n",
      " |      A scalar bandwidth can be specified. Using a small bandwidth value can\n",
      " |      lead to overfitting, while using a large bandwidth value may result\n",
      " |      in underfitting:\n",
      " |      \n",
      " |      .. plot::\n",
      " |          :context: close-figs\n",
      " |      \n",
      " |          >>> ax = df.plot.kde(bw_method=0.3)\n",
      " |      \n",
      " |      .. plot::\n",
      " |          :context: close-figs\n",
      " |      \n",
      " |          >>> ax = df.plot.kde(bw_method=3)\n",
      " |      \n",
      " |      Finally, the `ind` parameter determines the evaluation points for the\n",
      " |      plot of the estimated PDF:\n",
      " |      \n",
      " |      .. plot::\n",
      " |          :context: close-figs\n",
      " |      \n",
      " |          >>> ax = df.plot.kde(ind=[1, 2, 3, 4, 5, 6])\n",
      " |  \n",
      " |  line(self, x=None, y=None, **kwds)\n",
      " |      Plot DataFrame columns as lines.\n",
      " |      \n",
      " |      This function is useful to plot lines using DataFrame's values\n",
      " |      as coordinates.\n",
      " |      \n",
      " |      Parameters\n",
      " |      ----------\n",
      " |      x : int or str, optional\n",
      " |          Columns to use for the horizontal axis.\n",
      " |          Either the location or the label of the columns to be used.\n",
      " |          By default, it will use the DataFrame indices.\n",
      " |      y : int, str, or list of them, optional\n",
      " |          The values to be plotted.\n",
      " |          Either the location or the label of the columns to be used.\n",
      " |          By default, it will use the remaining DataFrame numeric columns.\n",
      " |      **kwds\n",
      " |          Keyword arguments to pass on to :meth:`pandas.DataFrame.plot`.\n",
      " |      \n",
      " |      Returns\n",
      " |      -------\n",
      " |      axes : :class:`matplotlib.axes.Axes` or :class:`numpy.ndarray`\n",
      " |          Returns an ndarray when ``subplots=True``.\n",
      " |      \n",
      " |      See Also\n",
      " |      --------\n",
      " |      matplotlib.pyplot.plot : Plot y versus x as lines and/or markers.\n",
      " |      \n",
      " |      Examples\n",
      " |      --------\n",
      " |      \n",
      " |      .. plot::\n",
      " |          :context: close-figs\n",
      " |      \n",
      " |          The following example shows the populations for some animals\n",
      " |          over the years.\n",
      " |      \n",
      " |          >>> df = pd.DataFrame({\n",
      " |          ...    'pig': [20, 18, 489, 675, 1776],\n",
      " |          ...    'horse': [4, 25, 281, 600, 1900]\n",
      " |          ...    }, index=[1990, 1997, 2003, 2009, 2014])\n",
      " |          >>> lines = df.plot.line()\n",
      " |      \n",
      " |      .. plot::\n",
      " |         :context: close-figs\n",
      " |      \n",
      " |         An example with subplots, so an array of axes is returned.\n",
      " |      \n",
      " |         >>> axes = df.plot.line(subplots=True)\n",
      " |         >>> type(axes)\n",
      " |         <class 'numpy.ndarray'>\n",
      " |      \n",
      " |      .. plot::\n",
      " |          :context: close-figs\n",
      " |      \n",
      " |          The following example shows the relationship between both\n",
      " |          populations.\n",
      " |      \n",
      " |          >>> lines = df.plot.line(x='pig', y='horse')\n",
      " |  \n",
      " |  pie(self, y=None, **kwds)\n",
      " |      Generate a pie plot.\n",
      " |      \n",
      " |      A pie plot is a proportional representation of the numerical data in a\n",
      " |      column. This function wraps :meth:`matplotlib.pyplot.pie` for the\n",
      " |      specified column. If no column reference is passed and\n",
      " |      ``subplots=True`` a pie plot is drawn for each numerical column\n",
      " |      independently.\n",
      " |      \n",
      " |      Parameters\n",
      " |      ----------\n",
      " |      y : int or label, optional\n",
      " |          Label or position of the column to plot.\n",
      " |          If not provided, ``subplots=True`` argument must be passed.\n",
      " |      **kwds\n",
      " |          Keyword arguments to pass on to :meth:`pandas.DataFrame.plot`.\n",
      " |      \n",
      " |      Returns\n",
      " |      -------\n",
      " |      axes : matplotlib.axes.Axes or np.ndarray of them.\n",
      " |          A NumPy array is returned when `subplots` is True.\n",
      " |      \n",
      " |      See Also\n",
      " |      --------\n",
      " |      Series.plot.pie : Generate a pie plot for a Series.\n",
      " |      DataFrame.plot : Make plots of a DataFrame.\n",
      " |      \n",
      " |      Examples\n",
      " |      --------\n",
      " |      In the example below we have a DataFrame with the information about\n",
      " |      planet's mass and radius. We pass the the 'mass' column to the\n",
      " |      pie function to get a pie plot.\n",
      " |      \n",
      " |      .. plot::\n",
      " |          :context: close-figs\n",
      " |      \n",
      " |          >>> df = pd.DataFrame({'mass': [0.330, 4.87 , 5.97],\n",
      " |          ...                    'radius': [2439.7, 6051.8, 6378.1]},\n",
      " |          ...                   index=['Mercury', 'Venus', 'Earth'])\n",
      " |          >>> plot = df.plot.pie(y='mass', figsize=(5, 5))\n",
      " |      \n",
      " |      .. plot::\n",
      " |          :context: close-figs\n",
      " |      \n",
      " |          >>> plot = df.plot.pie(subplots=True, figsize=(6, 3))\n",
      " |  \n",
      " |  scatter(self, x, y, s=None, c=None, **kwds)\n",
      " |      Create a scatter plot with varying marker point size and color.\n",
      " |      \n",
      " |      The coordinates of each point are defined by two dataframe columns and\n",
      " |      filled circles are used to represent each point. This kind of plot is\n",
      " |      useful to see complex correlations between two variables. Points could\n",
      " |      be for instance natural 2D coordinates like longitude and latitude in\n",
      " |      a map or, in general, any pair of metrics that can be plotted against\n",
      " |      each other.\n",
      " |      \n",
      " |      Parameters\n",
      " |      ----------\n",
      " |      x : int or str\n",
      " |          The column name or column position to be used as horizontal\n",
      " |          coordinates for each point.\n",
      " |      y : int or str\n",
      " |          The column name or column position to be used as vertical\n",
      " |          coordinates for each point.\n",
      " |      s : scalar or array_like, optional\n",
      " |          The size of each point. Possible values are:\n",
      " |      \n",
      " |          - A single scalar so all points have the same size.\n",
      " |      \n",
      " |          - A sequence of scalars, which will be used for each point's size\n",
      " |            recursively. For instance, when passing [2,14] all points size\n",
      " |            will be either 2 or 14, alternatively.\n",
      " |      \n",
      " |      c : str, int or array_like, optional\n",
      " |          The color of each point. Possible values are:\n",
      " |      \n",
      " |          - A single color string referred to by name, RGB or RGBA code,\n",
      " |            for instance 'red' or '#a98d19'.\n",
      " |      \n",
      " |          - A sequence of color strings referred to by name, RGB or RGBA\n",
      " |            code, which will be used for each point's color recursively. For\n",
      " |            intance ['green','yellow'] all points will be filled in green or\n",
      " |            yellow, alternatively.\n",
      " |      \n",
      " |          - A column name or position whose values will be used to color the\n",
      " |            marker points according to a colormap.\n",
      " |      \n",
      " |      **kwds\n",
      " |          Keyword arguments to pass on to :meth:`pandas.DataFrame.plot`.\n",
      " |      \n",
      " |      Returns\n",
      " |      -------\n",
      " |      axes : :class:`matplotlib.axes.Axes` or numpy.ndarray of them\n",
      " |      \n",
      " |      See Also\n",
      " |      --------\n",
      " |      matplotlib.pyplot.scatter : scatter plot using multiple input data\n",
      " |          formats.\n",
      " |      \n",
      " |      Examples\n",
      " |      --------\n",
      " |      Let's see how to draw a scatter plot using coordinates from the values\n",
      " |      in a DataFrame's columns.\n",
      " |      \n",
      " |      .. plot::\n",
      " |          :context: close-figs\n",
      " |      \n",
      " |          >>> df = pd.DataFrame([[5.1, 3.5, 0], [4.9, 3.0, 0], [7.0, 3.2, 1],\n",
      " |          ...                    [6.4, 3.2, 1], [5.9, 3.0, 2]],\n",
      " |          ...                   columns=['length', 'width', 'species'])\n",
      " |          >>> ax1 = df.plot.scatter(x='length',\n",
      " |          ...                       y='width',\n",
      " |          ...                       c='DarkBlue')\n",
      " |      \n",
      " |      And now with the color determined by a column as well.\n",
      " |      \n",
      " |      .. plot::\n",
      " |          :context: close-figs\n",
      " |      \n",
      " |          >>> ax2 = df.plot.scatter(x='length',\n",
      " |          ...                       y='width',\n",
      " |          ...                       c='species',\n",
      " |          ...                       colormap='viridis')\n",
      " |  \n",
      " |  ----------------------------------------------------------------------\n",
      " |  Methods inherited from BasePlotMethods:\n",
      " |  \n",
      " |  __init__(self, data)\n",
      " |      Initialize self.  See help(type(self)) for accurate signature.\n",
      " |  \n",
      " |  ----------------------------------------------------------------------\n",
      " |  Methods inherited from pandas.core.base.PandasObject:\n",
      " |  \n",
      " |  __sizeof__(self)\n",
      " |      Generates the total memory usage for an object that returns\n",
      " |      either a value or Series of values\n",
      " |  \n",
      " |  __unicode__(self)\n",
      " |      Return a string representation for a particular object.\n",
      " |      \n",
      " |      Invoked by unicode(obj) in py2 only. Yields a Unicode String in both\n",
      " |      py2/py3.\n",
      " |  \n",
      " |  ----------------------------------------------------------------------\n",
      " |  Methods inherited from pandas.core.base.StringMixin:\n",
      " |  \n",
      " |  __bytes__(self)\n",
      " |      Return a string representation for a particular object.\n",
      " |      \n",
      " |      Invoked by bytes(obj) in py3 only.\n",
      " |      Yields a bytestring in both py2/py3.\n",
      " |  \n",
      " |  __repr__(self)\n",
      " |      Return a string representation for a particular object.\n",
      " |      \n",
      " |      Yields Bytestring in Py2, Unicode String in py3.\n",
      " |  \n",
      " |  __str__(self)\n",
      " |      Return a string representation for a particular Object\n",
      " |      \n",
      " |      Invoked by str(df) in both py2/py3.\n",
      " |      Yields Bytestring in Py2, Unicode String in py3.\n",
      " |  \n",
      " |  ----------------------------------------------------------------------\n",
      " |  Data descriptors inherited from pandas.core.base.StringMixin:\n",
      " |  \n",
      " |  __dict__\n",
      " |      dictionary for instance variables (if defined)\n",
      " |  \n",
      " |  __weakref__\n",
      " |      list of weak references to the object (if defined)\n",
      " |  \n",
      " |  ----------------------------------------------------------------------\n",
      " |  Methods inherited from pandas.core.accessor.DirNamesMixin:\n",
      " |  \n",
      " |  __dir__(self)\n",
      " |      Provide method name lookup and completion\n",
      " |      Only provide 'public' methods\n",
      "\n"
     ]
    }
   ],
   "source": [
    "help(df_cancer.plot)"
   ]
  },
  {
   "cell_type": "markdown",
   "metadata": {
    "heading_collapsed": true,
    "hidden": true
   },
   "source": [
    "## Entscheidungsbaum (DecisionTreeClassifier)"
   ]
  },
  {
   "cell_type": "markdown",
   "metadata": {
    "heading_collapsed": true,
    "hidden": true
   },
   "source": [
    "### Aufteilung der Daten\n",
    "Wir teilen die Daten in einen Training- und Testdatensatz auf. \n",
    "\n",
    "https://scikit-learn.org/stable/modules/generated/sklearn.model_selection.train_test_split.html"
   ]
  },
  {
   "cell_type": "code",
   "execution_count": 33,
   "metadata": {
    "hidden": true
   },
   "outputs": [],
   "source": [
    "cancer = load_breast_cancer()"
   ]
  },
  {
   "cell_type": "code",
   "execution_count": 34,
   "metadata": {
    "hidden": true
   },
   "outputs": [],
   "source": [
    "X_train, X_test, y_train, y_test = train_test_split(\n",
    "                        cancer.data, \n",
    "                        cancer.target,\n",
    "                        test_size=0.25,\n",
    "                        stratify=cancer.target, \n",
    "                        random_state=42)"
   ]
  },
  {
   "cell_type": "code",
   "execution_count": 35,
   "metadata": {
    "hidden": true
   },
   "outputs": [
    {
     "name": "stdout",
     "output_type": "stream",
     "text": [
      "Anzahl Trainingsdatensätze: (426, 30),\n",
      "Anzahl Testdatensätze: (143, 30),\n"
     ]
    }
   ],
   "source": [
    "print(\"Anzahl Trainingsdatensätze: {},\".format(X_train.shape))\n",
    "print(\"Anzahl Testdatensätze: {},\".format(X_test.shape))"
   ]
  },
  {
   "cell_type": "markdown",
   "metadata": {
    "heading_collapsed": true,
    "hidden": true
   },
   "source": [
    "### Modell erstellen\n",
    "https://scikit-learn.org/stable/modules/generated/sklearn.tree.DecisionTreeClassifier.html"
   ]
  },
  {
   "cell_type": "code",
   "execution_count": 36,
   "metadata": {
    "hidden": true
   },
   "outputs": [],
   "source": [
    "tree = DecisionTreeClassifier(random_state=0, max_depth=None)"
   ]
  },
  {
   "cell_type": "markdown",
   "metadata": {
    "heading_collapsed": true,
    "hidden": true
   },
   "source": [
    "### Modell trainieren"
   ]
  },
  {
   "cell_type": "code",
   "execution_count": 37,
   "metadata": {
    "hidden": true,
    "hide_input": false
   },
   "outputs": [
    {
     "data": {
      "text/plain": [
       "DecisionTreeClassifier(class_weight=None, criterion='gini', max_depth=None,\n",
       "            max_features=None, max_leaf_nodes=None,\n",
       "            min_impurity_decrease=0.0, min_impurity_split=None,\n",
       "            min_samples_leaf=1, min_samples_split=2,\n",
       "            min_weight_fraction_leaf=0.0, presort=False, random_state=0,\n",
       "            splitter='best')"
      ]
     },
     "execution_count": 37,
     "metadata": {},
     "output_type": "execute_result"
    }
   ],
   "source": [
    "tree.fit(X_train, y_train)"
   ]
  },
  {
   "cell_type": "markdown",
   "metadata": {
    "heading_collapsed": true,
    "hidden": true
   },
   "source": [
    "### Modell analysieren"
   ]
  },
  {
   "cell_type": "code",
   "execution_count": 38,
   "metadata": {
    "hidden": true
   },
   "outputs": [
    {
     "name": "stdout",
     "output_type": "stream",
     "text": [
      "Accuracy on training set: 1.000\n"
     ]
    }
   ],
   "source": [
    "print(\"Accuracy on training set: {:.3f}\".format(tree.score(X_train, y_train)))"
   ]
  },
  {
   "cell_type": "code",
   "execution_count": 39,
   "metadata": {
    "hidden": true
   },
   "outputs": [
    {
     "name": "stdout",
     "output_type": "stream",
     "text": [
      "Accuracy on test set: 0.937\n"
     ]
    }
   ],
   "source": [
    "print(\"Accuracy on test set: {:.3f}\".format(tree.score(X_test, y_test)))"
   ]
  },
  {
   "cell_type": "code",
   "execution_count": 40,
   "metadata": {
    "hidden": true
   },
   "outputs": [
    {
     "data": {
      "image/svg+xml": [
       "<?xml version=\"1.0\" encoding=\"UTF-8\" standalone=\"no\"?>\r\n",
       "<!DOCTYPE svg PUBLIC \"-//W3C//DTD SVG 1.1//EN\"\r\n",
       " \"http://www.w3.org/Graphics/SVG/1.1/DTD/svg11.dtd\">\r\n",
       "<!-- Generated by graphviz version 2.38.0 (20140413.2041)\r\n",
       " -->\r\n",
       "<!-- Title: Tree Pages: 1 -->\r\n",
       "<svg width=\"1477pt\" height=\"789pt\"\r\n",
       " viewBox=\"0.00 0.00 1477.00 789.00\" xmlns=\"http://www.w3.org/2000/svg\" xmlns:xlink=\"http://www.w3.org/1999/xlink\">\r\n",
       "<g id=\"graph0\" class=\"graph\" transform=\"scale(1 1) rotate(0) translate(4 785)\">\r\n",
       "<title>Tree</title>\r\n",
       "<polygon fill=\"white\" stroke=\"none\" points=\"-4,4 -4,-785 1473,-785 1473,4 -4,4\"/>\r\n",
       "<!-- 0 -->\r\n",
       "<g id=\"node1\" class=\"node\"><title>0</title>\r\n",
       "<polygon fill=\"#399de5\" fill-opacity=\"0.403922\" stroke=\"black\" points=\"1030,-781 883,-781 883,-713 1030,-713 1030,-781\"/>\r\n",
       "<text text-anchor=\"middle\" x=\"956.5\" y=\"-765.8\" font-family=\"Times New Roman,serif\" font-size=\"14.00\">worst radius &lt;= 16.795</text>\r\n",
       "<text text-anchor=\"middle\" x=\"956.5\" y=\"-750.8\" font-family=\"Times New Roman,serif\" font-size=\"14.00\">samples = 426</text>\r\n",
       "<text text-anchor=\"middle\" x=\"956.5\" y=\"-735.8\" font-family=\"Times New Roman,serif\" font-size=\"14.00\">value = [159, 267]</text>\r\n",
       "<text text-anchor=\"middle\" x=\"956.5\" y=\"-720.8\" font-family=\"Times New Roman,serif\" font-size=\"14.00\">class = benign</text>\r\n",
       "</g>\r\n",
       "<!-- 1 -->\r\n",
       "<g id=\"node2\" class=\"node\"><title>1</title>\r\n",
       "<polygon fill=\"#399de5\" fill-opacity=\"0.901961\" stroke=\"black\" points=\"938,-677 747,-677 747,-609 938,-609 938,-677\"/>\r\n",
       "<text text-anchor=\"middle\" x=\"842.5\" y=\"-661.8\" font-family=\"Times New Roman,serif\" font-size=\"14.00\">worst concave points &lt;= 0.136</text>\r\n",
       "<text text-anchor=\"middle\" x=\"842.5\" y=\"-646.8\" font-family=\"Times New Roman,serif\" font-size=\"14.00\">samples = 284</text>\r\n",
       "<text text-anchor=\"middle\" x=\"842.5\" y=\"-631.8\" font-family=\"Times New Roman,serif\" font-size=\"14.00\">value = [25, 259]</text>\r\n",
       "<text text-anchor=\"middle\" x=\"842.5\" y=\"-616.8\" font-family=\"Times New Roman,serif\" font-size=\"14.00\">class = benign</text>\r\n",
       "</g>\r\n",
       "<!-- 0&#45;&gt;1 -->\r\n",
       "<g id=\"edge1\" class=\"edge\"><title>0&#45;&gt;1</title>\r\n",
       "<path fill=\"none\" stroke=\"black\" d=\"M919.487,-712.884C909.234,-703.709 897.991,-693.65 887.343,-684.123\"/>\r\n",
       "<polygon fill=\"black\" stroke=\"black\" points=\"889.503,-681.359 879.717,-677.299 884.836,-686.576 889.503,-681.359\"/>\r\n",
       "<text text-anchor=\"middle\" x=\"881.104\" y=\"-698.561\" font-family=\"Times New Roman,serif\" font-size=\"14.00\">True</text>\r\n",
       "</g>\r\n",
       "<!-- 28 -->\r\n",
       "<g id=\"node29\" class=\"node\"><title>28</title>\r\n",
       "<polygon fill=\"#e58139\" fill-opacity=\"0.941176\" stroke=\"black\" points=\"1140.5,-677 1000.5,-677 1000.5,-609 1140.5,-609 1140.5,-677\"/>\r\n",
       "<text text-anchor=\"middle\" x=\"1070.5\" y=\"-661.8\" font-family=\"Times New Roman,serif\" font-size=\"14.00\">texture error &lt;= 0.473</text>\r\n",
       "<text text-anchor=\"middle\" x=\"1070.5\" y=\"-646.8\" font-family=\"Times New Roman,serif\" font-size=\"14.00\">samples = 142</text>\r\n",
       "<text text-anchor=\"middle\" x=\"1070.5\" y=\"-631.8\" font-family=\"Times New Roman,serif\" font-size=\"14.00\">value = [134, 8]</text>\r\n",
       "<text text-anchor=\"middle\" x=\"1070.5\" y=\"-616.8\" font-family=\"Times New Roman,serif\" font-size=\"14.00\">class = malignant</text>\r\n",
       "</g>\r\n",
       "<!-- 0&#45;&gt;28 -->\r\n",
       "<g id=\"edge28\" class=\"edge\"><title>0&#45;&gt;28</title>\r\n",
       "<path fill=\"none\" stroke=\"black\" d=\"M993.513,-712.884C1003.77,-703.709 1015.01,-693.65 1025.66,-684.123\"/>\r\n",
       "<polygon fill=\"black\" stroke=\"black\" points=\"1028.16,-686.576 1033.28,-677.299 1023.5,-681.359 1028.16,-686.576\"/>\r\n",
       "<text text-anchor=\"middle\" x=\"1031.9\" y=\"-698.561\" font-family=\"Times New Roman,serif\" font-size=\"14.00\">False</text>\r\n",
       "</g>\r\n",
       "<!-- 2 -->\r\n",
       "<g id=\"node3\" class=\"node\"><title>2</title>\r\n",
       "<polygon fill=\"#399de5\" fill-opacity=\"0.984314\" stroke=\"black\" points=\"673.5,-573 537.5,-573 537.5,-505 673.5,-505 673.5,-573\"/>\r\n",
       "<text text-anchor=\"middle\" x=\"605.5\" y=\"-557.8\" font-family=\"Times New Roman,serif\" font-size=\"14.00\">radius error &lt;= 1.048</text>\r\n",
       "<text text-anchor=\"middle\" x=\"605.5\" y=\"-542.8\" font-family=\"Times New Roman,serif\" font-size=\"14.00\">samples = 252</text>\r\n",
       "<text text-anchor=\"middle\" x=\"605.5\" y=\"-527.8\" font-family=\"Times New Roman,serif\" font-size=\"14.00\">value = [4, 248]</text>\r\n",
       "<text text-anchor=\"middle\" x=\"605.5\" y=\"-512.8\" font-family=\"Times New Roman,serif\" font-size=\"14.00\">class = benign</text>\r\n",
       "</g>\r\n",
       "<!-- 1&#45;&gt;2 -->\r\n",
       "<g id=\"edge2\" class=\"edge\"><title>1&#45;&gt;2</title>\r\n",
       "<path fill=\"none\" stroke=\"black\" d=\"M765.553,-608.884C739.075,-597.488 709.427,-584.728 682.912,-573.316\"/>\r\n",
       "<polygon fill=\"black\" stroke=\"black\" points=\"684.243,-570.079 673.674,-569.341 681.476,-576.509 684.243,-570.079\"/>\r\n",
       "</g>\r\n",
       "<!-- 17 -->\r\n",
       "<g id=\"node18\" class=\"node\"><title>17</title>\r\n",
       "<polygon fill=\"#e58139\" fill-opacity=\"0.474510\" stroke=\"black\" points=\"914.5,-573 770.5,-573 770.5,-505 914.5,-505 914.5,-573\"/>\r\n",
       "<text text-anchor=\"middle\" x=\"842.5\" y=\"-557.8\" font-family=\"Times New Roman,serif\" font-size=\"14.00\">worst texture &lt;= 25.62</text>\r\n",
       "<text text-anchor=\"middle\" x=\"842.5\" y=\"-542.8\" font-family=\"Times New Roman,serif\" font-size=\"14.00\">samples = 32</text>\r\n",
       "<text text-anchor=\"middle\" x=\"842.5\" y=\"-527.8\" font-family=\"Times New Roman,serif\" font-size=\"14.00\">value = [21, 11]</text>\r\n",
       "<text text-anchor=\"middle\" x=\"842.5\" y=\"-512.8\" font-family=\"Times New Roman,serif\" font-size=\"14.00\">class = malignant</text>\r\n",
       "</g>\r\n",
       "<!-- 1&#45;&gt;17 -->\r\n",
       "<g id=\"edge17\" class=\"edge\"><title>1&#45;&gt;17</title>\r\n",
       "<path fill=\"none\" stroke=\"black\" d=\"M842.5,-608.884C842.5,-600.778 842.5,-591.982 842.5,-583.472\"/>\r\n",
       "<polygon fill=\"black\" stroke=\"black\" points=\"846,-583.299 842.5,-573.299 839,-583.299 846,-583.299\"/>\r\n",
       "</g>\r\n",
       "<!-- 3 -->\r\n",
       "<g id=\"node4\" class=\"node\"><title>3</title>\r\n",
       "<polygon fill=\"#399de5\" fill-opacity=\"0.988235\" stroke=\"black\" points=\"467,-469 298,-469 298,-401 467,-401 467,-469\"/>\r\n",
       "<text text-anchor=\"middle\" x=\"382.5\" y=\"-453.8\" font-family=\"Times New Roman,serif\" font-size=\"14.00\">smoothness error &lt;= 0.003</text>\r\n",
       "<text text-anchor=\"middle\" x=\"382.5\" y=\"-438.8\" font-family=\"Times New Roman,serif\" font-size=\"14.00\">samples = 251</text>\r\n",
       "<text text-anchor=\"middle\" x=\"382.5\" y=\"-423.8\" font-family=\"Times New Roman,serif\" font-size=\"14.00\">value = [3, 248]</text>\r\n",
       "<text text-anchor=\"middle\" x=\"382.5\" y=\"-408.8\" font-family=\"Times New Roman,serif\" font-size=\"14.00\">class = benign</text>\r\n",
       "</g>\r\n",
       "<!-- 2&#45;&gt;3 -->\r\n",
       "<g id=\"edge3\" class=\"edge\"><title>2&#45;&gt;3</title>\r\n",
       "<path fill=\"none\" stroke=\"black\" d=\"M537.381,-506.842C514.211,-496.245 488.081,-484.293 463.974,-473.266\"/>\r\n",
       "<polygon fill=\"black\" stroke=\"black\" points=\"465.394,-470.067 454.844,-469.09 462.482,-476.432 465.394,-470.067\"/>\r\n",
       "</g>\r\n",
       "<!-- 16 -->\r\n",
       "<g id=\"node17\" class=\"node\"><title>16</title>\r\n",
       "<polygon fill=\"#e58139\" stroke=\"black\" points=\"662,-461.5 549,-461.5 549,-408.5 662,-408.5 662,-461.5\"/>\r\n",
       "<text text-anchor=\"middle\" x=\"605.5\" y=\"-446.3\" font-family=\"Times New Roman,serif\" font-size=\"14.00\">samples = 1</text>\r\n",
       "<text text-anchor=\"middle\" x=\"605.5\" y=\"-431.3\" font-family=\"Times New Roman,serif\" font-size=\"14.00\">value = [1, 0]</text>\r\n",
       "<text text-anchor=\"middle\" x=\"605.5\" y=\"-416.3\" font-family=\"Times New Roman,serif\" font-size=\"14.00\">class = malignant</text>\r\n",
       "</g>\r\n",
       "<!-- 2&#45;&gt;16 -->\r\n",
       "<g id=\"edge16\" class=\"edge\"><title>2&#45;&gt;16</title>\r\n",
       "<path fill=\"none\" stroke=\"black\" d=\"M605.5,-504.884C605.5,-494.326 605.5,-482.597 605.5,-471.854\"/>\r\n",
       "<polygon fill=\"black\" stroke=\"black\" points=\"609,-471.52 605.5,-461.52 602,-471.52 609,-471.52\"/>\r\n",
       "</g>\r\n",
       "<!-- 4 -->\r\n",
       "<g id=\"node5\" class=\"node\"><title>4</title>\r\n",
       "<polygon fill=\"#399de5\" fill-opacity=\"0.666667\" stroke=\"black\" points=\"239,-365 104,-365 104,-297 239,-297 239,-365\"/>\r\n",
       "<text text-anchor=\"middle\" x=\"171.5\" y=\"-349.8\" font-family=\"Times New Roman,serif\" font-size=\"14.00\">mean texture &lt;= 19.9</text>\r\n",
       "<text text-anchor=\"middle\" x=\"171.5\" y=\"-334.8\" font-family=\"Times New Roman,serif\" font-size=\"14.00\">samples = 4</text>\r\n",
       "<text text-anchor=\"middle\" x=\"171.5\" y=\"-319.8\" font-family=\"Times New Roman,serif\" font-size=\"14.00\">value = [1, 3]</text>\r\n",
       "<text text-anchor=\"middle\" x=\"171.5\" y=\"-304.8\" font-family=\"Times New Roman,serif\" font-size=\"14.00\">class = benign</text>\r\n",
       "</g>\r\n",
       "<!-- 3&#45;&gt;4 -->\r\n",
       "<g id=\"edge4\" class=\"edge\"><title>3&#45;&gt;4</title>\r\n",
       "<path fill=\"none\" stroke=\"black\" d=\"M313.994,-400.884C293.041,-390.755 269.859,-379.548 248.388,-369.168\"/>\r\n",
       "<polygon fill=\"black\" stroke=\"black\" points=\"249.828,-365.977 239.302,-364.776 246.781,-372.28 249.828,-365.977\"/>\r\n",
       "</g>\r\n",
       "<!-- 7 -->\r\n",
       "<g id=\"node8\" class=\"node\"><title>7</title>\r\n",
       "<polygon fill=\"#399de5\" fill-opacity=\"0.992157\" stroke=\"black\" points=\"441.5,-365 323.5,-365 323.5,-297 441.5,-297 441.5,-365\"/>\r\n",
       "<text text-anchor=\"middle\" x=\"382.5\" y=\"-349.8\" font-family=\"Times New Roman,serif\" font-size=\"14.00\">area error &lt;= 48.7</text>\r\n",
       "<text text-anchor=\"middle\" x=\"382.5\" y=\"-334.8\" font-family=\"Times New Roman,serif\" font-size=\"14.00\">samples = 247</text>\r\n",
       "<text text-anchor=\"middle\" x=\"382.5\" y=\"-319.8\" font-family=\"Times New Roman,serif\" font-size=\"14.00\">value = [2, 245]</text>\r\n",
       "<text text-anchor=\"middle\" x=\"382.5\" y=\"-304.8\" font-family=\"Times New Roman,serif\" font-size=\"14.00\">class = benign</text>\r\n",
       "</g>\r\n",
       "<!-- 3&#45;&gt;7 -->\r\n",
       "<g id=\"edge7\" class=\"edge\"><title>3&#45;&gt;7</title>\r\n",
       "<path fill=\"none\" stroke=\"black\" d=\"M382.5,-400.884C382.5,-392.778 382.5,-383.982 382.5,-375.472\"/>\r\n",
       "<polygon fill=\"black\" stroke=\"black\" points=\"386,-375.299 382.5,-365.299 379,-375.299 386,-375.299\"/>\r\n",
       "</g>\r\n",
       "<!-- 5 -->\r\n",
       "<g id=\"node6\" class=\"node\"><title>5</title>\r\n",
       "<polygon fill=\"#399de5\" stroke=\"black\" points=\"97,-253.5 0,-253.5 0,-200.5 97,-200.5 97,-253.5\"/>\r\n",
       "<text text-anchor=\"middle\" x=\"48.5\" y=\"-238.3\" font-family=\"Times New Roman,serif\" font-size=\"14.00\">samples = 3</text>\r\n",
       "<text text-anchor=\"middle\" x=\"48.5\" y=\"-223.3\" font-family=\"Times New Roman,serif\" font-size=\"14.00\">value = [0, 3]</text>\r\n",
       "<text text-anchor=\"middle\" x=\"48.5\" y=\"-208.3\" font-family=\"Times New Roman,serif\" font-size=\"14.00\">class = benign</text>\r\n",
       "</g>\r\n",
       "<!-- 4&#45;&gt;5 -->\r\n",
       "<g id=\"edge5\" class=\"edge\"><title>4&#45;&gt;5</title>\r\n",
       "<path fill=\"none\" stroke=\"black\" d=\"M131.565,-296.884C117.375,-285.116 101.431,-271.894 87.3335,-260.203\"/>\r\n",
       "<polygon fill=\"black\" stroke=\"black\" points=\"89.2058,-257.209 79.274,-253.52 84.7374,-262.597 89.2058,-257.209\"/>\r\n",
       "</g>\r\n",
       "<!-- 6 -->\r\n",
       "<g id=\"node7\" class=\"node\"><title>6</title>\r\n",
       "<polygon fill=\"#e58139\" stroke=\"black\" points=\"228,-253.5 115,-253.5 115,-200.5 228,-200.5 228,-253.5\"/>\r\n",
       "<text text-anchor=\"middle\" x=\"171.5\" y=\"-238.3\" font-family=\"Times New Roman,serif\" font-size=\"14.00\">samples = 1</text>\r\n",
       "<text text-anchor=\"middle\" x=\"171.5\" y=\"-223.3\" font-family=\"Times New Roman,serif\" font-size=\"14.00\">value = [1, 0]</text>\r\n",
       "<text text-anchor=\"middle\" x=\"171.5\" y=\"-208.3\" font-family=\"Times New Roman,serif\" font-size=\"14.00\">class = malignant</text>\r\n",
       "</g>\r\n",
       "<!-- 4&#45;&gt;6 -->\r\n",
       "<g id=\"edge6\" class=\"edge\"><title>4&#45;&gt;6</title>\r\n",
       "<path fill=\"none\" stroke=\"black\" d=\"M171.5,-296.884C171.5,-286.326 171.5,-274.597 171.5,-263.854\"/>\r\n",
       "<polygon fill=\"black\" stroke=\"black\" points=\"175,-263.52 171.5,-253.52 168,-263.52 175,-263.52\"/>\r\n",
       "</g>\r\n",
       "<!-- 8 -->\r\n",
       "<g id=\"node9\" class=\"node\"><title>8</title>\r\n",
       "<polygon fill=\"#399de5\" fill-opacity=\"0.996078\" stroke=\"black\" points=\"390.5,-261 246.5,-261 246.5,-193 390.5,-193 390.5,-261\"/>\r\n",
       "<text text-anchor=\"middle\" x=\"318.5\" y=\"-245.8\" font-family=\"Times New Roman,serif\" font-size=\"14.00\">worst texture &lt;= 33.35</text>\r\n",
       "<text text-anchor=\"middle\" x=\"318.5\" y=\"-230.8\" font-family=\"Times New Roman,serif\" font-size=\"14.00\">samples = 243</text>\r\n",
       "<text text-anchor=\"middle\" x=\"318.5\" y=\"-215.8\" font-family=\"Times New Roman,serif\" font-size=\"14.00\">value = [1, 242]</text>\r\n",
       "<text text-anchor=\"middle\" x=\"318.5\" y=\"-200.8\" font-family=\"Times New Roman,serif\" font-size=\"14.00\">class = benign</text>\r\n",
       "</g>\r\n",
       "<!-- 7&#45;&gt;8 -->\r\n",
       "<g id=\"edge8\" class=\"edge\"><title>7&#45;&gt;8</title>\r\n",
       "<path fill=\"none\" stroke=\"black\" d=\"M361.721,-296.884C356.3,-288.243 350.387,-278.819 344.723,-269.793\"/>\r\n",
       "<polygon fill=\"black\" stroke=\"black\" points=\"347.673,-267.91 339.394,-261.299 341.744,-271.63 347.673,-267.91\"/>\r\n",
       "</g>\r\n",
       "<!-- 13 -->\r\n",
       "<g id=\"node14\" class=\"node\"><title>13</title>\r\n",
       "<polygon fill=\"#399de5\" fill-opacity=\"0.666667\" stroke=\"black\" points=\"566.5,-261 408.5,-261 408.5,-193 566.5,-193 566.5,-261\"/>\r\n",
       "<text text-anchor=\"middle\" x=\"487.5\" y=\"-245.8\" font-family=\"Times New Roman,serif\" font-size=\"14.00\">mean concavity &lt;= 0.029</text>\r\n",
       "<text text-anchor=\"middle\" x=\"487.5\" y=\"-230.8\" font-family=\"Times New Roman,serif\" font-size=\"14.00\">samples = 4</text>\r\n",
       "<text text-anchor=\"middle\" x=\"487.5\" y=\"-215.8\" font-family=\"Times New Roman,serif\" font-size=\"14.00\">value = [1, 3]</text>\r\n",
       "<text text-anchor=\"middle\" x=\"487.5\" y=\"-200.8\" font-family=\"Times New Roman,serif\" font-size=\"14.00\">class = benign</text>\r\n",
       "</g>\r\n",
       "<!-- 7&#45;&gt;13 -->\r\n",
       "<g id=\"edge13\" class=\"edge\"><title>7&#45;&gt;13</title>\r\n",
       "<path fill=\"none\" stroke=\"black\" d=\"M416.59,-296.884C425.943,-287.798 436.188,-277.845 445.911,-268.4\"/>\r\n",
       "<polygon fill=\"black\" stroke=\"black\" points=\"448.487,-270.778 453.221,-261.299 443.61,-265.757 448.487,-270.778\"/>\r\n",
       "</g>\r\n",
       "<!-- 9 -->\r\n",
       "<g id=\"node10\" class=\"node\"><title>9</title>\r\n",
       "<polygon fill=\"#399de5\" stroke=\"black\" points=\"237.5,-149.5 133.5,-149.5 133.5,-96.5 237.5,-96.5 237.5,-149.5\"/>\r\n",
       "<text text-anchor=\"middle\" x=\"185.5\" y=\"-134.3\" font-family=\"Times New Roman,serif\" font-size=\"14.00\">samples = 225</text>\r\n",
       "<text text-anchor=\"middle\" x=\"185.5\" y=\"-119.3\" font-family=\"Times New Roman,serif\" font-size=\"14.00\">value = [0, 225]</text>\r\n",
       "<text text-anchor=\"middle\" x=\"185.5\" y=\"-104.3\" font-family=\"Times New Roman,serif\" font-size=\"14.00\">class = benign</text>\r\n",
       "</g>\r\n",
       "<!-- 8&#45;&gt;9 -->\r\n",
       "<g id=\"edge9\" class=\"edge\"><title>8&#45;&gt;9</title>\r\n",
       "<path fill=\"none\" stroke=\"black\" d=\"M275.319,-192.884C259.831,-181.006 242.411,-167.646 227.064,-155.876\"/>\r\n",
       "<polygon fill=\"black\" stroke=\"black\" points=\"228.841,-152.828 218.776,-149.52 224.581,-158.383 228.841,-152.828\"/>\r\n",
       "</g>\r\n",
       "<!-- 10 -->\r\n",
       "<g id=\"node11\" class=\"node\"><title>10</title>\r\n",
       "<polygon fill=\"#399de5\" fill-opacity=\"0.941176\" stroke=\"black\" points=\"393,-157 256,-157 256,-89 393,-89 393,-157\"/>\r\n",
       "<text text-anchor=\"middle\" x=\"324.5\" y=\"-141.8\" font-family=\"Times New Roman,serif\" font-size=\"14.00\">worst texture &lt;= 33.8</text>\r\n",
       "<text text-anchor=\"middle\" x=\"324.5\" y=\"-126.8\" font-family=\"Times New Roman,serif\" font-size=\"14.00\">samples = 18</text>\r\n",
       "<text text-anchor=\"middle\" x=\"324.5\" y=\"-111.8\" font-family=\"Times New Roman,serif\" font-size=\"14.00\">value = [1, 17]</text>\r\n",
       "<text text-anchor=\"middle\" x=\"324.5\" y=\"-96.8\" font-family=\"Times New Roman,serif\" font-size=\"14.00\">class = benign</text>\r\n",
       "</g>\r\n",
       "<!-- 8&#45;&gt;10 -->\r\n",
       "<g id=\"edge10\" class=\"edge\"><title>8&#45;&gt;10</title>\r\n",
       "<path fill=\"none\" stroke=\"black\" d=\"M320.448,-192.884C320.925,-184.778 321.442,-175.982 321.943,-167.472\"/>\r\n",
       "<polygon fill=\"black\" stroke=\"black\" points=\"325.448,-167.488 322.541,-157.299 318.46,-167.077 325.448,-167.488\"/>\r\n",
       "</g>\r\n",
       "<!-- 11 -->\r\n",
       "<g id=\"node12\" class=\"node\"><title>11</title>\r\n",
       "<polygon fill=\"#e58139\" stroke=\"black\" points=\"319,-53 206,-53 206,-0 319,-0 319,-53\"/>\r\n",
       "<text text-anchor=\"middle\" x=\"262.5\" y=\"-37.8\" font-family=\"Times New Roman,serif\" font-size=\"14.00\">samples = 1</text>\r\n",
       "<text text-anchor=\"middle\" x=\"262.5\" y=\"-22.8\" font-family=\"Times New Roman,serif\" font-size=\"14.00\">value = [1, 0]</text>\r\n",
       "<text text-anchor=\"middle\" x=\"262.5\" y=\"-7.8\" font-family=\"Times New Roman,serif\" font-size=\"14.00\">class = malignant</text>\r\n",
       "</g>\r\n",
       "<!-- 10&#45;&gt;11 -->\r\n",
       "<g id=\"edge11\" class=\"edge\"><title>10&#45;&gt;11</title>\r\n",
       "<path fill=\"none\" stroke=\"black\" d=\"M302.815,-88.9485C297.054,-80.1664 290.819,-70.6629 285.014,-61.815\"/>\r\n",
       "<polygon fill=\"black\" stroke=\"black\" points=\"287.797,-59.6779 279.385,-53.2367 281.945,-63.5178 287.797,-59.6779\"/>\r\n",
       "</g>\r\n",
       "<!-- 12 -->\r\n",
       "<g id=\"node13\" class=\"node\"><title>12</title>\r\n",
       "<polygon fill=\"#399de5\" stroke=\"black\" points=\"435.5,-53 337.5,-53 337.5,-0 435.5,-0 435.5,-53\"/>\r\n",
       "<text text-anchor=\"middle\" x=\"386.5\" y=\"-37.8\" font-family=\"Times New Roman,serif\" font-size=\"14.00\">samples = 17</text>\r\n",
       "<text text-anchor=\"middle\" x=\"386.5\" y=\"-22.8\" font-family=\"Times New Roman,serif\" font-size=\"14.00\">value = [0, 17]</text>\r\n",
       "<text text-anchor=\"middle\" x=\"386.5\" y=\"-7.8\" font-family=\"Times New Roman,serif\" font-size=\"14.00\">class = benign</text>\r\n",
       "</g>\r\n",
       "<!-- 10&#45;&gt;12 -->\r\n",
       "<g id=\"edge12\" class=\"edge\"><title>10&#45;&gt;12</title>\r\n",
       "<path fill=\"none\" stroke=\"black\" d=\"M346.185,-88.9485C351.946,-80.1664 358.181,-70.6629 363.986,-61.815\"/>\r\n",
       "<polygon fill=\"black\" stroke=\"black\" points=\"367.055,-63.5178 369.615,-53.2367 361.203,-59.6779 367.055,-63.5178\"/>\r\n",
       "</g>\r\n",
       "<!-- 14 -->\r\n",
       "<g id=\"node15\" class=\"node\"><title>14</title>\r\n",
       "<polygon fill=\"#e58139\" stroke=\"black\" points=\"537,-149.5 424,-149.5 424,-96.5 537,-96.5 537,-149.5\"/>\r\n",
       "<text text-anchor=\"middle\" x=\"480.5\" y=\"-134.3\" font-family=\"Times New Roman,serif\" font-size=\"14.00\">samples = 1</text>\r\n",
       "<text text-anchor=\"middle\" x=\"480.5\" y=\"-119.3\" font-family=\"Times New Roman,serif\" font-size=\"14.00\">value = [1, 0]</text>\r\n",
       "<text text-anchor=\"middle\" x=\"480.5\" y=\"-104.3\" font-family=\"Times New Roman,serif\" font-size=\"14.00\">class = malignant</text>\r\n",
       "</g>\r\n",
       "<!-- 13&#45;&gt;14 -->\r\n",
       "<g id=\"edge14\" class=\"edge\"><title>13&#45;&gt;14</title>\r\n",
       "<path fill=\"none\" stroke=\"black\" d=\"M485.227,-192.884C484.495,-182.216 483.681,-170.352 482.938,-159.519\"/>\r\n",
       "<polygon fill=\"black\" stroke=\"black\" points=\"486.428,-159.257 482.251,-149.52 479.444,-159.736 486.428,-159.257\"/>\r\n",
       "</g>\r\n",
       "<!-- 15 -->\r\n",
       "<g id=\"node16\" class=\"node\"><title>15</title>\r\n",
       "<polygon fill=\"#399de5\" stroke=\"black\" points=\"652,-149.5 555,-149.5 555,-96.5 652,-96.5 652,-149.5\"/>\r\n",
       "<text text-anchor=\"middle\" x=\"603.5\" y=\"-134.3\" font-family=\"Times New Roman,serif\" font-size=\"14.00\">samples = 3</text>\r\n",
       "<text text-anchor=\"middle\" x=\"603.5\" y=\"-119.3\" font-family=\"Times New Roman,serif\" font-size=\"14.00\">value = [0, 3]</text>\r\n",
       "<text text-anchor=\"middle\" x=\"603.5\" y=\"-104.3\" font-family=\"Times New Roman,serif\" font-size=\"14.00\">class = benign</text>\r\n",
       "</g>\r\n",
       "<!-- 13&#45;&gt;15 -->\r\n",
       "<g id=\"edge15\" class=\"edge\"><title>13&#45;&gt;15</title>\r\n",
       "<path fill=\"none\" stroke=\"black\" d=\"M525.162,-192.884C538.545,-181.116 553.582,-167.894 566.877,-156.203\"/>\r\n",
       "<polygon fill=\"black\" stroke=\"black\" points=\"569.279,-158.752 574.477,-149.52 564.656,-153.495 569.279,-158.752\"/>\r\n",
       "</g>\r\n",
       "<!-- 18 -->\r\n",
       "<g id=\"node19\" class=\"node\"><title>18</title>\r\n",
       "<polygon fill=\"#399de5\" fill-opacity=\"0.666667\" stroke=\"black\" points=\"858,-469 729,-469 729,-401 858,-401 858,-469\"/>\r\n",
       "<text text-anchor=\"middle\" x=\"793.5\" y=\"-453.8\" font-family=\"Times New Roman,serif\" font-size=\"14.00\">worst area &lt;= 817.1</text>\r\n",
       "<text text-anchor=\"middle\" x=\"793.5\" y=\"-438.8\" font-family=\"Times New Roman,serif\" font-size=\"14.00\">samples = 12</text>\r\n",
       "<text text-anchor=\"middle\" x=\"793.5\" y=\"-423.8\" font-family=\"Times New Roman,serif\" font-size=\"14.00\">value = [3, 9]</text>\r\n",
       "<text text-anchor=\"middle\" x=\"793.5\" y=\"-408.8\" font-family=\"Times New Roman,serif\" font-size=\"14.00\">class = benign</text>\r\n",
       "</g>\r\n",
       "<!-- 17&#45;&gt;18 -->\r\n",
       "<g id=\"edge18\" class=\"edge\"><title>17&#45;&gt;18</title>\r\n",
       "<path fill=\"none\" stroke=\"black\" d=\"M826.591,-504.884C822.526,-496.422 818.1,-487.207 813.845,-478.352\"/>\r\n",
       "<polygon fill=\"black\" stroke=\"black\" points=\"816.982,-476.798 809.497,-469.299 810.672,-479.829 816.982,-476.798\"/>\r\n",
       "</g>\r\n",
       "<!-- 23 -->\r\n",
       "<g id=\"node24\" class=\"node\"><title>23</title>\r\n",
       "<polygon fill=\"#e58139\" fill-opacity=\"0.890196\" stroke=\"black\" points=\"1047,-469 886,-469 886,-401 1047,-401 1047,-469\"/>\r\n",
       "<text text-anchor=\"middle\" x=\"966.5\" y=\"-453.8\" font-family=\"Times New Roman,serif\" font-size=\"14.00\">worst symmetry &lt;= 0.268</text>\r\n",
       "<text text-anchor=\"middle\" x=\"966.5\" y=\"-438.8\" font-family=\"Times New Roman,serif\" font-size=\"14.00\">samples = 20</text>\r\n",
       "<text text-anchor=\"middle\" x=\"966.5\" y=\"-423.8\" font-family=\"Times New Roman,serif\" font-size=\"14.00\">value = [18, 2]</text>\r\n",
       "<text text-anchor=\"middle\" x=\"966.5\" y=\"-408.8\" font-family=\"Times New Roman,serif\" font-size=\"14.00\">class = malignant</text>\r\n",
       "</g>\r\n",
       "<!-- 17&#45;&gt;23 -->\r\n",
       "<g id=\"edge23\" class=\"edge\"><title>17&#45;&gt;23</title>\r\n",
       "<path fill=\"none\" stroke=\"black\" d=\"M882.759,-504.884C894.021,-495.62 906.378,-485.455 918.06,-475.845\"/>\r\n",
       "<polygon fill=\"black\" stroke=\"black\" points=\"920.519,-478.355 926.018,-469.299 916.072,-472.949 920.519,-478.355\"/>\r\n",
       "</g>\r\n",
       "<!-- 19 -->\r\n",
       "<g id=\"node20\" class=\"node\"><title>19</title>\r\n",
       "<polygon fill=\"#399de5\" fill-opacity=\"0.890196\" stroke=\"black\" points=\"719,-365 548,-365 548,-297 719,-297 719,-365\"/>\r\n",
       "<text text-anchor=\"middle\" x=\"633.5\" y=\"-349.8\" font-family=\"Times New Roman,serif\" font-size=\"14.00\">mean smoothness &lt;= 0.123</text>\r\n",
       "<text text-anchor=\"middle\" x=\"633.5\" y=\"-334.8\" font-family=\"Times New Roman,serif\" font-size=\"14.00\">samples = 10</text>\r\n",
       "<text text-anchor=\"middle\" x=\"633.5\" y=\"-319.8\" font-family=\"Times New Roman,serif\" font-size=\"14.00\">value = [1, 9]</text>\r\n",
       "<text text-anchor=\"middle\" x=\"633.5\" y=\"-304.8\" font-family=\"Times New Roman,serif\" font-size=\"14.00\">class = benign</text>\r\n",
       "</g>\r\n",
       "<!-- 18&#45;&gt;19 -->\r\n",
       "<g id=\"edge19\" class=\"edge\"><title>18&#45;&gt;19</title>\r\n",
       "<path fill=\"none\" stroke=\"black\" d=\"M741.553,-400.884C726.385,-391.214 709.678,-380.563 694.029,-370.587\"/>\r\n",
       "<polygon fill=\"black\" stroke=\"black\" points=\"695.774,-367.549 685.46,-365.125 692.011,-373.452 695.774,-367.549\"/>\r\n",
       "</g>\r\n",
       "<!-- 22 -->\r\n",
       "<g id=\"node23\" class=\"node\"><title>22</title>\r\n",
       "<polygon fill=\"#e58139\" stroke=\"black\" points=\"850,-357.5 737,-357.5 737,-304.5 850,-304.5 850,-357.5\"/>\r\n",
       "<text text-anchor=\"middle\" x=\"793.5\" y=\"-342.3\" font-family=\"Times New Roman,serif\" font-size=\"14.00\">samples = 2</text>\r\n",
       "<text text-anchor=\"middle\" x=\"793.5\" y=\"-327.3\" font-family=\"Times New Roman,serif\" font-size=\"14.00\">value = [2, 0]</text>\r\n",
       "<text text-anchor=\"middle\" x=\"793.5\" y=\"-312.3\" font-family=\"Times New Roman,serif\" font-size=\"14.00\">class = malignant</text>\r\n",
       "</g>\r\n",
       "<!-- 18&#45;&gt;22 -->\r\n",
       "<g id=\"edge22\" class=\"edge\"><title>18&#45;&gt;22</title>\r\n",
       "<path fill=\"none\" stroke=\"black\" d=\"M793.5,-400.884C793.5,-390.326 793.5,-378.597 793.5,-367.854\"/>\r\n",
       "<polygon fill=\"black\" stroke=\"black\" points=\"797,-367.52 793.5,-357.52 790,-367.52 797,-367.52\"/>\r\n",
       "</g>\r\n",
       "<!-- 20 -->\r\n",
       "<g id=\"node21\" class=\"node\"><title>20</title>\r\n",
       "<polygon fill=\"#399de5\" stroke=\"black\" points=\"682,-253.5 585,-253.5 585,-200.5 682,-200.5 682,-253.5\"/>\r\n",
       "<text text-anchor=\"middle\" x=\"633.5\" y=\"-238.3\" font-family=\"Times New Roman,serif\" font-size=\"14.00\">samples = 9</text>\r\n",
       "<text text-anchor=\"middle\" x=\"633.5\" y=\"-223.3\" font-family=\"Times New Roman,serif\" font-size=\"14.00\">value = [0, 9]</text>\r\n",
       "<text text-anchor=\"middle\" x=\"633.5\" y=\"-208.3\" font-family=\"Times New Roman,serif\" font-size=\"14.00\">class = benign</text>\r\n",
       "</g>\r\n",
       "<!-- 19&#45;&gt;20 -->\r\n",
       "<g id=\"edge20\" class=\"edge\"><title>19&#45;&gt;20</title>\r\n",
       "<path fill=\"none\" stroke=\"black\" d=\"M633.5,-296.884C633.5,-286.326 633.5,-274.597 633.5,-263.854\"/>\r\n",
       "<polygon fill=\"black\" stroke=\"black\" points=\"637,-263.52 633.5,-253.52 630,-263.52 637,-263.52\"/>\r\n",
       "</g>\r\n",
       "<!-- 21 -->\r\n",
       "<g id=\"node22\" class=\"node\"><title>21</title>\r\n",
       "<polygon fill=\"#e58139\" stroke=\"black\" points=\"813,-253.5 700,-253.5 700,-200.5 813,-200.5 813,-253.5\"/>\r\n",
       "<text text-anchor=\"middle\" x=\"756.5\" y=\"-238.3\" font-family=\"Times New Roman,serif\" font-size=\"14.00\">samples = 1</text>\r\n",
       "<text text-anchor=\"middle\" x=\"756.5\" y=\"-223.3\" font-family=\"Times New Roman,serif\" font-size=\"14.00\">value = [1, 0]</text>\r\n",
       "<text text-anchor=\"middle\" x=\"756.5\" y=\"-208.3\" font-family=\"Times New Roman,serif\" font-size=\"14.00\">class = malignant</text>\r\n",
       "</g>\r\n",
       "<!-- 19&#45;&gt;21 -->\r\n",
       "<g id=\"edge21\" class=\"edge\"><title>19&#45;&gt;21</title>\r\n",
       "<path fill=\"none\" stroke=\"black\" d=\"M673.435,-296.884C687.625,-285.116 703.569,-271.894 717.667,-260.203\"/>\r\n",
       "<polygon fill=\"black\" stroke=\"black\" points=\"720.263,-262.597 725.726,-253.52 715.794,-257.209 720.263,-262.597\"/>\r\n",
       "</g>\r\n",
       "<!-- 24 -->\r\n",
       "<g id=\"node25\" class=\"node\"><title>24</title>\r\n",
       "<polygon fill=\"#399de5\" fill-opacity=\"0.498039\" stroke=\"black\" points=\"1065,-365 868,-365 868,-297 1065,-297 1065,-365\"/>\r\n",
       "<text text-anchor=\"middle\" x=\"966.5\" y=\"-349.8\" font-family=\"Times New Roman,serif\" font-size=\"14.00\">fractal dimension error &lt;= 0.002</text>\r\n",
       "<text text-anchor=\"middle\" x=\"966.5\" y=\"-334.8\" font-family=\"Times New Roman,serif\" font-size=\"14.00\">samples = 3</text>\r\n",
       "<text text-anchor=\"middle\" x=\"966.5\" y=\"-319.8\" font-family=\"Times New Roman,serif\" font-size=\"14.00\">value = [1, 2]</text>\r\n",
       "<text text-anchor=\"middle\" x=\"966.5\" y=\"-304.8\" font-family=\"Times New Roman,serif\" font-size=\"14.00\">class = benign</text>\r\n",
       "</g>\r\n",
       "<!-- 23&#45;&gt;24 -->\r\n",
       "<g id=\"edge24\" class=\"edge\"><title>23&#45;&gt;24</title>\r\n",
       "<path fill=\"none\" stroke=\"black\" d=\"M966.5,-400.884C966.5,-392.778 966.5,-383.982 966.5,-375.472\"/>\r\n",
       "<polygon fill=\"black\" stroke=\"black\" points=\"970,-375.299 966.5,-365.299 963,-375.299 970,-375.299\"/>\r\n",
       "</g>\r\n",
       "<!-- 27 -->\r\n",
       "<g id=\"node28\" class=\"node\"><title>27</title>\r\n",
       "<polygon fill=\"#e58139\" stroke=\"black\" points=\"1196,-357.5 1083,-357.5 1083,-304.5 1196,-304.5 1196,-357.5\"/>\r\n",
       "<text text-anchor=\"middle\" x=\"1139.5\" y=\"-342.3\" font-family=\"Times New Roman,serif\" font-size=\"14.00\">samples = 17</text>\r\n",
       "<text text-anchor=\"middle\" x=\"1139.5\" y=\"-327.3\" font-family=\"Times New Roman,serif\" font-size=\"14.00\">value = [17, 0]</text>\r\n",
       "<text text-anchor=\"middle\" x=\"1139.5\" y=\"-312.3\" font-family=\"Times New Roman,serif\" font-size=\"14.00\">class = malignant</text>\r\n",
       "</g>\r\n",
       "<!-- 23&#45;&gt;27 -->\r\n",
       "<g id=\"edge27\" class=\"edge\"><title>23&#45;&gt;27</title>\r\n",
       "<path fill=\"none\" stroke=\"black\" d=\"M1022.67,-400.884C1043.47,-388.621 1066.94,-374.779 1087.37,-362.737\"/>\r\n",
       "<polygon fill=\"black\" stroke=\"black\" points=\"1089.38,-365.614 1096.22,-357.52 1085.82,-359.584 1089.38,-365.614\"/>\r\n",
       "</g>\r\n",
       "<!-- 25 -->\r\n",
       "<g id=\"node26\" class=\"node\"><title>25</title>\r\n",
       "<polygon fill=\"#e58139\" stroke=\"black\" points=\"983,-253.5 870,-253.5 870,-200.5 983,-200.5 983,-253.5\"/>\r\n",
       "<text text-anchor=\"middle\" x=\"926.5\" y=\"-238.3\" font-family=\"Times New Roman,serif\" font-size=\"14.00\">samples = 1</text>\r\n",
       "<text text-anchor=\"middle\" x=\"926.5\" y=\"-223.3\" font-family=\"Times New Roman,serif\" font-size=\"14.00\">value = [1, 0]</text>\r\n",
       "<text text-anchor=\"middle\" x=\"926.5\" y=\"-208.3\" font-family=\"Times New Roman,serif\" font-size=\"14.00\">class = malignant</text>\r\n",
       "</g>\r\n",
       "<!-- 24&#45;&gt;25 -->\r\n",
       "<g id=\"edge25\" class=\"edge\"><title>24&#45;&gt;25</title>\r\n",
       "<path fill=\"none\" stroke=\"black\" d=\"M953.513,-296.884C949.243,-285.996 944.485,-273.863 940.167,-262.85\"/>\r\n",
       "<polygon fill=\"black\" stroke=\"black\" points=\"943.417,-261.552 936.508,-253.52 936.9,-264.107 943.417,-261.552\"/>\r\n",
       "</g>\r\n",
       "<!-- 26 -->\r\n",
       "<g id=\"node27\" class=\"node\"><title>26</title>\r\n",
       "<polygon fill=\"#399de5\" stroke=\"black\" points=\"1098,-253.5 1001,-253.5 1001,-200.5 1098,-200.5 1098,-253.5\"/>\r\n",
       "<text text-anchor=\"middle\" x=\"1049.5\" y=\"-238.3\" font-family=\"Times New Roman,serif\" font-size=\"14.00\">samples = 2</text>\r\n",
       "<text text-anchor=\"middle\" x=\"1049.5\" y=\"-223.3\" font-family=\"Times New Roman,serif\" font-size=\"14.00\">value = [0, 2]</text>\r\n",
       "<text text-anchor=\"middle\" x=\"1049.5\" y=\"-208.3\" font-family=\"Times New Roman,serif\" font-size=\"14.00\">class = benign</text>\r\n",
       "</g>\r\n",
       "<!-- 24&#45;&gt;26 -->\r\n",
       "<g id=\"edge26\" class=\"edge\"><title>24&#45;&gt;26</title>\r\n",
       "<path fill=\"none\" stroke=\"black\" d=\"M993.448,-296.884C1002.67,-285.556 1012.98,-272.88 1022.22,-261.521\"/>\r\n",
       "<polygon fill=\"black\" stroke=\"black\" points=\"1025.14,-263.486 1028.73,-253.52 1019.71,-259.067 1025.14,-263.486\"/>\r\n",
       "</g>\r\n",
       "<!-- 29 -->\r\n",
       "<g id=\"node30\" class=\"node\"><title>29</title>\r\n",
       "<polygon fill=\"#399de5\" stroke=\"black\" points=\"1119,-565.5 1022,-565.5 1022,-512.5 1119,-512.5 1119,-565.5\"/>\r\n",
       "<text text-anchor=\"middle\" x=\"1070.5\" y=\"-550.3\" font-family=\"Times New Roman,serif\" font-size=\"14.00\">samples = 5</text>\r\n",
       "<text text-anchor=\"middle\" x=\"1070.5\" y=\"-535.3\" font-family=\"Times New Roman,serif\" font-size=\"14.00\">value = [0, 5]</text>\r\n",
       "<text text-anchor=\"middle\" x=\"1070.5\" y=\"-520.3\" font-family=\"Times New Roman,serif\" font-size=\"14.00\">class = benign</text>\r\n",
       "</g>\r\n",
       "<!-- 28&#45;&gt;29 -->\r\n",
       "<g id=\"edge29\" class=\"edge\"><title>28&#45;&gt;29</title>\r\n",
       "<path fill=\"none\" stroke=\"black\" d=\"M1070.5,-608.884C1070.5,-598.326 1070.5,-586.597 1070.5,-575.854\"/>\r\n",
       "<polygon fill=\"black\" stroke=\"black\" points=\"1074,-575.52 1070.5,-565.52 1067,-575.52 1074,-575.52\"/>\r\n",
       "</g>\r\n",
       "<!-- 30 -->\r\n",
       "<g id=\"node31\" class=\"node\"><title>30</title>\r\n",
       "<polygon fill=\"#e58139\" fill-opacity=\"0.976471\" stroke=\"black\" points=\"1343,-573 1182,-573 1182,-505 1343,-505 1343,-573\"/>\r\n",
       "<text text-anchor=\"middle\" x=\"1262.5\" y=\"-557.8\" font-family=\"Times New Roman,serif\" font-size=\"14.00\">worst concavity &lt;= 0.191</text>\r\n",
       "<text text-anchor=\"middle\" x=\"1262.5\" y=\"-542.8\" font-family=\"Times New Roman,serif\" font-size=\"14.00\">samples = 137</text>\r\n",
       "<text text-anchor=\"middle\" x=\"1262.5\" y=\"-527.8\" font-family=\"Times New Roman,serif\" font-size=\"14.00\">value = [134, 3]</text>\r\n",
       "<text text-anchor=\"middle\" x=\"1262.5\" y=\"-512.8\" font-family=\"Times New Roman,serif\" font-size=\"14.00\">class = malignant</text>\r\n",
       "</g>\r\n",
       "<!-- 28&#45;&gt;30 -->\r\n",
       "<g id=\"edge30\" class=\"edge\"><title>28&#45;&gt;30</title>\r\n",
       "<path fill=\"none\" stroke=\"black\" d=\"M1132.84,-608.884C1151.46,-598.991 1172.02,-588.07 1191.17,-577.895\"/>\r\n",
       "<polygon fill=\"black\" stroke=\"black\" points=\"1192.96,-580.907 1200.15,-573.125 1189.67,-574.725 1192.96,-580.907\"/>\r\n",
       "</g>\r\n",
       "<!-- 31 -->\r\n",
       "<g id=\"node32\" class=\"node\"><title>31</title>\r\n",
       "<polygon fill=\"#399de5\" fill-opacity=\"0.333333\" stroke=\"black\" points=\"1338,-469 1187,-469 1187,-401 1338,-401 1338,-469\"/>\r\n",
       "<text text-anchor=\"middle\" x=\"1262.5\" y=\"-453.8\" font-family=\"Times New Roman,serif\" font-size=\"14.00\">worst texture &lt;= 30.975</text>\r\n",
       "<text text-anchor=\"middle\" x=\"1262.5\" y=\"-438.8\" font-family=\"Times New Roman,serif\" font-size=\"14.00\">samples = 5</text>\r\n",
       "<text text-anchor=\"middle\" x=\"1262.5\" y=\"-423.8\" font-family=\"Times New Roman,serif\" font-size=\"14.00\">value = [2, 3]</text>\r\n",
       "<text text-anchor=\"middle\" x=\"1262.5\" y=\"-408.8\" font-family=\"Times New Roman,serif\" font-size=\"14.00\">class = benign</text>\r\n",
       "</g>\r\n",
       "<!-- 30&#45;&gt;31 -->\r\n",
       "<g id=\"edge31\" class=\"edge\"><title>30&#45;&gt;31</title>\r\n",
       "<path fill=\"none\" stroke=\"black\" d=\"M1262.5,-504.884C1262.5,-496.778 1262.5,-487.982 1262.5,-479.472\"/>\r\n",
       "<polygon fill=\"black\" stroke=\"black\" points=\"1266,-479.299 1262.5,-469.299 1259,-479.299 1266,-479.299\"/>\r\n",
       "</g>\r\n",
       "<!-- 34 -->\r\n",
       "<g id=\"node35\" class=\"node\"><title>34</title>\r\n",
       "<polygon fill=\"#e58139\" stroke=\"black\" points=\"1469,-461.5 1356,-461.5 1356,-408.5 1469,-408.5 1469,-461.5\"/>\r\n",
       "<text text-anchor=\"middle\" x=\"1412.5\" y=\"-446.3\" font-family=\"Times New Roman,serif\" font-size=\"14.00\">samples = 132</text>\r\n",
       "<text text-anchor=\"middle\" x=\"1412.5\" y=\"-431.3\" font-family=\"Times New Roman,serif\" font-size=\"14.00\">value = [132, 0]</text>\r\n",
       "<text text-anchor=\"middle\" x=\"1412.5\" y=\"-416.3\" font-family=\"Times New Roman,serif\" font-size=\"14.00\">class = malignant</text>\r\n",
       "</g>\r\n",
       "<!-- 30&#45;&gt;34 -->\r\n",
       "<g id=\"edge34\" class=\"edge\"><title>30&#45;&gt;34</title>\r\n",
       "<path fill=\"none\" stroke=\"black\" d=\"M1311.2,-504.884C1328.99,-492.786 1349.04,-479.151 1366.58,-467.224\"/>\r\n",
       "<polygon fill=\"black\" stroke=\"black\" points=\"1368.67,-470.037 1374.97,-461.52 1364.73,-464.249 1368.67,-470.037\"/>\r\n",
       "</g>\r\n",
       "<!-- 32 -->\r\n",
       "<g id=\"node33\" class=\"node\"><title>32</title>\r\n",
       "<polygon fill=\"#399de5\" stroke=\"black\" points=\"1311,-357.5 1214,-357.5 1214,-304.5 1311,-304.5 1311,-357.5\"/>\r\n",
       "<text text-anchor=\"middle\" x=\"1262.5\" y=\"-342.3\" font-family=\"Times New Roman,serif\" font-size=\"14.00\">samples = 3</text>\r\n",
       "<text text-anchor=\"middle\" x=\"1262.5\" y=\"-327.3\" font-family=\"Times New Roman,serif\" font-size=\"14.00\">value = [0, 3]</text>\r\n",
       "<text text-anchor=\"middle\" x=\"1262.5\" y=\"-312.3\" font-family=\"Times New Roman,serif\" font-size=\"14.00\">class = benign</text>\r\n",
       "</g>\r\n",
       "<!-- 31&#45;&gt;32 -->\r\n",
       "<g id=\"edge32\" class=\"edge\"><title>31&#45;&gt;32</title>\r\n",
       "<path fill=\"none\" stroke=\"black\" d=\"M1262.5,-400.884C1262.5,-390.326 1262.5,-378.597 1262.5,-367.854\"/>\r\n",
       "<polygon fill=\"black\" stroke=\"black\" points=\"1266,-367.52 1262.5,-357.52 1259,-367.52 1266,-367.52\"/>\r\n",
       "</g>\r\n",
       "<!-- 33 -->\r\n",
       "<g id=\"node34\" class=\"node\"><title>33</title>\r\n",
       "<polygon fill=\"#e58139\" stroke=\"black\" points=\"1442,-357.5 1329,-357.5 1329,-304.5 1442,-304.5 1442,-357.5\"/>\r\n",
       "<text text-anchor=\"middle\" x=\"1385.5\" y=\"-342.3\" font-family=\"Times New Roman,serif\" font-size=\"14.00\">samples = 2</text>\r\n",
       "<text text-anchor=\"middle\" x=\"1385.5\" y=\"-327.3\" font-family=\"Times New Roman,serif\" font-size=\"14.00\">value = [2, 0]</text>\r\n",
       "<text text-anchor=\"middle\" x=\"1385.5\" y=\"-312.3\" font-family=\"Times New Roman,serif\" font-size=\"14.00\">class = malignant</text>\r\n",
       "</g>\r\n",
       "<!-- 31&#45;&gt;33 -->\r\n",
       "<g id=\"edge33\" class=\"edge\"><title>31&#45;&gt;33</title>\r\n",
       "<path fill=\"none\" stroke=\"black\" d=\"M1302.43,-400.884C1316.63,-389.116 1332.57,-375.894 1346.67,-364.203\"/>\r\n",
       "<polygon fill=\"black\" stroke=\"black\" points=\"1349.26,-366.597 1354.73,-357.52 1344.79,-361.209 1349.26,-366.597\"/>\r\n",
       "</g>\r\n",
       "</g>\r\n",
       "</svg>\r\n"
      ],
      "text/plain": [
       "<graphviz.files.Source at 0x35e742e8>"
      ]
     },
     "metadata": {},
     "output_type": "display_data"
    }
   ],
   "source": [
    "analyze_decision_tree(tree)"
   ]
  },
  {
   "cell_type": "markdown",
   "metadata": {
    "heading_collapsed": true,
    "hidden": true
   },
   "source": [
    "##### Building decision trees"
   ]
  },
  {
   "cell_type": "markdown",
   "metadata": {
    "heading_collapsed": true,
    "hidden": true
   },
   "source": [
    "## Generalisierung, Overfitting und Underfitting"
   ]
  },
  {
   "cell_type": "markdown",
   "metadata": {
    "heading_collapsed": true,
    "hidden": true
   },
   "source": [
    "### Was ist Overfitting?"
   ]
  },
  {
   "cell_type": "markdown",
   "metadata": {
    "hidden": true
   },
   "source": [
    "![overfitting_example](images/OverfittingExample.png)"
   ]
  },
  {
   "cell_type": "markdown",
   "metadata": {
    "hidden": true
   },
   "source": [
    "![overfitting_depth_1](images/Overfitting-depth_1.png)"
   ]
  },
  {
   "cell_type": "markdown",
   "metadata": {
    "hidden": true
   },
   "source": [
    "![overfitting_example](images/Overfitting-depth_2.png)"
   ]
  },
  {
   "cell_type": "markdown",
   "metadata": {
    "hidden": true
   },
   "source": [
    "![overfitting_example](images/Overfitting-depth_9.png)"
   ]
  },
  {
   "cell_type": "markdown",
   "metadata": {
    "heading_collapsed": true,
    "hidden": true
   },
   "source": [
    "### Was ist Underfitting"
   ]
  },
  {
   "cell_type": "code",
   "execution_count": null,
   "metadata": {
    "hidden": true
   },
   "outputs": [],
   "source": [
    "cancer = load_breast_cancer()\n",
    "\n",
    "X_train, X_test, y_train, y_test = train_test_split(\n",
    "                        cancer.data, \n",
    "                        cancer.target,\n",
    "                        test_size=0.25,\n",
    "                        stratify=cancer.target, \n",
    "                        random_state=42)"
   ]
  },
  {
   "cell_type": "code",
   "execution_count": null,
   "metadata": {
    "hidden": true
   },
   "outputs": [],
   "source": [
    "svm_model = SVC(kernel='linear',C=0.000000001)"
   ]
  },
  {
   "cell_type": "code",
   "execution_count": null,
   "metadata": {
    "hidden": true
   },
   "outputs": [],
   "source": [
    "svm_model.fit(X_train, y_train)"
   ]
  },
  {
   "cell_type": "code",
   "execution_count": null,
   "metadata": {
    "hidden": true
   },
   "outputs": [],
   "source": [
    "print(\"Accuracy on training set: {:.3f}\".format(svm_model.score(X_train, y_train)))"
   ]
  },
  {
   "cell_type": "code",
   "execution_count": null,
   "metadata": {
    "hidden": true
   },
   "outputs": [],
   "source": [
    "print(\"Accuracy on test set: {:.3f}\".format(svm_model.score(X_test, y_test)))"
   ]
  },
  {
   "cell_type": "markdown",
   "metadata": {
    "heading_collapsed": true,
    "hidden": true
   },
   "source": [
    "### Verallgemeinerungsleistung prüfen (Kreuzvalidierug)"
   ]
  },
  {
   "cell_type": "markdown",
   "metadata": {
    "hidden": true
   },
   "source": [
    "Kreuzvalidierung ist eine statistische Methode zum Auswerten der Verallgemeinerungsleistung eines ML-Modells\n",
    "\n",
    "https://scikit-learn.org/stable/modules/generated/sklearn.model_selection.cross_val_score.html"
   ]
  },
  {
   "cell_type": "code",
   "execution_count": null,
   "metadata": {
    "hidden": true
   },
   "outputs": [],
   "source": [
    "cancer = load_breast_cancer()\n",
    "tree = DecisionTreeClassifier(random_state=0)"
   ]
  },
  {
   "cell_type": "markdown",
   "metadata": {
    "hidden": true
   },
   "source": [
    " - Bei Klassifizierung wird standardmässig die stratifizierte k-fache Kreuzvalidierung eingesetzt! \n",
    " - Bei einer Regression die k-fache Kreuzvalidierung!"
   ]
  },
  {
   "cell_type": "code",
   "execution_count": null,
   "metadata": {
    "hidden": true
   },
   "outputs": [],
   "source": [
    "scores = cross_val_score(tree, X=cancer.data,y=cancer.target,cv=5)\n",
    "print(\"Cross-validation scores: {}\".format(scores))\n",
    "print(\"Mean times and scores: \", scores.mean())"
   ]
  },
  {
   "cell_type": "markdown",
   "metadata": {
    "heading_collapsed": true,
    "hidden": true
   },
   "source": [
    "### Kontrollieren der Komplexität von Entscheidungsbäumen am Beispiel"
   ]
  },
  {
   "cell_type": "markdown",
   "metadata": {
    "hidden": true
   },
   "source": [
    "**Hyperparameter**\n",
    "\n",
    " -  max_depth:       Maximale Tiefe des Baumes\n",
    " -  max_leaf_nodes:  Maximale Anzahl der Blätter"
   ]
  },
  {
   "cell_type": "markdown",
   "metadata": {
    "heading_collapsed": true,
    "hidden": true
   },
   "source": [
    "#### Aufteilung der Daten"
   ]
  },
  {
   "cell_type": "code",
   "execution_count": null,
   "metadata": {
    "hidden": true
   },
   "outputs": [],
   "source": [
    "cancer = load_breast_cancer()"
   ]
  },
  {
   "cell_type": "code",
   "execution_count": null,
   "metadata": {
    "hidden": true
   },
   "outputs": [],
   "source": [
    "X_train, X_test, y_train, y_test = train_test_split(\n",
    "                        cancer.data, \n",
    "                        cancer.target,\n",
    "                        test_size=0.25,\n",
    "                        stratify=cancer.target, \n",
    "                        random_state=42)"
   ]
  },
  {
   "cell_type": "markdown",
   "metadata": {
    "heading_collapsed": true,
    "hidden": true
   },
   "source": [
    "#### Modell erstellen\n",
    "https://scikit-learn.org/stable/modules/generated/sklearn.tree.DecisionTreeClassifier.html"
   ]
  },
  {
   "cell_type": "code",
   "execution_count": null,
   "metadata": {
    "hidden": true,
    "uuid": "dc2f68ee-0df0-47ed-b500-7ec99d5a0a5d"
   },
   "outputs": [],
   "source": [
    "tree = DecisionTreeClassifier(random_state=0,max_depth=5,max_leaf_nodes=None)"
   ]
  },
  {
   "cell_type": "markdown",
   "metadata": {
    "heading_collapsed": true,
    "hidden": true
   },
   "source": [
    "#### Modell trainieren"
   ]
  },
  {
   "cell_type": "code",
   "execution_count": null,
   "metadata": {
    "hidden": true,
    "hide_input": false
   },
   "outputs": [],
   "source": [
    "tree.fit(X_train, y_train)"
   ]
  },
  {
   "cell_type": "markdown",
   "metadata": {
    "heading_collapsed": true,
    "hidden": true
   },
   "source": [
    "#### Modell analysieren"
   ]
  },
  {
   "cell_type": "code",
   "execution_count": null,
   "metadata": {
    "hidden": true
   },
   "outputs": [],
   "source": [
    "print(\"Accuracy on training set: {:.3f}\".format(tree.score(X_train, y_train)))\n",
    "print(\"Accuracy on test set: {:.3f}\".format(tree.score(X_test, y_test)))"
   ]
  },
  {
   "cell_type": "markdown",
   "metadata": {
    "hidden": true
   },
   "source": [
    "Kreuzvalidierung"
   ]
  },
  {
   "cell_type": "code",
   "execution_count": null,
   "metadata": {
    "hidden": true
   },
   "outputs": [],
   "source": [
    "scores = cross_val_score(tree, X=cancer.data,y=cancer.target,cv=5)\n",
    "print(\"Cross-validation scores: {}\".format(scores))\n",
    "print(\"Mean times and scores: \", scores.mean())"
   ]
  },
  {
   "cell_type": "code",
   "execution_count": null,
   "metadata": {
    "hidden": true
   },
   "outputs": [],
   "source": [
    "analyize_decision_tree(tree)"
   ]
  },
  {
   "cell_type": "markdown",
   "metadata": {
    "heading_collapsed": true
   },
   "source": [
    "# Ensembles of Decision Trees"
   ]
  },
  {
   "cell_type": "markdown",
   "metadata": {
    "heading_collapsed": true,
    "hidden": true
   },
   "source": [
    "## Random forests\n",
    " -  https://scikit-learn.org/stable/modules/generated/sklearn.ensemble.RandomForestClassifier.html\n",
    " -  https://scikit-learn.org/stable/documentation.html"
   ]
  },
  {
   "cell_type": "code",
   "execution_count": 41,
   "metadata": {
    "hidden": true
   },
   "outputs": [],
   "source": [
    "cancer = load_breast_cancer()"
   ]
  },
  {
   "cell_type": "code",
   "execution_count": 206,
   "metadata": {},
   "outputs": [
    {
     "name": "stdout",
     "output_type": "stream",
     "text": [
      "                          0       1       2      3   4     5     6  7  8   9   \\\n",
      "0         SUV / Geländewagen   33190   33190   3319   6  1998  1655  5  N  71   \n",
      "1         SUV / Geländewagen   37190   37190   3719   6  1998  1655  5  N  74   \n",
      "2                Microklasse   16590   16590   1659   8   996   930  4  N  54   \n",
      "3         SUV / Geländewagen   73202   69100  11012   6  2993  1895  5  N  62   \n",
      "4       Kompaktvan / Minivan   24500   24500   2450  11  1598  1375  5  N  84   \n",
      "5       Kompaktvan / Minivan   49100   49100   4910  10  1995  1965  7  N  58   \n",
      "6                 Kleinwagen   23310   23310   2331  10  1298  1130  5  N  67   \n",
      "7         SUV / Geländewagen   36000   36000   3600   2  1987  1690  5  N  75   \n",
      "8                 Kleinwagen   23770   23770   2377   8  1390  1070  5  N  76   \n",
      "9       Cabriolet / Roadster   31900   31900   3190  14  1997  1242  4  N  74   \n",
      "10        SUV / Geländewagen   51900   51900   5190   5  1995  1790  5  N  67   \n",
      "11       Untere Mittelklasse   51990   51990   5199  17  1781  1550  5  N  64   \n",
      "12        SUV / Geländewagen   35350   35350   3535   4  1997  1763  5  N  77   \n",
      "13                 unbekannt   29340   29340   2934   9  1796  1503  7  N  67   \n",
      "14              Mittelklasse   48500   48500   4850   8  1998  1613  5  N  67   \n",
      "15              Mittelklasse   29990   29990   2999   7  1798  1485  5  N  65   \n",
      "16                 unbekannt   24690   24690   2439  11  1587  1300  5  N  78   \n",
      "17        SUV / Geländewagen   27980   27980   2798   8  1495  1280  5  N  70   \n",
      "18                 unbekannt   25800   25800   2580  20  1598  1163  5  N  72   \n",
      "19                Kleinwagen   25600   25600   2560   4  1598  1225  5  N  68   \n",
      "20                Kleinwagen   14490   14490   1449   3  1248  1158  5  N  59   \n",
      "21        SUV / Geländewagen   33000   33000   3300  12  1994  1485  5  N  68   \n",
      "22      Kompaktvan / Minivan   36340   32600   7000   7  1397  1490  5  N  48   \n",
      "23         Keine Verknüpfung   45000   45000   4500   7  3605     0  7  N  52   \n",
      "24        SUV / Geländewagen   31300   31300   3130   5  1600  1460  5  N  66   \n",
      "25        Obere Mittelklasse  126400   86000  49000   7  3498  1925  5  N  75   \n",
      "26                Kleinwagen   27550   27550   2755   6  1197  1165  5  N  65   \n",
      "27        SUV / Geländewagen   37990   37990   3799   6  1870  1729  5  N  70   \n",
      "28              Mittelklasse   33950   33950   3395  10  1999  1410  5  N  71   \n",
      "29                 unbekannt   40700   40500   4250   8  1995  1395  5  N  52   \n",
      "...                      ...     ...     ...    ...  ..   ...   ... .. ..  ..   \n",
      "267150  Kompaktvan / Minivan   85250   65500  26300   2  2143  2410  7  N  41   \n",
      "267151            Kleinwagen   29950   29950   2995   7  1968  1245  5  N  26   \n",
      "267152   Untere Mittelklasse   22950   22950   2295   5  1197  1209  5  N  30   \n",
      "267153    SUV / Geländewagen   32950   32950   3295   1  1399  1445  5  N  65   \n",
      "267154            Kleinwagen   21530   21530   2153  13  1339  1147  5  N  21   \n",
      "267155    SUV / Geländewagen   39950   39950   3995  12  2656  1858  5  N  32   \n",
      "267156    SUV / Geländewagen   42786   40750   6111   0  1984  1495  5  N  61   \n",
      "267157   Untere Mittelklasse   28950   28950   2895  10  1587  1341  5  N  43   \n",
      "267158   Untere Mittelklasse   34920   34920   3492   9  1968  1339  5  N  36   \n",
      "267159    SUV / Geländewagen   49050   49050   4905   4  1984  1640  5  N  47   \n",
      "267160    SUV / Geländewagen  110600  110600  11060   6  2995  2315  5  N  48   \n",
      "267161            Kleinwagen   23100   23100   2310   8  1390  1070  5  N  51   \n",
      "267162            Kleinwagen   31190   31190   3119   7  1390  1313  5  N  51   \n",
      "267163  Cabriolet / Roadster   26500   26500   2650  11  1598  1240  4  N  27   \n",
      "267164   Untere Mittelklasse   37160   37160   3716  16  1896  1413  5  N  47   \n",
      "267165            Kleinwagen   22300   22300   2230  12  1298  1130  5  N  20   \n",
      "267166  Kompaktvan / Minivan   24610   24610   2461   7  1248  1275  5  N  35   \n",
      "267167   Untere Mittelklasse   38615   38615   3861   6  1796  1475  5  N  52   \n",
      "267168            Kleinwagen   32700   32700   3270   3  1598  1235  5  N  23   \n",
      "267169            Kleinwagen   32700   32700   3270   3  1598  1235  5  N  59   \n",
      "267170           Microklasse   17990   17990   1799  19  1171   980  5  N  52   \n",
      "267171           Microklasse   16490   16490   1649   8  1248  1075  5  N  25   \n",
      "267172            Kleinwagen   27640   23600   6400   0  1498  1317  5  N  57   \n",
      "267173  Kompaktvan / Minivan   30140   30140   3014  12  1598  1450  5  N  21   \n",
      "267174            Kleinwagen   20850   20850   2085  10  1397  1214  5  N  30   \n",
      "267175   Untere Mittelklasse   65000   65000      0   9  2987  3400  6  N  58   \n",
      "267176           Luxusklasse  123600  123600  12360  18  3996  1970  5  N  61   \n",
      "267177            Kleinwagen   25600   25600   2560  19  1997  1125  5  N  41   \n",
      "267178            Kleinwagen    9690    9690    969   0   999  1072  5  N  45   \n",
      "267179            Kleinwagen   20600   20600   2060  12  1364  1164  5  N  28   \n",
      "\n",
      "        10  \n",
      "0       SG  \n",
      "1       SG  \n",
      "2       TG  \n",
      "3       SG  \n",
      "4       TG  \n",
      "5       SG  \n",
      "6       TG  \n",
      "7       AR  \n",
      "8       SG  \n",
      "9       SG  \n",
      "10      SG  \n",
      "11      FL  \n",
      "12      SG  \n",
      "13      TG  \n",
      "14      SG  \n",
      "15      AR  \n",
      "16      TG  \n",
      "17      TG  \n",
      "18      FR  \n",
      "19      NW  \n",
      "20      NW  \n",
      "21      GL  \n",
      "22      BE  \n",
      "23      BE  \n",
      "24      SO  \n",
      "25      ZH  \n",
      "26      NW  \n",
      "27      GL  \n",
      "28      VS  \n",
      "29      GE  \n",
      "...     ..  \n",
      "267150  ZH  \n",
      "267151  FR  \n",
      "267152  FR  \n",
      "267153  FR  \n",
      "267154  SG  \n",
      "267155  BL  \n",
      "267156  GR  \n",
      "267157  LU  \n",
      "267158  ZH  \n",
      "267159  TI  \n",
      "267160  TI  \n",
      "267161  AG  \n",
      "267162  AG  \n",
      "267163  LU  \n",
      "267164  SO  \n",
      "267165  LU  \n",
      "267166  SO  \n",
      "267167  BS  \n",
      "267168  VD  \n",
      "267169  VD  \n",
      "267170  GE  \n",
      "267171  GE  \n",
      "267172  VS  \n",
      "267173  SG  \n",
      "267174  ZH  \n",
      "267175  ZH  \n",
      "267176  ZH  \n",
      "267177  ZH  \n",
      "267178  NE  \n",
      "267179  ZH  \n",
      "\n",
      "[267180 rows x 11 columns]\n"
     ]
    }
   ],
   "source": [
    "dataset = pd.read_csv('./../data/train.csv', encoding='ISO-8859-1')\n",
    "dataset.drop(labels=['polnum', 'deck', 'markname', 'zepplz'], inplace=True, axis=1)\n",
    "#print(pd.DataFrame(dataset))\n",
    "y = dataset.iloc[:, 0].values\n",
    "X = dataset.iloc[:, 1:].values\n",
    "print(pd.DataFrame(X))"
   ]
  },
  {
   "cell_type": "code",
   "execution_count": 207,
   "metadata": {},
   "outputs": [
    {
     "name": "stdout",
     "output_type": "stream",
     "text": [
      "        0       1       2      3   4     5     6  7  8   9   10\n",
      "0       10   33190   33190   3319   6  1998  1655  5  1  71  16\n",
      "1       10   37190   37190   3719   6  1998  1655  5  1  74  16\n",
      "2        7   16590   16590   1659   8   996   930  4  1  54  20\n",
      "3       10   73202   69100  11012   6  2993  1895  5  1  62  16\n",
      "4        5   24500   24500   2450  11  1598  1375  5  1  84  20\n",
      "5        5   49100   49100   4910  10  1995  1965  7  1  58  16\n",
      "6        4   23310   23310   2331  10  1298  1130  5  1  67  20\n",
      "7       10   36000   36000   3600   2  1987  1690  5  1  75   2\n",
      "8        4   23770   23770   2377   8  1390  1070  5  1  76  16\n",
      "9        0   31900   31900   3190  14  1997  1242  4  1  74  16\n",
      "10      10   51900   51900   5190   5  1995  1790  5  1  67  16\n",
      "11      12   51990   51990   5199  17  1781  1550  5  1  64   6\n",
      "12      10   35350   35350   3535   4  1997  1763  5  1  77  16\n",
      "13      13   29340   29340   2934   9  1796  1503  7  1  67  20\n",
      "14       8   48500   48500   4850   8  1998  1613  5  1  67  16\n",
      "15       8   29990   29990   2999   7  1798  1485  5  1  65   2\n",
      "16      13   24690   24690   2439  11  1587  1300  5  1  78  20\n",
      "17      10   27980   27980   2798   8  1495  1280  5  1  70  20\n",
      "18      13   25800   25800   2580  20  1598  1163  5  1  72   7\n",
      "19       4   25600   25600   2560   4  1598  1225  5  1  68  14\n",
      "20       4   14490   14490   1449   3  1248  1158  5  1  59  14\n",
      "21      10   33000   33000   3300  12  1994  1485  5  1  68   9\n",
      "22       5   36340   32600   7000   7  1397  1490  5  1  48   3\n",
      "23       2   45000   45000   4500   7  3605     0  7  1  52   3\n",
      "24      10   31300   31300   3130   5  1600  1460  5  1  66  18\n",
      "25       9  126400   86000  49000   7  3498  1925  5  1  75  26\n",
      "26       4   27550   27550   2755   6  1197  1165  5  1  65  14\n",
      "27      10   37990   37990   3799   6  1870  1729  5  1  70   9\n",
      "28       8   33950   33950   3395  10  1999  1410  5  1  71  24\n",
      "29      13   40700   40500   4250   8  1995  1395  5  1  52   8\n",
      "...     ..     ...     ...    ...  ..   ...   ... .. ..  ..  ..\n",
      "267150   5   85250   65500  26300   2  2143  2410  7  1  41  26\n",
      "267151   4   29950   29950   2995   7  1968  1245  5  1  26   7\n",
      "267152  12   22950   22950   2295   5  1197  1209  5  1  30   7\n",
      "267153  10   32950   32950   3295   1  1399  1445  5  1  65   7\n",
      "267154   4   21530   21530   2153  13  1339  1147  5  1  21  16\n",
      "267155  10   39950   39950   3995  12  2656  1858  5  1  32   4\n",
      "267156  10   42786   40750   6111   0  1984  1495  5  1  61  10\n",
      "267157  12   28950   28950   2895  10  1587  1341  5  1  43  12\n",
      "267158  12   34920   34920   3492   9  1968  1339  5  1  36  26\n",
      "267159  10   49050   49050   4905   4  1984  1640  5  1  47  21\n",
      "267160  10  110600  110600  11060   6  2995  2315  5  1  48  21\n",
      "267161   4   23100   23100   2310   8  1390  1070  5  1  51   0\n",
      "267162   4   31190   31190   3119   7  1390  1313  5  1  51   0\n",
      "267163   0   26500   26500   2650  11  1598  1240  4  1  27  12\n",
      "267164  12   37160   37160   3716  16  1896  1413  5  1  47  18\n",
      "267165   4   22300   22300   2230  12  1298  1130  5  1  20  12\n",
      "267166   5   24610   24610   2461   7  1248  1275  5  1  35  18\n",
      "267167  12   38615   38615   3861   6  1796  1475  5  1  52   5\n",
      "267168   4   32700   32700   3270   3  1598  1235  5  1  23  23\n",
      "267169   4   32700   32700   3270   3  1598  1235  5  1  59  23\n",
      "267170   7   17990   17990   1799  19  1171   980  5  1  52   8\n",
      "267171   7   16490   16490   1649   8  1248  1075  5  1  25   8\n",
      "267172   4   27640   23600   6400   0  1498  1317  5  1  57  24\n",
      "267173   5   30140   30140   3014  12  1598  1450  5  1  21  16\n",
      "267174   4   20850   20850   2085  10  1397  1214  5  1  30  26\n",
      "267175  12   65000   65000      0   9  2987  3400  6  1  58  26\n",
      "267176   6  123600  123600  12360  18  3996  1970  5  1  61  26\n",
      "267177   4   25600   25600   2560  19  1997  1125  5  1  41  26\n",
      "267178   4    9690    9690    969   0   999  1072  5  1  45  13\n",
      "267179   4   20600   20600   2060  12  1364  1164  5  1  28  26\n",
      "\n",
      "[267180 rows x 11 columns]\n"
     ]
    }
   ],
   "source": [
    "labelencoder = LabelEncoder()\n",
    "X[:, 0] = labelencoder.fit_transform(X[:, 0])\n",
    "X[:, 8] = labelencoder.fit_transform(X[:, 8])\n",
    "X[:, 10] = labelencoder.fit_transform(X[:, 10])\n",
    "print(pd.DataFrame(X))"
   ]
  },
  {
   "cell_type": "code",
   "execution_count": 209,
   "metadata": {},
   "outputs": [
    {
     "name": "stderr",
     "output_type": "stream",
     "text": [
      "C:\\Program Files\\Python36\\lib\\site-packages\\sklearn\\preprocessing\\_encoders.py:371: FutureWarning: The handling of integer data will change in version 0.22. Currently, the categories are determined based on the range [0, max(values)], while in the future they will be determined based on the unique values.\n",
      "If you want the future behaviour and silence this warning, you can specify \"categories='auto'\".\n",
      "In case you used a LabelEncoder before this OneHotEncoder to convert the categories to integers, then you can now use the OneHotEncoder directly.\n",
      "  warnings.warn(msg, FutureWarning)\n",
      "C:\\Program Files\\Python36\\lib\\site-packages\\sklearn\\preprocessing\\_encoders.py:392: DeprecationWarning: The 'categorical_features' keyword is deprecated in version 0.20 and will be removed in 0.22. You can use the ColumnTransformer instead.\n",
      "  \"use the ColumnTransformer instead.\", DeprecationWarning)\n"
     ]
    },
    {
     "name": "stdout",
     "output_type": "stream",
     "text": [
      "         0    1    2    3    4    5    6    7    8    9   ...    41   42  \\\n",
      "0       0.0  0.0  0.0  0.0  0.0  0.0  0.0  0.0  0.0  0.0  ...   0.0  0.0   \n",
      "1       0.0  0.0  0.0  0.0  0.0  0.0  0.0  0.0  0.0  0.0  ...   0.0  0.0   \n",
      "2       0.0  0.0  0.0  0.0  0.0  0.0  0.0  1.0  0.0  0.0  ...   0.0  0.0   \n",
      "3       0.0  0.0  0.0  0.0  0.0  0.0  0.0  0.0  0.0  0.0  ...   0.0  0.0   \n",
      "4       0.0  0.0  0.0  0.0  0.0  1.0  0.0  0.0  0.0  0.0  ...   0.0  0.0   \n",
      "5       0.0  0.0  0.0  0.0  0.0  1.0  0.0  0.0  0.0  0.0  ...   0.0  0.0   \n",
      "6       0.0  0.0  0.0  0.0  1.0  0.0  0.0  0.0  0.0  0.0  ...   0.0  0.0   \n",
      "7       0.0  0.0  0.0  0.0  0.0  0.0  0.0  0.0  0.0  0.0  ...   0.0  0.0   \n",
      "8       0.0  0.0  0.0  0.0  1.0  0.0  0.0  0.0  0.0  0.0  ...   0.0  0.0   \n",
      "9       1.0  0.0  0.0  0.0  0.0  0.0  0.0  0.0  0.0  0.0  ...   0.0  0.0   \n",
      "10      0.0  0.0  0.0  0.0  0.0  0.0  0.0  0.0  0.0  0.0  ...   0.0  0.0   \n",
      "11      0.0  0.0  0.0  0.0  0.0  0.0  0.0  0.0  0.0  0.0  ...   0.0  0.0   \n",
      "12      0.0  0.0  0.0  0.0  0.0  0.0  0.0  0.0  0.0  0.0  ...   0.0  0.0   \n",
      "13      0.0  0.0  0.0  0.0  0.0  0.0  0.0  0.0  0.0  0.0  ...   0.0  0.0   \n",
      "14      0.0  0.0  0.0  0.0  0.0  0.0  0.0  0.0  1.0  0.0  ...   0.0  0.0   \n",
      "15      0.0  0.0  0.0  0.0  0.0  0.0  0.0  0.0  1.0  0.0  ...   0.0  0.0   \n",
      "16      0.0  0.0  0.0  0.0  0.0  0.0  0.0  0.0  0.0  0.0  ...   0.0  0.0   \n",
      "17      0.0  0.0  0.0  0.0  0.0  0.0  0.0  0.0  0.0  0.0  ...   0.0  0.0   \n",
      "18      0.0  0.0  0.0  0.0  0.0  0.0  0.0  0.0  0.0  0.0  ...   0.0  0.0   \n",
      "19      0.0  0.0  0.0  0.0  1.0  0.0  0.0  0.0  0.0  0.0  ...   0.0  0.0   \n",
      "20      0.0  0.0  0.0  0.0  1.0  0.0  0.0  0.0  0.0  0.0  ...   0.0  0.0   \n",
      "21      0.0  0.0  0.0  0.0  0.0  0.0  0.0  0.0  0.0  0.0  ...   0.0  0.0   \n",
      "22      0.0  0.0  0.0  0.0  0.0  1.0  0.0  0.0  0.0  0.0  ...   0.0  0.0   \n",
      "23      0.0  0.0  1.0  0.0  0.0  0.0  0.0  0.0  0.0  0.0  ...   0.0  0.0   \n",
      "24      0.0  0.0  0.0  0.0  0.0  0.0  0.0  0.0  0.0  0.0  ...   0.0  0.0   \n",
      "25      0.0  0.0  0.0  0.0  0.0  0.0  0.0  0.0  0.0  1.0  ...   0.0  1.0   \n",
      "26      0.0  0.0  0.0  0.0  1.0  0.0  0.0  0.0  0.0  0.0  ...   0.0  0.0   \n",
      "27      0.0  0.0  0.0  0.0  0.0  0.0  0.0  0.0  0.0  0.0  ...   0.0  0.0   \n",
      "28      0.0  0.0  0.0  0.0  0.0  0.0  0.0  0.0  1.0  0.0  ...   0.0  0.0   \n",
      "29      0.0  0.0  0.0  0.0  0.0  0.0  0.0  0.0  0.0  0.0  ...   0.0  0.0   \n",
      "...     ...  ...  ...  ...  ...  ...  ...  ...  ...  ...  ...   ...  ...   \n",
      "267150  0.0  0.0  0.0  0.0  0.0  1.0  0.0  0.0  0.0  0.0  ...   0.0  1.0   \n",
      "267151  0.0  0.0  0.0  0.0  1.0  0.0  0.0  0.0  0.0  0.0  ...   0.0  0.0   \n",
      "267152  0.0  0.0  0.0  0.0  0.0  0.0  0.0  0.0  0.0  0.0  ...   0.0  0.0   \n",
      "267153  0.0  0.0  0.0  0.0  0.0  0.0  0.0  0.0  0.0  0.0  ...   0.0  0.0   \n",
      "267154  0.0  0.0  0.0  0.0  1.0  0.0  0.0  0.0  0.0  0.0  ...   0.0  0.0   \n",
      "267155  0.0  0.0  0.0  0.0  0.0  0.0  0.0  0.0  0.0  0.0  ...   0.0  0.0   \n",
      "267156  0.0  0.0  0.0  0.0  0.0  0.0  0.0  0.0  0.0  0.0  ...   0.0  0.0   \n",
      "267157  0.0  0.0  0.0  0.0  0.0  0.0  0.0  0.0  0.0  0.0  ...   0.0  0.0   \n",
      "267158  0.0  0.0  0.0  0.0  0.0  0.0  0.0  0.0  0.0  0.0  ...   0.0  1.0   \n",
      "267159  0.0  0.0  0.0  0.0  0.0  0.0  0.0  0.0  0.0  0.0  ...   0.0  0.0   \n",
      "267160  0.0  0.0  0.0  0.0  0.0  0.0  0.0  0.0  0.0  0.0  ...   0.0  0.0   \n",
      "267161  0.0  0.0  0.0  0.0  1.0  0.0  0.0  0.0  0.0  0.0  ...   0.0  0.0   \n",
      "267162  0.0  0.0  0.0  0.0  1.0  0.0  0.0  0.0  0.0  0.0  ...   0.0  0.0   \n",
      "267163  1.0  0.0  0.0  0.0  0.0  0.0  0.0  0.0  0.0  0.0  ...   0.0  0.0   \n",
      "267164  0.0  0.0  0.0  0.0  0.0  0.0  0.0  0.0  0.0  0.0  ...   0.0  0.0   \n",
      "267165  0.0  0.0  0.0  0.0  1.0  0.0  0.0  0.0  0.0  0.0  ...   0.0  0.0   \n",
      "267166  0.0  0.0  0.0  0.0  0.0  1.0  0.0  0.0  0.0  0.0  ...   0.0  0.0   \n",
      "267167  0.0  0.0  0.0  0.0  0.0  0.0  0.0  0.0  0.0  0.0  ...   0.0  0.0   \n",
      "267168  0.0  0.0  0.0  0.0  1.0  0.0  0.0  0.0  0.0  0.0  ...   0.0  0.0   \n",
      "267169  0.0  0.0  0.0  0.0  1.0  0.0  0.0  0.0  0.0  0.0  ...   0.0  0.0   \n",
      "267170  0.0  0.0  0.0  0.0  0.0  0.0  0.0  1.0  0.0  0.0  ...   0.0  0.0   \n",
      "267171  0.0  0.0  0.0  0.0  0.0  0.0  0.0  1.0  0.0  0.0  ...   0.0  0.0   \n",
      "267172  0.0  0.0  0.0  0.0  1.0  0.0  0.0  0.0  0.0  0.0  ...   0.0  0.0   \n",
      "267173  0.0  0.0  0.0  0.0  0.0  1.0  0.0  0.0  0.0  0.0  ...   0.0  0.0   \n",
      "267174  0.0  0.0  0.0  0.0  1.0  0.0  0.0  0.0  0.0  0.0  ...   0.0  1.0   \n",
      "267175  0.0  0.0  0.0  0.0  0.0  0.0  0.0  0.0  0.0  0.0  ...   0.0  1.0   \n",
      "267176  0.0  0.0  0.0  0.0  0.0  0.0  1.0  0.0  0.0  0.0  ...   0.0  1.0   \n",
      "267177  0.0  0.0  0.0  0.0  1.0  0.0  0.0  0.0  0.0  0.0  ...   0.0  1.0   \n",
      "267178  0.0  0.0  0.0  0.0  1.0  0.0  0.0  0.0  0.0  0.0  ...   0.0  0.0   \n",
      "267179  0.0  0.0  0.0  0.0  1.0  0.0  0.0  0.0  0.0  0.0  ...   0.0  1.0   \n",
      "\n",
      "              43        44       45    46      47      48   49    50  \n",
      "0        33190.0   33190.0   3319.0   6.0  1998.0  1655.0  5.0  71.0  \n",
      "1        37190.0   37190.0   3719.0   6.0  1998.0  1655.0  5.0  74.0  \n",
      "2        16590.0   16590.0   1659.0   8.0   996.0   930.0  4.0  54.0  \n",
      "3        73202.0   69100.0  11012.0   6.0  2993.0  1895.0  5.0  62.0  \n",
      "4        24500.0   24500.0   2450.0  11.0  1598.0  1375.0  5.0  84.0  \n",
      "5        49100.0   49100.0   4910.0  10.0  1995.0  1965.0  7.0  58.0  \n",
      "6        23310.0   23310.0   2331.0  10.0  1298.0  1130.0  5.0  67.0  \n",
      "7        36000.0   36000.0   3600.0   2.0  1987.0  1690.0  5.0  75.0  \n",
      "8        23770.0   23770.0   2377.0   8.0  1390.0  1070.0  5.0  76.0  \n",
      "9        31900.0   31900.0   3190.0  14.0  1997.0  1242.0  4.0  74.0  \n",
      "10       51900.0   51900.0   5190.0   5.0  1995.0  1790.0  5.0  67.0  \n",
      "11       51990.0   51990.0   5199.0  17.0  1781.0  1550.0  5.0  64.0  \n",
      "12       35350.0   35350.0   3535.0   4.0  1997.0  1763.0  5.0  77.0  \n",
      "13       29340.0   29340.0   2934.0   9.0  1796.0  1503.0  7.0  67.0  \n",
      "14       48500.0   48500.0   4850.0   8.0  1998.0  1613.0  5.0  67.0  \n",
      "15       29990.0   29990.0   2999.0   7.0  1798.0  1485.0  5.0  65.0  \n",
      "16       24690.0   24690.0   2439.0  11.0  1587.0  1300.0  5.0  78.0  \n",
      "17       27980.0   27980.0   2798.0   8.0  1495.0  1280.0  5.0  70.0  \n",
      "18       25800.0   25800.0   2580.0  20.0  1598.0  1163.0  5.0  72.0  \n",
      "19       25600.0   25600.0   2560.0   4.0  1598.0  1225.0  5.0  68.0  \n",
      "20       14490.0   14490.0   1449.0   3.0  1248.0  1158.0  5.0  59.0  \n",
      "21       33000.0   33000.0   3300.0  12.0  1994.0  1485.0  5.0  68.0  \n",
      "22       36340.0   32600.0   7000.0   7.0  1397.0  1490.0  5.0  48.0  \n",
      "23       45000.0   45000.0   4500.0   7.0  3605.0     0.0  7.0  52.0  \n",
      "24       31300.0   31300.0   3130.0   5.0  1600.0  1460.0  5.0  66.0  \n",
      "25      126400.0   86000.0  49000.0   7.0  3498.0  1925.0  5.0  75.0  \n",
      "26       27550.0   27550.0   2755.0   6.0  1197.0  1165.0  5.0  65.0  \n",
      "27       37990.0   37990.0   3799.0   6.0  1870.0  1729.0  5.0  70.0  \n",
      "28       33950.0   33950.0   3395.0  10.0  1999.0  1410.0  5.0  71.0  \n",
      "29       40700.0   40500.0   4250.0   8.0  1995.0  1395.0  5.0  52.0  \n",
      "...          ...       ...      ...   ...     ...     ...  ...   ...  \n",
      "267150   85250.0   65500.0  26300.0   2.0  2143.0  2410.0  7.0  41.0  \n",
      "267151   29950.0   29950.0   2995.0   7.0  1968.0  1245.0  5.0  26.0  \n",
      "267152   22950.0   22950.0   2295.0   5.0  1197.0  1209.0  5.0  30.0  \n",
      "267153   32950.0   32950.0   3295.0   1.0  1399.0  1445.0  5.0  65.0  \n",
      "267154   21530.0   21530.0   2153.0  13.0  1339.0  1147.0  5.0  21.0  \n",
      "267155   39950.0   39950.0   3995.0  12.0  2656.0  1858.0  5.0  32.0  \n",
      "267156   42786.0   40750.0   6111.0   0.0  1984.0  1495.0  5.0  61.0  \n",
      "267157   28950.0   28950.0   2895.0  10.0  1587.0  1341.0  5.0  43.0  \n",
      "267158   34920.0   34920.0   3492.0   9.0  1968.0  1339.0  5.0  36.0  \n",
      "267159   49050.0   49050.0   4905.0   4.0  1984.0  1640.0  5.0  47.0  \n",
      "267160  110600.0  110600.0  11060.0   6.0  2995.0  2315.0  5.0  48.0  \n",
      "267161   23100.0   23100.0   2310.0   8.0  1390.0  1070.0  5.0  51.0  \n",
      "267162   31190.0   31190.0   3119.0   7.0  1390.0  1313.0  5.0  51.0  \n",
      "267163   26500.0   26500.0   2650.0  11.0  1598.0  1240.0  4.0  27.0  \n",
      "267164   37160.0   37160.0   3716.0  16.0  1896.0  1413.0  5.0  47.0  \n",
      "267165   22300.0   22300.0   2230.0  12.0  1298.0  1130.0  5.0  20.0  \n",
      "267166   24610.0   24610.0   2461.0   7.0  1248.0  1275.0  5.0  35.0  \n",
      "267167   38615.0   38615.0   3861.0   6.0  1796.0  1475.0  5.0  52.0  \n",
      "267168   32700.0   32700.0   3270.0   3.0  1598.0  1235.0  5.0  23.0  \n",
      "267169   32700.0   32700.0   3270.0   3.0  1598.0  1235.0  5.0  59.0  \n",
      "267170   17990.0   17990.0   1799.0  19.0  1171.0   980.0  5.0  52.0  \n",
      "267171   16490.0   16490.0   1649.0   8.0  1248.0  1075.0  5.0  25.0  \n",
      "267172   27640.0   23600.0   6400.0   0.0  1498.0  1317.0  5.0  57.0  \n",
      "267173   30140.0   30140.0   3014.0  12.0  1598.0  1450.0  5.0  21.0  \n",
      "267174   20850.0   20850.0   2085.0  10.0  1397.0  1214.0  5.0  30.0  \n",
      "267175   65000.0   65000.0      0.0   9.0  2987.0  3400.0  6.0  58.0  \n",
      "267176  123600.0  123600.0  12360.0  18.0  3996.0  1970.0  5.0  61.0  \n",
      "267177   25600.0   25600.0   2560.0  19.0  1997.0  1125.0  5.0  41.0  \n",
      "267178    9690.0    9690.0    969.0   0.0   999.0  1072.0  5.0  45.0  \n",
      "267179   20600.0   20600.0   2060.0  12.0  1364.0  1164.0  5.0  28.0  \n",
      "\n",
      "[267180 rows x 51 columns]\n"
     ]
    }
   ],
   "source": [
    "onehotencoder = OneHotEncoder(categorical_features=[0, 8, 10])\n",
    "X = onehotencoder.fit_transform(X).toarray()\n",
    "print(pd.DataFrame(X))"
   ]
  },
  {
   "cell_type": "code",
   "execution_count": 210,
   "metadata": {
    "hidden": true
   },
   "outputs": [],
   "source": [
    "X_train, X_test, y_train, y_test = train_test_split(\n",
    "                        X, \n",
    "                        y,\n",
    "                        test_size=0.25,\n",
    "                        stratify=y, \n",
    "                        random_state=42)"
   ]
  },
  {
   "cell_type": "code",
   "execution_count": 211,
   "metadata": {
    "hidden": true
   },
   "outputs": [],
   "source": [
    "#help(RandomForestClassifier)\n",
    "random_forest = RandomForestClassifier(random_state=0, n_estimators=500, criterion='gini', max_depth=3)"
   ]
  },
  {
   "cell_type": "code",
   "execution_count": 212,
   "metadata": {
    "hidden": true,
    "scrolled": true
   },
   "outputs": [
    {
     "data": {
      "text/plain": [
       "RandomForestClassifier(bootstrap=True, class_weight=None, criterion='gini',\n",
       "            max_depth=3, max_features='auto', max_leaf_nodes=None,\n",
       "            min_impurity_decrease=0.0, min_impurity_split=None,\n",
       "            min_samples_leaf=1, min_samples_split=2,\n",
       "            min_weight_fraction_leaf=0.0, n_estimators=500, n_jobs=None,\n",
       "            oob_score=False, random_state=0, verbose=0, warm_start=False)"
      ]
     },
     "execution_count": 212,
     "metadata": {},
     "output_type": "execute_result"
    }
   ],
   "source": [
    "random_forest.fit(X_train, y_train)"
   ]
  },
  {
   "cell_type": "code",
   "execution_count": 213,
   "metadata": {
    "hidden": true
   },
   "outputs": [
    {
     "name": "stdout",
     "output_type": "stream",
     "text": [
      "Accuracy on training set: 0.764\n",
      "Accuracy on test set: 0.764\n"
     ]
    }
   ],
   "source": [
    "print(\"Accuracy on training set: {:.3f}\".format(random_forest.score(X_train, y_train)))\n",
    "print(\"Accuracy on test set: {:.3f}\".format(random_forest.score(X_test, y_test)))"
   ]
  },
  {
   "cell_type": "markdown",
   "metadata": {
    "hidden": true
   },
   "source": [
    "Kreuzvalidierung"
   ]
  },
  {
   "cell_type": "code",
   "execution_count": 124,
   "metadata": {
    "hidden": true
   },
   "outputs": [
    {
     "name": "stdout",
     "output_type": "stream",
     "text": [
      "Cross-validation scores: [0.62068966 0.62068966 1.         0.89473684 0.96491228 0.94736842\n",
      " 0.89473684 0.625      0.625      0.625     ]\n",
      "Mean times and scores:  0.781813369630974\n"
     ]
    }
   ],
   "source": [
    "scores = cross_val_score(random_forest, X=cancer.data,y=cancer.target,cv=10)\n",
    "print(\"Cross-validation scores: {}\".format(scores))\n",
    "print(\"Mean times and scores: \", scores.mean())"
   ]
  },
  {
   "cell_type": "markdown",
   "metadata": {
    "heading_collapsed": true,
    "hidden": true
   },
   "source": [
    "## Gradient Boosted Regression Trees (Gradient Boosting Machines)\n",
    "\n",
    " -  https://scikit-learn.org/stable/modules/generated/sklearn.ensemble.GradientBoostingClassifier.html#sklearn.ensemble.GradientBoostingClassifier"
   ]
  },
  {
   "cell_type": "code",
   "execution_count": null,
   "metadata": {
    "hidden": true
   },
   "outputs": [],
   "source": [
    "cancer = load_breast_cancer()"
   ]
  },
  {
   "cell_type": "code",
   "execution_count": 161,
   "metadata": {},
   "outputs": [
    {
     "name": "stdout",
     "output_type": "stream",
     "text": [
      "        target  markname              etklasse   fzgwert  katpreis  zubehoer  \\\n",
      "0            1   HYUNDAI    SUV / Geländewagen   33190.0     33190      3319   \n",
      "1            1   HYUNDAI    SUV / Geländewagen   37190.0     37190      3719   \n",
      "2            0    NISSAN           Microklasse   16590.0     16590      1659   \n",
      "3            1       BMW    SUV / Geländewagen   73202.0     69100     11012   \n",
      "4            0      OPEL  Kompaktvan / Minivan   24500.0     24500      2450   \n",
      "5            0   RENAULT  Kompaktvan / Minivan   49100.0     49100      4910   \n",
      "6            1    TOYOTA            Kleinwagen   23310.0     23310      2331   \n",
      "7            1    TOYOTA    SUV / Geländewagen   36000.0     36000      3600   \n",
      "8            1        VW            Kleinwagen   23770.0     23770      2377   \n",
      "9            1   PEUGEOT  Cabriolet / Roadster   31900.0     31900      3190   \n",
      "10           1       BMW    SUV / Geländewagen   51900.0     51900      5190   \n",
      "11           0      AUDI   Untere Mittelklasse   51990.0     51990      5199   \n",
      "12           1      FORD    SUV / Geländewagen   35350.0     35350      3535   \n",
      "13           1      OPEL             unbekannt   29340.0     29340      2934   \n",
      "14           1      OPEL          Mittelklasse   48500.0     48500      4850   \n",
      "15           1     SKODA          Mittelklasse   29990.0     29990      2999   \n",
      "16           0   PEUGEOT             unbekannt   24690.0     24690      2439   \n",
      "17           0  DAIHATSU    SUV / Geländewagen   27980.0     27980      2798   \n",
      "18           0      OPEL             unbekannt   25800.0     25800      2580   \n",
      "19           1   PEUGEOT            Kleinwagen   25600.0     25600      2560   \n",
      "20           1   HYUNDAI            Kleinwagen   14490.0     14490      1449   \n",
      "21           1    SUBARU    SUV / Geländewagen   33000.0     33000      3300   \n",
      "22           1   RENAULT  Kompaktvan / Minivan   36340.0     32600      7000   \n",
      "23           1     DODGE     Keine Verknüpfung   45000.0     45000      4500   \n",
      "24           1    SUBARU    SUV / Geländewagen   31300.0     31300      3130   \n",
      "25           0  MERCEDES    Obere Mittelklasse  126400.0     86000     49000   \n",
      "26           1      SEAT            Kleinwagen   27550.0     27550      2755   \n",
      "27           1    SUZUKI    SUV / Geländewagen   37990.0     37990      3799   \n",
      "28           0     MAZDA          Mittelklasse   33950.0     33950      3395   \n",
      "29           1       BMW             unbekannt   40700.0     40500      4250   \n",
      "...        ...       ...                   ...       ...       ...       ...   \n",
      "267150       1  MERCEDES  Kompaktvan / Minivan   85250.0     65500     26300   \n",
      "267151       0      SEAT            Kleinwagen   29950.0     29950      2995   \n",
      "267152       1      SEAT   Untere Mittelklasse   22950.0     22950      2295   \n",
      "267153       1      OPEL    SUV / Geländewagen   32950.0     32950      3295   \n",
      "267154       0     HONDA            Kleinwagen   21530.0     21530      2153   \n",
      "267155       0   HYUNDAI    SUV / Geländewagen   39950.0     39950      3995   \n",
      "267156       1        VW    SUV / Geländewagen   42786.0     40750      6111   \n",
      "267157       0   CITROEN   Untere Mittelklasse   28950.0     28950      2895   \n",
      "267158       0        VW   Untere Mittelklasse   34920.0     34920      3492   \n",
      "267159       1      AUDI    SUV / Geländewagen   49050.0     49050      4905   \n",
      "267160       1   PORSCHE    SUV / Geländewagen  110600.0    110600     11060   \n",
      "267161       0        VW            Kleinwagen   23100.0     23100      2310   \n",
      "267162       1     SKODA            Kleinwagen   31190.0     31190      3119   \n",
      "267163       1      MINI  Cabriolet / Roadster   26500.0     26500      2650   \n",
      "267164       1        VW   Untere Mittelklasse   37160.0     37160      3716   \n",
      "267165       0    TOYOTA            Kleinwagen   22300.0     22300      2230   \n",
      "267166       0      FIAT  Kompaktvan / Minivan   24610.0     24610      2461   \n",
      "267167       0  MERCEDES   Untere Mittelklasse   38615.0     38615      3861   \n",
      "267168       0   PEUGEOT            Kleinwagen   32700.0     32700      3270   \n",
      "267169       1   PEUGEOT            Kleinwagen   32700.0     32700      3270   \n",
      "267170       0    SUZUKI           Microklasse   17990.0     17990      1799   \n",
      "267171       0   HYUNDAI           Microklasse   16490.0     16490      1649   \n",
      "267172       1      SEAT            Kleinwagen   27640.0     23600      6400   \n",
      "267173       0      OPEL  Kompaktvan / Minivan   30140.0     30140      3014   \n",
      "267174       0   PEUGEOT            Kleinwagen   20850.0     20850      2085   \n",
      "267175       0  MERCEDES   Untere Mittelklasse   65000.0     65000         0   \n",
      "267176       0  MERCEDES           Luxusklasse  123600.0    123600     12360   \n",
      "267177       0   PEUGEOT            Kleinwagen   25600.0     25600      2560   \n",
      "267178       1     DACIA            Kleinwagen    9690.0      9690       969   \n",
      "267179       0      OPEL            Kleinwagen   20600.0     20600      2060   \n",
      "\n",
      "        fzgalter  hubraum  gewicht  anzplatz kzoldtimer_korr  vnalter kanton  \n",
      "0              6     1998     1655         5               N       71     SG  \n",
      "1              6     1998     1655         5               N       74     SG  \n",
      "2              8      996      930         4               N       54     TG  \n",
      "3              6     2993     1895         5               N       62     SG  \n",
      "4             11     1598     1375         5               N       84     TG  \n",
      "5             10     1995     1965         7               N       58     SG  \n",
      "6             10     1298     1130         5               N       67     TG  \n",
      "7              2     1987     1690         5               N       75     AR  \n",
      "8              8     1390     1070         5               N       76     SG  \n",
      "9             14     1997     1242         4               N       74     SG  \n",
      "10             5     1995     1790         5               N       67     SG  \n",
      "11            17     1781     1550         5               N       64     FL  \n",
      "12             4     1997     1763         5               N       77     SG  \n",
      "13             9     1796     1503         7               N       67     TG  \n",
      "14             8     1998     1613         5               N       67     SG  \n",
      "15             7     1798     1485         5               N       65     AR  \n",
      "16            11     1587     1300         5               N       78     TG  \n",
      "17             8     1495     1280         5               N       70     TG  \n",
      "18            20     1598     1163         5               N       72     FR  \n",
      "19             4     1598     1225         5               N       68     NW  \n",
      "20             3     1248     1158         5               N       59     NW  \n",
      "21            12     1994     1485         5               N       68     GL  \n",
      "22             7     1397     1490         5               N       48     BE  \n",
      "23             7     3605        0         7               N       52     BE  \n",
      "24             5     1600     1460         5               N       66     SO  \n",
      "25             7     3498     1925         5               N       75     ZH  \n",
      "26             6     1197     1165         5               N       65     NW  \n",
      "27             6     1870     1729         5               N       70     GL  \n",
      "28            10     1999     1410         5               N       71     VS  \n",
      "29             8     1995     1395         5               N       52     GE  \n",
      "...          ...      ...      ...       ...             ...      ...    ...  \n",
      "267150         2     2143     2410         7               N       41     ZH  \n",
      "267151         7     1968     1245         5               N       26     FR  \n",
      "267152         5     1197     1209         5               N       30     FR  \n",
      "267153         1     1399     1445         5               N       65     FR  \n",
      "267154        13     1339     1147         5               N       21     SG  \n",
      "267155        12     2656     1858         5               N       32     BL  \n",
      "267156         0     1984     1495         5               N       61     GR  \n",
      "267157        10     1587     1341         5               N       43     LU  \n",
      "267158         9     1968     1339         5               N       36     ZH  \n",
      "267159         4     1984     1640         5               N       47     TI  \n",
      "267160         6     2995     2315         5               N       48     TI  \n",
      "267161         8     1390     1070         5               N       51     AG  \n",
      "267162         7     1390     1313         5               N       51     AG  \n",
      "267163        11     1598     1240         4               N       27     LU  \n",
      "267164        16     1896     1413         5               N       47     SO  \n",
      "267165        12     1298     1130         5               N       20     LU  \n",
      "267166         7     1248     1275         5               N       35     SO  \n",
      "267167         6     1796     1475         5               N       52     BS  \n",
      "267168         3     1598     1235         5               N       23     VD  \n",
      "267169         3     1598     1235         5               N       59     VD  \n",
      "267170        19     1171      980         5               N       52     GE  \n",
      "267171         8     1248     1075         5               N       25     GE  \n",
      "267172         0     1498     1317         5               N       57     VS  \n",
      "267173        12     1598     1450         5               N       21     SG  \n",
      "267174        10     1397     1214         5               N       30     ZH  \n",
      "267175         9     2987     3400         6               N       58     ZH  \n",
      "267176        18     3996     1970         5               N       61     ZH  \n",
      "267177        19     1997     1125         5               N       41     ZH  \n",
      "267178         0      999     1072         5               N       45     NE  \n",
      "267179        12     1364     1164         5               N       28     ZH  \n",
      "\n",
      "[267180 rows x 13 columns]\n"
     ]
    },
    {
     "name": "stderr",
     "output_type": "stream",
     "text": [
      "C:\\Users\\remi\\AppData\\Roaming\\Python\\Python36\\site-packages\\IPython\\core\\interactiveshell.py:3020: DtypeWarning: Columns (15) have mixed types. Specify dtype option on import or set low_memory=False.\n",
      "  interactivity=interactivity, compiler=compiler, result=result)\n"
     ]
    }
   ],
   "source": [
    "dataset = pd.read_csv('./../data/train.csv', encoding='ISO-8859-1')\n",
    "dataset.drop(labels=['polnum', 'deck', 'zepplz'], inplace=True, axis=1)\n",
    "print(pd.DataFrame(dataset))\n",
    "y = dataset.iloc[:, 0]\n",
    "X = dataset.iloc[:, 1:]"
   ]
  },
  {
   "cell_type": "code",
   "execution_count": 162,
   "metadata": {
    "hidden": true
   },
   "outputs": [],
   "source": [
    "X_train, X_test, y_train, y_test = train_test_split(\n",
    "                        cancer.data, \n",
    "                        cancer.target,\n",
    "                        test_size=0.25,\n",
    "                        stratify=cancer.target, \n",
    "                        random_state=42)"
   ]
  },
  {
   "cell_type": "markdown",
   "metadata": {
    "heading_collapsed": true,
    "hidden": true
   },
   "source": [
    "### Default Hyperparameter"
   ]
  },
  {
   "cell_type": "code",
   "execution_count": 163,
   "metadata": {
    "hidden": true
   },
   "outputs": [],
   "source": [
    "gbrt = GradientBoostingClassifier(random_state=0)"
   ]
  },
  {
   "cell_type": "code",
   "execution_count": 164,
   "metadata": {
    "hidden": true
   },
   "outputs": [
    {
     "name": "stdout",
     "output_type": "stream",
     "text": [
      "Accuracy on training set: 1.000\n",
      "Accuracy on test set: 0.958\n"
     ]
    }
   ],
   "source": [
    "gbrt.fit(X_train, y_train)\n",
    "\n",
    "print(\"Accuracy on training set: {:.3f}\".format(gbrt.score(X_train, y_train)))\n",
    "print(\"Accuracy on test set: {:.3f}\".format(gbrt.score(X_test, y_test)))"
   ]
  },
  {
   "cell_type": "markdown",
   "metadata": {
    "hidden": true
   },
   "source": [
    "Kreuzvalidierung"
   ]
  },
  {
   "cell_type": "code",
   "execution_count": null,
   "metadata": {
    "hidden": true
   },
   "outputs": [],
   "source": [
    "scores = cross_val_score(gbrt, X=cancer.data,y=cancer.target,cv=5)\n",
    "print(\"Cross-validation scores: {}\".format(scores))\n",
    "print(\"Mean times and scores: \", scores.mean())"
   ]
  },
  {
   "cell_type": "markdown",
   "metadata": {
    "heading_collapsed": true,
    "hidden": true
   },
   "source": [
    "### Hyperparameter max_depth"
   ]
  },
  {
   "cell_type": "code",
   "execution_count": null,
   "metadata": {
    "hidden": true
   },
   "outputs": [],
   "source": [
    "gbrt = GradientBoostingClassifier(random_state=0, n_estimators=1000, max_depth=5)\n",
    "gbrt.fit(X_train, y_train)\n",
    "\n",
    "print(\"Accuracy on training set: {:.3f}\".format(gbrt.score(X_train, y_train)))\n",
    "print(\"Accuracy on test set: {:.3f}\".format(gbrt.score(X_test, y_test)))"
   ]
  },
  {
   "cell_type": "markdown",
   "metadata": {
    "hidden": true
   },
   "source": [
    "Kreuzvalidierung"
   ]
  },
  {
   "cell_type": "code",
   "execution_count": null,
   "metadata": {
    "hidden": true
   },
   "outputs": [],
   "source": [
    "scores = cross_val_score(gbrt, X=cancer.data,y=cancer.target,cv=5)\n",
    "print(\"Cross-validation scores: {}\".format(scores))\n",
    "print(\"Mean times and scores: \", scores.mean())"
   ]
  },
  {
   "cell_type": "markdown",
   "metadata": {
    "heading_collapsed": true,
    "hidden": true
   },
   "source": [
    "### Hyperparameter learning_rate"
   ]
  },
  {
   "cell_type": "code",
   "execution_count": null,
   "metadata": {
    "hidden": true
   },
   "outputs": [],
   "source": [
    "gbrt = GradientBoostingClassifier(random_state=0,n_estimators=800, max_depth=2, learning_rate=0.1)\n",
    "gbrt.fit(X_train, y_train)\n",
    "\n",
    "print(\"Accuracy on training set: {:.3f}\".format(gbrt.score(X_train, y_train)))\n",
    "print(\"Accuracy on test set: {:.3f}\".format(gbrt.score(X_test, y_test)))"
   ]
  },
  {
   "cell_type": "markdown",
   "metadata": {
    "hidden": true
   },
   "source": [
    "Kreuzvalidierung"
   ]
  },
  {
   "cell_type": "code",
   "execution_count": null,
   "metadata": {
    "hidden": true
   },
   "outputs": [],
   "source": [
    "scores = cross_val_score(gbrt, X=cancer.data,y=cancer.target,cv=5)\n",
    "print(\"Cross-validation scores: {}\".format(scores))\n",
    "print(\"Mean times and scores: \", scores.mean())"
   ]
  },
  {
   "cell_type": "markdown",
   "metadata": {
    "heading_collapsed": true,
    "hidden": true
   },
   "source": [
    "## CatBoostClassifier\n",
    "\n",
    "https://catboost.ai/docs/concepts/about.html"
   ]
  },
  {
   "cell_type": "markdown",
   "metadata": {
    "hidden": true
   },
   "source": [
    "Benötigt folgendes Package\n",
    "\n",
    " -  python -m pip install --trusted-host pypi.org --trusted-host files.pythonhosted.org catboost"
   ]
  },
  {
   "cell_type": "code",
   "execution_count": null,
   "metadata": {
    "hidden": true
   },
   "outputs": [],
   "source": [
    "from catboost import CatBoostClassifier, Pool"
   ]
  },
  {
   "cell_type": "code",
   "execution_count": null,
   "metadata": {
    "hidden": true
   },
   "outputs": [],
   "source": [
    "model = CatBoostClassifier(depth=2,\n",
    "                           learning_rate=0.1,\n",
    "                           loss_function='Logloss',\n",
    "                           verbose=True)\n",
    "# train the model\n",
    "model.fit(X_train, y_train,verbose=False)"
   ]
  },
  {
   "cell_type": "code",
   "execution_count": null,
   "metadata": {
    "hidden": true
   },
   "outputs": [],
   "source": [
    "print(\"Accuracy on training set: {:.3f}\".format(model.score(X_train, y_train)))\n",
    "print(\"Accuracy on test set: {:.3f}\".format(model.score(X_test, y_test)))"
   ]
  },
  {
   "cell_type": "markdown",
   "metadata": {
    "hidden": true
   },
   "source": [
    "Kreuzvalidierung"
   ]
  },
  {
   "cell_type": "code",
   "execution_count": null,
   "metadata": {
    "hidden": true
   },
   "outputs": [],
   "source": [
    "scores = cross_val_score(model, X=cancer.data,y=cancer.target,cv=5)\n",
    "print(\"Cross-validation scores: {}\".format(scores))\n",
    "print(\"Mean times and scores: \", scores.mean())"
   ]
  },
  {
   "cell_type": "markdown",
   "metadata": {
    "heading_collapsed": true
   },
   "source": [
    "# Spielwiese: Empfehlungssystem mittels Klassifikation"
   ]
  },
  {
   "cell_type": "markdown",
   "metadata": {
    "hidden": true
   },
   "source": [
    "![real_example](images/real_example.png)"
   ]
  },
  {
   "cell_type": "markdown",
   "metadata": {
    "heading_collapsed": true,
    "hidden": true
   },
   "source": [
    "## Import Data"
   ]
  },
  {
   "cell_type": "code",
   "execution_count": null,
   "metadata": {
    "hidden": true
   },
   "outputs": [],
   "source": [
    "mf_data = pd.read_csv('./data/train.csv')"
   ]
  },
  {
   "cell_type": "code",
   "execution_count": null,
   "metadata": {
    "hidden": true
   },
   "outputs": [],
   "source": [
    "mf_data.head()"
   ]
  },
  {
   "cell_type": "markdown",
   "metadata": {
    "heading_collapsed": true,
    "hidden": true
   },
   "source": [
    "## Prepare dataFrame"
   ]
  },
  {
   "cell_type": "markdown",
   "metadata": {
    "hidden": true
   },
   "source": [
    "lösche die Kolonnen: 'polnum','deck','zepplz'"
   ]
  },
  {
   "cell_type": "code",
   "execution_count": null,
   "metadata": {
    "hidden": true
   },
   "outputs": [],
   "source": [
    "mf_data = mf_data.drop(['polnum','deck','zepplz'], axis=1)"
   ]
  },
  {
   "cell_type": "code",
   "execution_count": null,
   "metadata": {
    "hidden": true
   },
   "outputs": [],
   "source": [
    "mf_data.head()"
   ]
  },
  {
   "cell_type": "code",
   "execution_count": null,
   "metadata": {
    "hidden": true
   },
   "outputs": [],
   "source": []
  },
  {
   "cell_type": "code",
   "execution_count": null,
   "metadata": {
    "hidden": true
   },
   "outputs": [],
   "source": []
  },
  {
   "cell_type": "markdown",
   "metadata": {
    "heading_collapsed": true
   },
   "source": [
    "# Zusammenfassung"
   ]
  },
  {
   "cell_type": "markdown",
   "metadata": {
    "heading_collapsed": true
   },
   "source": [
    "# Ausblick"
   ]
  },
  {
   "cell_type": "markdown",
   "metadata": {
    "hidden": true
   },
   "source": [
    "## Evaluationsmetriken"
   ]
  },
  {
   "cell_type": "markdown",
   "metadata": {
    "heading_collapsed": true,
    "hidden": true
   },
   "source": [
    "### confusion_matrix"
   ]
  },
  {
   "cell_type": "code",
   "execution_count": null,
   "metadata": {
    "hidden": true
   },
   "outputs": [],
   "source": [
    "cancer = load_breast_cancer()\n",
    "\n",
    "X_train, X_test, y_train, y_test = train_test_split(\n",
    "                        cancer.data, \n",
    "                        cancer.target,\n",
    "                        test_size=0.25,\n",
    "                        stratify=cancer.target, \n",
    "                        random_state=42)"
   ]
  },
  {
   "cell_type": "code",
   "execution_count": null,
   "metadata": {
    "hidden": true
   },
   "outputs": [],
   "source": [
    "tree = DecisionTreeClassifier(random_state=0,max_depth=None,max_leaf_nodes=None)\n",
    "tree.fit(X_train, y_train)"
   ]
  },
  {
   "cell_type": "code",
   "execution_count": null,
   "metadata": {
    "hidden": true
   },
   "outputs": [],
   "source": [
    "tree_prediction = tree.predict(X_test)"
   ]
  },
  {
   "cell_type": "code",
   "execution_count": null,
   "metadata": {
    "hidden": true
   },
   "outputs": [],
   "source": [
    "print(\"Accuracy on test set: {:.3f}\".format(tree.score(X_test, y_test)))"
   ]
  },
  {
   "cell_type": "code",
   "execution_count": null,
   "metadata": {
    "hidden": true
   },
   "outputs": [],
   "source": [
    "confusion = confusion_matrix(y_test, tree_prediction)\n",
    "print(\"Confusion matrix:\\n{}\".format(confusion))"
   ]
  },
  {
   "cell_type": "markdown",
   "metadata": {
    "hidden": true
   },
   "source": [
    "**Interpretation der Matrix**\n",
    " -  Zeilen entsprechen den tatsächlichen Kategorien\n",
    " -  Spalten beschreiben die vorhergesagten Kategorien\n",
    "\n",
    " - 1. Zeile entspricht malignant (Wert 0)\n",
    " - 2. Zeile entspricht benign (Wert 1)"
   ]
  },
  {
   "cell_type": "code",
   "execution_count": null,
   "metadata": {
    "hidden": true
   },
   "outputs": [],
   "source": [
    "print(classification_report(y_test, tree_prediction, target_names=['malignant', 'benign']))"
   ]
  },
  {
   "cell_type": "markdown",
   "metadata": {
    "hidden": true
   },
   "source": [
    " -  precision: Wieviele vom Modell als positive geschätzte Kategorie ist tatsächlich positiv\n",
    " -  recall: Wieviel von den tatsächlich positiven wurde vom Modell als positiv geschätzt"
   ]
  },
  {
   "cell_type": "markdown",
   "metadata": {
    "heading_collapsed": true,
    "hidden": true
   },
   "source": [
    "## Wie findet man die besten Hyperparameter?"
   ]
  },
  {
   "cell_type": "markdown",
   "metadata": {
    "hidden": true
   },
   "source": [
    "### GridSearch"
   ]
  },
  {
   "cell_type": "markdown",
   "metadata": {
    "hidden": true
   },
   "source": [
    "## Andere ML Modelle"
   ]
  },
  {
   "cell_type": "markdown",
   "metadata": {
    "hidden": true
   },
   "source": [
    "## Deep Learning (Neuronal Net)"
   ]
  },
  {
   "cell_type": "code",
   "execution_count": null,
   "metadata": {
    "hidden": true
   },
   "outputs": [],
   "source": []
  }
 ],
 "metadata": {
  "kernelspec": {
   "display_name": "Python 3",
   "language": "python",
   "name": "python3"
  },
  "language_info": {
   "codemirror_mode": {
    "name": "ipython",
    "version": 3
   },
   "file_extension": ".py",
   "mimetype": "text/x-python",
   "name": "python",
   "nbconvert_exporter": "python",
   "pygments_lexer": "ipython3",
   "version": "3.6.8"
  },
  "latex_metadata": {
   "author": "Andreas C. M\\\"ller",
   "title": "Machine Learning with Python"
  },
  "toc": {
   "base_numbering": 1.0,
   "nav_menu": {},
   "number_sections": true,
   "sideBar": true,
   "skip_h1_title": false,
   "title_cell": "Table of Contents",
   "title_sidebar": "Contents",
   "toc_cell": false,
   "toc_position": {
    "height": "calc(100% - 180px)",
    "left": "10px",
    "top": "150px",
    "width": "384px"
   },
   "toc_section_display": true,
   "toc_window_display": true
  }
 },
 "nbformat": 4,
 "nbformat_minor": 2
}
