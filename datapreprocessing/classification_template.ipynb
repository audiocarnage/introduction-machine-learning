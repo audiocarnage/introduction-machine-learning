{
 "cells": [
  {
   "cell_type": "code",
   "execution_count": 1,
   "metadata": {},
   "outputs": [],
   "source": [
    "%matplotlib inline\n",
    "import matplotlib.pyplot as plt\n",
    "import numpy as np\n",
    "import pandas as pd\n",
    "from sklearn.model_selection import train_test_split\n",
    "from sklearn.impute import SimpleImputer\n",
    "from sklearn.preprocessing import LabelEncoder, OneHotEncoder, StandardScaler, PolynomialFeatures\n",
    "from sklearn.linear_model import LogisticRegression, LinearRegression\n",
    "from sklearn.metrics import confusion_matrix\n",
    "from sklearn.neighbors import KNeighborsClassifier\n",
    "from matplotlib.colors import ListedColormap"
   ]
  },
  {
   "cell_type": "markdown",
   "metadata": {},
   "source": [
    "# Data preprocessing"
   ]
  },
  {
   "cell_type": "markdown",
   "metadata": {},
   "source": [
    "## Helper functions"
   ]
  },
  {
   "cell_type": "code",
   "execution_count": 2,
   "metadata": {},
   "outputs": [],
   "source": [
    "def standardize(X):\n",
    "    return (X - np.mean(X)) / np.std(X)\n",
    "\n",
    "\n",
    "def normalize(X):\n",
    "    return (X - np.min(X)) / (np.max(X) - np.min(X))\n"
   ]
  },
  {
   "cell_type": "markdown",
   "metadata": {},
   "source": [
    "## Import the dataset"
   ]
  },
  {
   "cell_type": "code",
   "execution_count": 3,
   "metadata": {
    "scrolled": true
   },
   "outputs": [],
   "source": [
    "dataset = pd.read_csv('./../data/train.csv')"
   ]
  },
  {
   "cell_type": "markdown",
   "metadata": {},
   "source": [
    "## Explore the dataset"
   ]
  },
  {
   "cell_type": "code",
   "execution_count": 4,
   "metadata": {
    "scrolled": true
   },
   "outputs": [
    {
     "name": "stdout",
     "output_type": "stream",
     "text": [
      "     Survived  Pclass     Sex   Age\n",
      "0           0       3    male  22.0\n",
      "1           1       1  female  38.0\n",
      "2           1       3  female  26.0\n",
      "3           1       1  female  35.0\n",
      "4           0       3    male  35.0\n",
      "5           0       3    male   NaN\n",
      "6           0       1    male  54.0\n",
      "7           0       3    male   2.0\n",
      "8           1       3  female  27.0\n",
      "9           1       2  female  14.0\n",
      "10          1       3  female   4.0\n",
      "11          1       1  female  58.0\n",
      "12          0       3    male  20.0\n",
      "13          0       3    male  39.0\n",
      "14          0       3  female  14.0\n",
      "15          1       2  female  55.0\n",
      "16          0       3    male   2.0\n",
      "17          1       2    male   NaN\n",
      "18          0       3  female  31.0\n",
      "19          1       3  female   NaN\n",
      "20          0       2    male  35.0\n",
      "21          1       2    male  34.0\n",
      "22          1       3  female  15.0\n",
      "23          1       1    male  28.0\n",
      "24          0       3  female   8.0\n",
      "25          1       3  female  38.0\n",
      "26          0       3    male   NaN\n",
      "27          0       1    male  19.0\n",
      "28          1       3  female   NaN\n",
      "29          0       3    male   NaN\n",
      "..        ...     ...     ...   ...\n",
      "861         0       2    male  21.0\n",
      "862         1       1  female  48.0\n",
      "863         0       3  female   NaN\n",
      "864         0       2    male  24.0\n",
      "865         1       2  female  42.0\n",
      "866         1       2  female  27.0\n",
      "867         0       1    male  31.0\n",
      "868         0       3    male   NaN\n",
      "869         1       3    male   4.0\n",
      "870         0       3    male  26.0\n",
      "871         1       1  female  47.0\n",
      "872         0       1    male  33.0\n",
      "873         0       3    male  47.0\n",
      "874         1       2  female  28.0\n",
      "875         1       3  female  15.0\n",
      "876         0       3    male  20.0\n",
      "877         0       3    male  19.0\n",
      "878         0       3    male   NaN\n",
      "879         1       1  female  56.0\n",
      "880         1       2  female  25.0\n",
      "881         0       3    male  33.0\n",
      "882         0       3  female  22.0\n",
      "883         0       2    male  28.0\n",
      "884         0       3    male  25.0\n",
      "885         0       3  female  39.0\n",
      "886         0       2    male  27.0\n",
      "887         1       1  female  19.0\n",
      "888         0       3  female   NaN\n",
      "889         1       1    male  26.0\n",
      "890         0       3    male  32.0\n",
      "\n",
      "[891 rows x 4 columns]\n"
     ]
    }
   ],
   "source": [
    "dataset.drop(labels=['PassengerId', 'Name', 'SibSp', 'Parch', 'Ticket', 'Fare', 'Cabin', 'Embarked'], inplace=True, axis=1)\n",
    "print(pd.DataFrame(data=dataset))\n",
    "\n",
    "X = dataset.iloc[:, 1:].values\n",
    "y = dataset.iloc[:, 0].values"
   ]
  },
  {
   "cell_type": "markdown",
   "metadata": {},
   "source": [
    "## Taking care of missing data"
   ]
  },
  {
   "cell_type": "code",
   "execution_count": 5,
   "metadata": {
    "scrolled": true
   },
   "outputs": [
    {
     "name": "stdout",
     "output_type": "stream",
     "text": [
      "     0       1        2\n",
      "0    3    male       22\n",
      "1    1  female       38\n",
      "2    3  female       26\n",
      "3    1  female       35\n",
      "4    3    male       35\n",
      "5    3    male  29.6991\n",
      "6    1    male       54\n",
      "7    3    male        2\n",
      "8    3  female       27\n",
      "9    2  female       14\n",
      "10   3  female        4\n",
      "11   1  female       58\n",
      "12   3    male       20\n",
      "13   3    male       39\n",
      "14   3  female       14\n",
      "15   2  female       55\n",
      "16   3    male        2\n",
      "17   2    male  29.6991\n",
      "18   3  female       31\n",
      "19   3  female  29.6991\n",
      "20   2    male       35\n",
      "21   2    male       34\n",
      "22   3  female       15\n",
      "23   1    male       28\n",
      "24   3  female        8\n",
      "25   3  female       38\n",
      "26   3    male  29.6991\n",
      "27   1    male       19\n",
      "28   3  female  29.6991\n",
      "29   3    male  29.6991\n",
      "..  ..     ...      ...\n",
      "861  2    male       21\n",
      "862  1  female       48\n",
      "863  3  female  29.6991\n",
      "864  2    male       24\n",
      "865  2  female       42\n",
      "866  2  female       27\n",
      "867  1    male       31\n",
      "868  3    male  29.6991\n",
      "869  3    male        4\n",
      "870  3    male       26\n",
      "871  1  female       47\n",
      "872  1    male       33\n",
      "873  3    male       47\n",
      "874  2  female       28\n",
      "875  3  female       15\n",
      "876  3    male       20\n",
      "877  3    male       19\n",
      "878  3    male  29.6991\n",
      "879  1  female       56\n",
      "880  2  female       25\n",
      "881  3    male       33\n",
      "882  3  female       22\n",
      "883  2    male       28\n",
      "884  3    male       25\n",
      "885  3  female       39\n",
      "886  2    male       27\n",
      "887  1  female       19\n",
      "888  3  female  29.6991\n",
      "889  1    male       26\n",
      "890  3    male       32\n",
      "\n",
      "[891 rows x 3 columns]\n"
     ]
    }
   ],
   "source": [
    "imputer = SimpleImputer(missing_values=np.nan, strategy='mean')\n",
    "imputer = imputer.fit(X[:, 2:3])\n",
    "X[:, 2:3] = imputer.transform(X[:, 2:3])\n",
    "print(pd.DataFrame(X))"
   ]
  },
  {
   "cell_type": "markdown",
   "metadata": {},
   "source": [
    "## Categorical data - Encoding the independent variables"
   ]
  },
  {
   "cell_type": "code",
   "execution_count": 6,
   "metadata": {
    "scrolled": true
   },
   "outputs": [
    {
     "name": "stdout",
     "output_type": "stream",
     "text": [
      "     0  1        2\n",
      "0    3  1       22\n",
      "1    1  0       38\n",
      "2    3  0       26\n",
      "3    1  0       35\n",
      "4    3  1       35\n",
      "5    3  1  29.6991\n",
      "6    1  1       54\n",
      "7    3  1        2\n",
      "8    3  0       27\n",
      "9    2  0       14\n",
      "10   3  0        4\n",
      "11   1  0       58\n",
      "12   3  1       20\n",
      "13   3  1       39\n",
      "14   3  0       14\n",
      "15   2  0       55\n",
      "16   3  1        2\n",
      "17   2  1  29.6991\n",
      "18   3  0       31\n",
      "19   3  0  29.6991\n",
      "20   2  1       35\n",
      "21   2  1       34\n",
      "22   3  0       15\n",
      "23   1  1       28\n",
      "24   3  0        8\n",
      "25   3  0       38\n",
      "26   3  1  29.6991\n",
      "27   1  1       19\n",
      "28   3  0  29.6991\n",
      "29   3  1  29.6991\n",
      "..  .. ..      ...\n",
      "861  2  1       21\n",
      "862  1  0       48\n",
      "863  3  0  29.6991\n",
      "864  2  1       24\n",
      "865  2  0       42\n",
      "866  2  0       27\n",
      "867  1  1       31\n",
      "868  3  1  29.6991\n",
      "869  3  1        4\n",
      "870  3  1       26\n",
      "871  1  0       47\n",
      "872  1  1       33\n",
      "873  3  1       47\n",
      "874  2  0       28\n",
      "875  3  0       15\n",
      "876  3  1       20\n",
      "877  3  1       19\n",
      "878  3  1  29.6991\n",
      "879  1  0       56\n",
      "880  2  0       25\n",
      "881  3  1       33\n",
      "882  3  0       22\n",
      "883  2  1       28\n",
      "884  3  1       25\n",
      "885  3  0       39\n",
      "886  2  1       27\n",
      "887  1  0       19\n",
      "888  3  0  29.6991\n",
      "889  1  1       26\n",
      "890  3  1       32\n",
      "\n",
      "[891 rows x 3 columns]\n"
     ]
    }
   ],
   "source": [
    "labelencoder_X = LabelEncoder()\n",
    "X[:, 1] = labelencoder_X.fit_transform(X[:, 1])\n",
    "print(pd.DataFrame(X))"
   ]
  },
  {
   "cell_type": "code",
   "execution_count": 7,
   "metadata": {},
   "outputs": [
    {
     "name": "stdout",
     "output_type": "stream",
     "text": [
      "       0    1    2          3\n",
      "0    0.0  1.0  3.0  22.000000\n",
      "1    1.0  0.0  1.0  38.000000\n",
      "2    1.0  0.0  3.0  26.000000\n",
      "3    1.0  0.0  1.0  35.000000\n",
      "4    0.0  1.0  3.0  35.000000\n",
      "5    0.0  1.0  3.0  29.699118\n",
      "6    0.0  1.0  1.0  54.000000\n",
      "7    0.0  1.0  3.0   2.000000\n",
      "8    1.0  0.0  3.0  27.000000\n",
      "9    1.0  0.0  2.0  14.000000\n",
      "10   1.0  0.0  3.0   4.000000\n",
      "11   1.0  0.0  1.0  58.000000\n",
      "12   0.0  1.0  3.0  20.000000\n",
      "13   0.0  1.0  3.0  39.000000\n",
      "14   1.0  0.0  3.0  14.000000\n",
      "15   1.0  0.0  2.0  55.000000\n",
      "16   0.0  1.0  3.0   2.000000\n",
      "17   0.0  1.0  2.0  29.699118\n",
      "18   1.0  0.0  3.0  31.000000\n",
      "19   1.0  0.0  3.0  29.699118\n",
      "20   0.0  1.0  2.0  35.000000\n",
      "21   0.0  1.0  2.0  34.000000\n",
      "22   1.0  0.0  3.0  15.000000\n",
      "23   0.0  1.0  1.0  28.000000\n",
      "24   1.0  0.0  3.0   8.000000\n",
      "25   1.0  0.0  3.0  38.000000\n",
      "26   0.0  1.0  3.0  29.699118\n",
      "27   0.0  1.0  1.0  19.000000\n",
      "28   1.0  0.0  3.0  29.699118\n",
      "29   0.0  1.0  3.0  29.699118\n",
      "..   ...  ...  ...        ...\n",
      "861  0.0  1.0  2.0  21.000000\n",
      "862  1.0  0.0  1.0  48.000000\n",
      "863  1.0  0.0  3.0  29.699118\n",
      "864  0.0  1.0  2.0  24.000000\n",
      "865  1.0  0.0  2.0  42.000000\n",
      "866  1.0  0.0  2.0  27.000000\n",
      "867  0.0  1.0  1.0  31.000000\n",
      "868  0.0  1.0  3.0  29.699118\n",
      "869  0.0  1.0  3.0   4.000000\n",
      "870  0.0  1.0  3.0  26.000000\n",
      "871  1.0  0.0  1.0  47.000000\n",
      "872  0.0  1.0  1.0  33.000000\n",
      "873  0.0  1.0  3.0  47.000000\n",
      "874  1.0  0.0  2.0  28.000000\n",
      "875  1.0  0.0  3.0  15.000000\n",
      "876  0.0  1.0  3.0  20.000000\n",
      "877  0.0  1.0  3.0  19.000000\n",
      "878  0.0  1.0  3.0  29.699118\n",
      "879  1.0  0.0  1.0  56.000000\n",
      "880  1.0  0.0  2.0  25.000000\n",
      "881  0.0  1.0  3.0  33.000000\n",
      "882  1.0  0.0  3.0  22.000000\n",
      "883  0.0  1.0  2.0  28.000000\n",
      "884  0.0  1.0  3.0  25.000000\n",
      "885  1.0  0.0  3.0  39.000000\n",
      "886  0.0  1.0  2.0  27.000000\n",
      "887  1.0  0.0  1.0  19.000000\n",
      "888  1.0  0.0  3.0  29.699118\n",
      "889  0.0  1.0  1.0  26.000000\n",
      "890  0.0  1.0  3.0  32.000000\n",
      "\n",
      "[891 rows x 4 columns]\n"
     ]
    },
    {
     "name": "stderr",
     "output_type": "stream",
     "text": [
      "C:\\Python37\\lib\\site-packages\\sklearn\\preprocessing\\_encoders.py:371: FutureWarning: The handling of integer data will change in version 0.22. Currently, the categories are determined based on the range [0, max(values)], while in the future they will be determined based on the unique values.\n",
      "If you want the future behaviour and silence this warning, you can specify \"categories='auto'\".\n",
      "In case you used a LabelEncoder before this OneHotEncoder to convert the categories to integers, then you can now use the OneHotEncoder directly.\n",
      "  warnings.warn(msg, FutureWarning)\n",
      "C:\\Python37\\lib\\site-packages\\sklearn\\preprocessing\\_encoders.py:392: DeprecationWarning: The 'categorical_features' keyword is deprecated in version 0.20 and will be removed in 0.22. You can use the ColumnTransformer instead.\n",
      "  \"use the ColumnTransformer instead.\", DeprecationWarning)\n"
     ]
    }
   ],
   "source": [
    "onehotencoder = OneHotEncoder(categorical_features=[1])\n",
    "X = onehotencoder.fit_transform(X).toarray()\n",
    "print(pd.DataFrame(X))"
   ]
  },
  {
   "cell_type": "markdown",
   "metadata": {},
   "source": [
    "## Splitting the dataset into the Training set and Test set"
   ]
  },
  {
   "cell_type": "code",
   "execution_count": 8,
   "metadata": {},
   "outputs": [],
   "source": [
    "X = X[:, [2, 3]]\n",
    "\n",
    "X_train, X_test, y_train, y_test = train_test_split(X, y, test_size=0.25, random_state=0)"
   ]
  },
  {
   "cell_type": "markdown",
   "metadata": {},
   "source": [
    "## Feature scaling"
   ]
  },
  {
   "cell_type": "markdown",
   "metadata": {},
   "source": [
    "Um Vergleiche mit anderen Variablen anstellen zu können, transformiert man eine Variable so, dass Mittelwert $\\mu$ = 0 und Standardabweichung $\\sigma$ = 1 wird."
   ]
  },
  {
   "cell_type": "code",
   "execution_count": 9,
   "metadata": {},
   "outputs": [
    {
     "data": {
      "text/plain": [
       "\"\\nprint('X: ', X, '\\n')\\nprint('mean: ', np.mean(X), '\\n')\\nprint('std: ', np.std(X), '\\n')\\n\\nprint('X_stand: ', standardize(X), '\\n')\\nprint('X_norm: ', normalize(X), '\\n')\\n\\nprint('mean(X_stand): ', np.mean(X_stand), '\\n')\\nprint('std(X_stand): ', np.std(X_stand), '\\n')\\n\""
      ]
     },
     "execution_count": 9,
     "metadata": {},
     "output_type": "execute_result"
    }
   ],
   "source": [
    "'''\n",
    "print('X: ', X, '\\n')\n",
    "print('mean: ', np.mean(X), '\\n')\n",
    "print('std: ', np.std(X), '\\n')\n",
    "\n",
    "print('X_stand: ', standardize(X), '\\n')\n",
    "print('X_norm: ', normalize(X), '\\n')\n",
    "\n",
    "print('mean(X_stand): ', np.mean(X_stand), '\\n')\n",
    "print('std(X_stand): ', np.std(X_stand), '\\n')\n",
    "'''"
   ]
  },
  {
   "cell_type": "code",
   "execution_count": 10,
   "metadata": {
    "scrolled": true
   },
   "outputs": [
    {
     "name": "stdout",
     "output_type": "stream",
     "text": [
      "            0         1\n",
      "0    0.830129 -0.143587\n",
      "1    0.830129 -0.992755\n",
      "2    0.830129  0.010807\n",
      "3    0.830129 -0.606770\n",
      "4   -0.364971  1.168764\n",
      "5    0.830129 -0.375178\n",
      "6    0.830129 -0.915558\n",
      "7    0.830129  0.242399\n",
      "8   -0.364971 -0.452375\n",
      "9    0.830129 -0.297981\n",
      "10   0.830129 -0.606770\n",
      "11  -1.560071  2.017932\n",
      "12   0.830129 -0.143587\n",
      "13  -1.560071  0.396793\n",
      "14  -0.364971 -1.841923\n",
      "15  -0.364971  0.859976\n",
      "16   0.830129 -0.012420\n",
      "17   0.830129 -0.012420\n",
      "18  -1.560071  1.709144\n",
      "19   0.830129  0.165202\n",
      "20  -0.364971  0.396793\n",
      "21  -1.560071 -0.915558\n",
      "22   0.830129 -0.012420\n",
      "23   0.830129 -0.012420\n",
      "24   0.830129 -0.012420\n",
      "25   0.830129 -0.012420\n",
      "26   0.830129 -0.220784\n",
      "27   0.830129 -0.606770\n",
      "28   0.830129 -1.069952\n",
      "29  -1.560071  1.477552\n",
      "..        ...       ...\n",
      "638 -0.364971 -0.683967\n",
      "639  0.830129  0.937173\n",
      "640 -1.560071  0.010807\n",
      "641  0.830129 -0.915558\n",
      "642 -1.560071 -0.012420\n",
      "643 -0.364971 -0.143587\n",
      "644 -1.560071  2.017932\n",
      "645  0.830129 -0.012420\n",
      "646 -0.364971 -0.220784\n",
      "647 -1.560071  0.396793\n",
      "648 -0.364971  0.705581\n",
      "649 -0.364971  1.014370\n",
      "650  0.830129  0.088004\n",
      "651 -0.364971 -0.452375\n",
      "652 -0.364971  0.242399\n",
      "653 -0.364971  0.165202\n",
      "654 -1.560071  1.477552\n",
      "655  0.830129 -0.220784\n",
      "656 -0.364971  1.400355\n",
      "657 -0.364971 -0.012420\n",
      "658 -0.364971  1.554750\n",
      "659 -0.364971 -1.224346\n",
      "660  0.830129 -0.012420\n",
      "661 -1.560071  0.937173\n",
      "662 -1.560071  0.473990\n",
      "663 -1.560071  0.705581\n",
      "664  0.830129 -0.838361\n",
      "665  0.830129 -0.012420\n",
      "666  0.830129  0.473990\n",
      "667 -0.364971  2.326721\n",
      "\n",
      "[668 rows x 2 columns]\n"
     ]
    }
   ],
   "source": [
    "scaler = StandardScaler()\n",
    "X_train = scaler.fit_transform(X_train)\n",
    "X_test = scaler.transform(X_test)\n",
    "print(pd.DataFrame(X_train))"
   ]
  },
  {
   "cell_type": "markdown",
   "metadata": {},
   "source": [
    "# Classification model"
   ]
  },
  {
   "cell_type": "markdown",
   "metadata": {},
   "source": [
    "## Fitting logistic regression to the training set"
   ]
  },
  {
   "cell_type": "code",
   "execution_count": 11,
   "metadata": {
    "scrolled": true
   },
   "outputs": [
    {
     "data": {
      "text/plain": [
       "KNeighborsClassifier(algorithm='auto', leaf_size=30, metric='minkowski',\n",
       "           metric_params=None, n_jobs=None, n_neighbors=5, p=2,\n",
       "           weights='uniform')"
      ]
     },
     "execution_count": 11,
     "metadata": {},
     "output_type": "execute_result"
    }
   ],
   "source": [
    "#classifier = LinearRegression()\n",
    "#classifier.fit(X_train, y_train)\n",
    "\n",
    "#classifier = LogisticRegression(random_state=0)\n",
    "\n",
    "classifier = KNeighborsClassifier()\n",
    "\n",
    "classifier.fit(X_train, y_train)"
   ]
  },
  {
   "cell_type": "markdown",
   "metadata": {},
   "source": [
    "## Predicting the test set results"
   ]
  },
  {
   "cell_type": "code",
   "execution_count": 12,
   "metadata": {},
   "outputs": [],
   "source": [
    "y_pred = classifier.predict(X_test)"
   ]
  },
  {
   "cell_type": "markdown",
   "metadata": {},
   "source": [
    "## Confusion matrix"
   ]
  },
  {
   "cell_type": "code",
   "execution_count": 13,
   "metadata": {},
   "outputs": [
    {
     "name": "stdout",
     "output_type": "stream",
     "text": [
      "[[112  27]\n",
      " [ 44  40]]\n"
     ]
    }
   ],
   "source": [
    "cm = confusion_matrix(y_test, y_pred)\n",
    "print(cm)"
   ]
  },
  {
   "cell_type": "markdown",
   "metadata": {},
   "source": [
    "# Visualisation"
   ]
  },
  {
   "cell_type": "markdown",
   "metadata": {},
   "source": [
    "## Import and data preprocessing"
   ]
  },
  {
   "cell_type": "markdown",
   "metadata": {},
   "source": [
    "## Visualising the training set result"
   ]
  },
  {
   "cell_type": "code",
   "execution_count": 14,
   "metadata": {
    "scrolled": true
   },
   "outputs": [
    {
     "name": "stderr",
     "output_type": "stream",
     "text": [
      "'c' argument looks like a single numeric RGB or RGBA sequence, which should be avoided as value-mapping will have precedence in case its length matches with 'x' & 'y'.  Please use a 2-D array with a single row if you really want to specify the same RGB or RGBA value for all points.\n",
      "'c' argument looks like a single numeric RGB or RGBA sequence, which should be avoided as value-mapping will have precedence in case its length matches with 'x' & 'y'.  Please use a 2-D array with a single row if you really want to specify the same RGB or RGBA value for all points.\n"
     ]
    },
    {
     "data": {
      "image/png": "[encoded data removed]",
      "text/plain": [
       "<Figure size 432x288 with 1 Axes>"
      ]
     },
     "metadata": {
      "needs_background": "light"
     },
     "output_type": "display_data"
    }
   ],
   "source": [
    "X_set, y_set = X_train, y_train\n",
    "\n",
    "X1, X2 = np.meshgrid(np.arange(start = X_set[:, 0].min() - 1, stop = X_set[:, 0].max() + 1, step = 0.01),\n",
    "                     np.arange(start = X_set[:, 1].min() - 1, stop = X_set[:, 1].max() + 1, step = 0.01))\n",
    "\n",
    "plt.contourf(X1, X2, classifier.predict(np.array([X1.ravel(), X2.ravel()]).T).reshape(X1.shape),\n",
    "             alpha = 0.75, cmap = ListedColormap(('red', 'green')))\n",
    "plt.xlim(X1.min(), X1.max())\n",
    "plt.ylim(X2.min(), X2.max())\n",
    "for i, j in enumerate(np.unique(y_set)):\n",
    "    plt.scatter(X_set[y_set == j, 0], X_set[y_set == j, 1],\n",
    "                c = ListedColormap(('red', 'green'))(i), label = j)\n",
    "plt.title('Logistic Regression (Training set)')\n",
    "plt.xlabel('Passenger class')\n",
    "plt.ylabel('Passenger age')\n",
    "plt.legend()\n",
    "plt.show()"
   ]
  },
  {
   "cell_type": "markdown",
   "metadata": {},
   "source": [
    "## Visualising the test set results"
   ]
  },
  {
   "cell_type": "code",
   "execution_count": 180,
   "metadata": {},
   "outputs": [
    {
     "name": "stderr",
     "output_type": "stream",
     "text": [
      "'c' argument looks like a single numeric RGB or RGBA sequence, which should be avoided as value-mapping will have precedence in case its length matches with 'x' & 'y'.  Please use a 2-D array with a single row if you really want to specify the same RGB or RGBA value for all points.\n",
      "'c' argument looks like a single numeric RGB or RGBA sequence, which should be avoided as value-mapping will have precedence in case its length matches with 'x' & 'y'.  Please use a 2-D array with a single row if you really want to specify the same RGB or RGBA value for all points.\n"
     ]
    },
    {
     "data": {
      "image/png": "[encoded data removed]",
      "text/plain": [
       "<Figure size 432x288 with 1 Axes>"
      ]
     },
     "metadata": {
      "needs_background": "light"
     },
     "output_type": "display_data"
    }
   ],
   "source": [
    "X_set, y_set = X_test, y_test\n",
    "\n",
    "X1, X2 = np.meshgrid(np.arange(start = X_set[:, 0].min() - 1, stop = X_set[:, 0].max() + 1, step = 0.01),\n",
    "                     np.arange(start = X_set[:, 1].min() - 1, stop = X_set[:, 1].max() + 1, step = 0.01))\n",
    "\n",
    "plt.contourf(X1, X2, classifier.predict(np.array([X1.ravel(), X2.ravel()]).T).reshape(X1.shape),\n",
    "             alpha = 0.75, cmap = ListedColormap(('red', 'green')))\n",
    "plt.xlim(X1.min(), X1.max())\n",
    "plt.ylim(X2.min(), X2.max())\n",
    "for i, j in enumerate(np.unique(y_set)):\n",
    "    plt.scatter(X_set[y_set == j, 0], X_set[y_set == j, 1],\n",
    "                c = ListedColormap(('red', 'green'))(i), label = j)\n",
    "plt.title('Logistic Regression (Test set)')\n",
    "plt.xlabel('Passenger class')\n",
    "plt.ylabel('Passenger age')\n",
    "plt.legend()\n",
    "plt.show()"
   ]
  },
  {
   "cell_type": "code",
   "execution_count": null,
   "metadata": {},
   "outputs": [],
   "source": []
  }
 ],
 "metadata": {
  "kernelspec": {
   "display_name": "Python 3",
   "language": "python",
   "name": "python3"
  },
  "language_info": {
   "codemirror_mode": {
    "name": "ipython",
    "version": 3
   },
   "file_extension": ".py",
   "mimetype": "text/x-python",
   "name": "python",
   "nbconvert_exporter": "python",
   "pygments_lexer": "ipython3",
   "version": "3.7.1"
  },
  "toc": {
   "base_numbering": 1.0,
   "nav_menu": {},
   "number_sections": true,
   "sideBar": true,
   "skip_h1_title": false,
   "title_cell": "Table of Contents",
   "title_sidebar": "Contents",
   "toc_cell": false,
   "toc_position": {
    "height": "calc(100% - 180px)",
    "left": "10px",
    "top": "150px",
    "width": "384px"
   },
   "toc_section_display": true,
   "toc_window_display": true
  }
 },
 "nbformat": 4,
 "nbformat_minor": 1
}
